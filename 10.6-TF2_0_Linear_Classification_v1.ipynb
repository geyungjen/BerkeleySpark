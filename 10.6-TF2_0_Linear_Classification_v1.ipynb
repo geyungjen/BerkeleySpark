{
 "cells": [
  {
   "cell_type": "markdown",
   "metadata": {},
   "source": [
    "### Documenation\n",
    "#### keras.io"
   ]
  },
  {
   "cell_type": "code",
   "execution_count": 1,
   "metadata": {
    "id": "DeNaBVyT4pn1"
   },
   "outputs": [
    {
     "name": "stderr",
     "output_type": "stream",
     "text": [
      "2023-05-28 11:42:19.365085: I tensorflow/core/platform/cpu_feature_guard.cc:182] This TensorFlow binary is optimized to use available CPU instructions in performance-critical operations.\n",
      "To enable the following instructions: AVX2 FMA, in other operations, rebuild TensorFlow with the appropriate compiler flags.\n"
     ]
    },
    {
     "name": "stdout",
     "output_type": "stream",
     "text": [
      "2.12.0\n"
     ]
    }
   ],
   "source": [
    "import tensorflow as tf\n",
    "print(tf.__version__)"
   ]
  },
  {
   "cell_type": "code",
   "execution_count": 2,
   "metadata": {
    "id": "EtMPQxpC4xD0"
   },
   "outputs": [
    {
     "data": {
      "text/plain": [
       "sklearn.utils._bunch.Bunch"
      ]
     },
     "execution_count": 2,
     "metadata": {},
     "output_type": "execute_result"
    }
   ],
   "source": [
    "# Load in the data\n",
    "from sklearn.datasets import load_breast_cancer\n",
    "data = load_breast_cancer()\n",
    "type(data)"
   ]
  },
  {
   "cell_type": "code",
   "execution_count": 3,
   "metadata": {
    "id": "OsWYmnYR5GQq"
   },
   "outputs": [
    {
     "data": {
      "text/plain": [
       "dict_keys(['data', 'target', 'frame', 'target_names', 'DESCR', 'feature_names', 'filename', 'data_module'])"
      ]
     },
     "execution_count": 3,
     "metadata": {},
     "output_type": "execute_result"
    }
   ],
   "source": [
    "# note: it is a Bunch object, which acts like a dictionary\n",
    "data.keys()"
   ]
  },
  {
   "cell_type": "code",
   "execution_count": 4,
   "metadata": {
    "id": "HRYJw4hN5JXD"
   },
   "outputs": [
    {
     "data": {
      "text/plain": [
       "(569, 30)"
      ]
     },
     "execution_count": 4,
     "metadata": {},
     "output_type": "execute_result"
    }
   ],
   "source": [
    "# 'data' (the attribute) means the input data\n",
    "data.data.shape"
   ]
  },
  {
   "cell_type": "code",
   "execution_count": 5,
   "metadata": {
    "id": "G5OVVVge5L-h"
   },
   "outputs": [
    {
     "data": {
      "text/plain": [
       "array([0, 0, 0, 0, 0, 0, 0, 0, 0, 0, 0, 0, 0, 0, 0, 0, 0, 0, 0, 1, 1, 1,\n",
       "       0, 0, 0, 0, 0, 0, 0, 0, 0, 0, 0, 0, 0, 0, 0, 1, 0, 0, 0, 0, 0, 0,\n",
       "       0, 0, 1, 0, 1, 1, 1, 1, 1, 0, 0, 1, 0, 0, 1, 1, 1, 1, 0, 1, 0, 0,\n",
       "       1, 1, 1, 1, 0, 1, 0, 0, 1, 0, 1, 0, 0, 1, 1, 1, 0, 0, 1, 0, 0, 0,\n",
       "       1, 1, 1, 0, 1, 1, 0, 0, 1, 1, 1, 0, 0, 1, 1, 1, 1, 0, 1, 1, 0, 1,\n",
       "       1, 1, 1, 1, 1, 1, 1, 0, 0, 0, 1, 0, 0, 1, 1, 1, 0, 0, 1, 0, 1, 0,\n",
       "       0, 1, 0, 0, 1, 1, 0, 1, 1, 0, 1, 1, 1, 1, 0, 1, 1, 1, 1, 1, 1, 1,\n",
       "       1, 1, 0, 1, 1, 1, 1, 0, 0, 1, 0, 1, 1, 0, 0, 1, 1, 0, 0, 1, 1, 1,\n",
       "       1, 0, 1, 1, 0, 0, 0, 1, 0, 1, 0, 1, 1, 1, 0, 1, 1, 0, 0, 1, 0, 0,\n",
       "       0, 0, 1, 0, 0, 0, 1, 0, 1, 0, 1, 1, 0, 1, 0, 0, 0, 0, 1, 1, 0, 0,\n",
       "       1, 1, 1, 0, 1, 1, 1, 1, 1, 0, 0, 1, 1, 0, 1, 1, 0, 0, 1, 0, 1, 1,\n",
       "       1, 1, 0, 1, 1, 1, 1, 1, 0, 1, 0, 0, 0, 0, 0, 0, 0, 0, 0, 0, 0, 0,\n",
       "       0, 0, 1, 1, 1, 1, 1, 1, 0, 1, 0, 1, 1, 0, 1, 1, 0, 1, 0, 0, 1, 1,\n",
       "       1, 1, 1, 1, 1, 1, 1, 1, 1, 1, 1, 0, 1, 1, 0, 1, 0, 1, 1, 1, 1, 1,\n",
       "       1, 1, 1, 1, 1, 1, 1, 1, 1, 0, 1, 1, 1, 0, 1, 0, 1, 1, 1, 1, 0, 0,\n",
       "       0, 1, 1, 1, 1, 0, 1, 0, 1, 0, 1, 1, 1, 0, 1, 1, 1, 1, 1, 1, 1, 0,\n",
       "       0, 0, 1, 1, 1, 1, 1, 1, 1, 1, 1, 1, 1, 0, 0, 1, 0, 0, 0, 1, 0, 0,\n",
       "       1, 1, 1, 1, 1, 0, 1, 1, 1, 1, 1, 0, 1, 1, 1, 0, 1, 1, 0, 0, 1, 1,\n",
       "       1, 1, 1, 1, 0, 1, 1, 1, 1, 1, 1, 1, 0, 1, 1, 1, 1, 1, 0, 1, 1, 0,\n",
       "       1, 1, 1, 1, 1, 1, 1, 1, 1, 1, 1, 1, 0, 1, 0, 0, 1, 0, 1, 1, 1, 1,\n",
       "       1, 0, 1, 1, 0, 1, 0, 1, 1, 0, 1, 0, 1, 1, 1, 1, 1, 1, 1, 1, 0, 0,\n",
       "       1, 1, 1, 1, 1, 1, 0, 1, 1, 1, 1, 1, 1, 1, 1, 1, 1, 0, 1, 1, 1, 1,\n",
       "       1, 1, 1, 0, 1, 0, 1, 1, 0, 1, 1, 1, 1, 1, 0, 0, 1, 0, 1, 0, 1, 1,\n",
       "       1, 1, 1, 0, 1, 1, 0, 1, 0, 1, 0, 0, 1, 1, 1, 0, 1, 1, 1, 1, 1, 1,\n",
       "       1, 1, 1, 1, 1, 0, 1, 0, 0, 1, 1, 1, 1, 1, 1, 1, 1, 1, 1, 1, 1, 1,\n",
       "       1, 1, 1, 1, 1, 1, 1, 1, 1, 1, 1, 1, 0, 0, 0, 0, 0, 0, 1])"
      ]
     },
     "execution_count": 5,
     "metadata": {},
     "output_type": "execute_result"
    }
   ],
   "source": [
    "# 'targets'\n",
    "data.target"
   ]
  },
  {
   "cell_type": "code",
   "execution_count": 6,
   "metadata": {
    "id": "YFXPFIiB5Osq"
   },
   "outputs": [
    {
     "data": {
      "text/plain": [
       "array(['malignant', 'benign'], dtype='<U9')"
      ]
     },
     "execution_count": 6,
     "metadata": {},
     "output_type": "execute_result"
    }
   ],
   "source": [
    "data.target_names"
   ]
  },
  {
   "cell_type": "code",
   "execution_count": 7,
   "metadata": {
    "id": "hujO3u7j5Qm-"
   },
   "outputs": [
    {
     "data": {
      "text/plain": [
       "(569,)"
      ]
     },
     "execution_count": 7,
     "metadata": {},
     "output_type": "execute_result"
    }
   ],
   "source": [
    "data.target.shape"
   ]
  },
  {
   "cell_type": "code",
   "execution_count": 8,
   "metadata": {
    "id": "q3o3h2l95SJ0"
   },
   "outputs": [
    {
     "data": {
      "text/plain": [
       "array(['mean radius', 'mean texture', 'mean perimeter', 'mean area',\n",
       "       'mean smoothness', 'mean compactness', 'mean concavity',\n",
       "       'mean concave points', 'mean symmetry', 'mean fractal dimension',\n",
       "       'radius error', 'texture error', 'perimeter error', 'area error',\n",
       "       'smoothness error', 'compactness error', 'concavity error',\n",
       "       'concave points error', 'symmetry error',\n",
       "       'fractal dimension error', 'worst radius', 'worst texture',\n",
       "       'worst perimeter', 'worst area', 'worst smoothness',\n",
       "       'worst compactness', 'worst concavity', 'worst concave points',\n",
       "       'worst symmetry', 'worst fractal dimension'], dtype='<U23')"
      ]
     },
     "execution_count": 8,
     "metadata": {},
     "output_type": "execute_result"
    }
   ],
   "source": [
    "data.feature_names"
   ]
  },
  {
   "cell_type": "code",
   "execution_count": 9,
   "metadata": {
    "id": "__iUSucB5Tug"
   },
   "outputs": [],
   "source": [
    "# split the data into train and test sets\n",
    "from sklearn.model_selection import train_test_split\n",
    "X_train, X_test, y_train, y_test = train_test_split(data.data, data.target, test_size=0.33)\n",
    "N, D = X_train.shape"
   ]
  },
  {
   "cell_type": "code",
   "execution_count": 10,
   "metadata": {
    "id": "fS7cFmYl73H3"
   },
   "outputs": [],
   "source": [
    "# Scale the data\n",
    "from sklearn.preprocessing import StandardScaler\n",
    "scaler = StandardScaler()\n",
    "X_train = scaler.fit_transform(X_train)\n",
    "X_test = scaler.transform(X_test)"
   ]
  },
  {
   "cell_type": "code",
   "execution_count": 11,
   "metadata": {
    "id": "y-llhgXY5bmX"
   },
   "outputs": [
    {
     "name": "stdout",
     "output_type": "stream",
     "text": [
      "Epoch 1/100\n",
      "12/12 [==============================] - 1s 17ms/step - loss: 0.8827 - accuracy: 0.4436 - val_loss: 0.8813 - val_accuracy: 0.4574\n",
      "Epoch 2/100\n",
      "12/12 [==============================] - 0s 4ms/step - loss: 0.8048 - accuracy: 0.5118 - val_loss: 0.8068 - val_accuracy: 0.5106\n",
      "Epoch 3/100\n",
      "12/12 [==============================] - 0s 4ms/step - loss: 0.7394 - accuracy: 0.5669 - val_loss: 0.7399 - val_accuracy: 0.5479\n",
      "Epoch 4/100\n",
      "12/12 [==============================] - 0s 4ms/step - loss: 0.6833 - accuracy: 0.6352 - val_loss: 0.6810 - val_accuracy: 0.6277\n",
      "Epoch 5/100\n",
      "12/12 [==============================] - 0s 4ms/step - loss: 0.6327 - accuracy: 0.6772 - val_loss: 0.6318 - val_accuracy: 0.6543\n",
      "Epoch 6/100\n",
      "12/12 [==============================] - 0s 4ms/step - loss: 0.5904 - accuracy: 0.7060 - val_loss: 0.5891 - val_accuracy: 0.7074\n",
      "Epoch 7/100\n",
      "12/12 [==============================] - 0s 4ms/step - loss: 0.5540 - accuracy: 0.7454 - val_loss: 0.5514 - val_accuracy: 0.7394\n",
      "Epoch 8/100\n",
      "12/12 [==============================] - 0s 4ms/step - loss: 0.5224 - accuracy: 0.7638 - val_loss: 0.5177 - val_accuracy: 0.7766\n",
      "Epoch 9/100\n",
      "12/12 [==============================] - 0s 4ms/step - loss: 0.4937 - accuracy: 0.7927 - val_loss: 0.4890 - val_accuracy: 0.7819\n",
      "Epoch 10/100\n",
      "12/12 [==============================] - 0s 4ms/step - loss: 0.4690 - accuracy: 0.8110 - val_loss: 0.4626 - val_accuracy: 0.7979\n",
      "Epoch 11/100\n",
      "12/12 [==============================] - 0s 4ms/step - loss: 0.4462 - accuracy: 0.8215 - val_loss: 0.4397 - val_accuracy: 0.8191\n",
      "Epoch 12/100\n",
      "12/12 [==============================] - 0s 4ms/step - loss: 0.4260 - accuracy: 0.8373 - val_loss: 0.4187 - val_accuracy: 0.8511\n",
      "Epoch 13/100\n",
      "12/12 [==============================] - 0s 4ms/step - loss: 0.4074 - accuracy: 0.8451 - val_loss: 0.3998 - val_accuracy: 0.8617\n",
      "Epoch 14/100\n",
      "12/12 [==============================] - 0s 4ms/step - loss: 0.3909 - accuracy: 0.8504 - val_loss: 0.3823 - val_accuracy: 0.8777\n",
      "Epoch 15/100\n",
      "12/12 [==============================] - 0s 4ms/step - loss: 0.3753 - accuracy: 0.8635 - val_loss: 0.3666 - val_accuracy: 0.8830\n",
      "Epoch 16/100\n",
      "12/12 [==============================] - 0s 4ms/step - loss: 0.3609 - accuracy: 0.8688 - val_loss: 0.3523 - val_accuracy: 0.8883\n",
      "Epoch 17/100\n",
      "12/12 [==============================] - 0s 4ms/step - loss: 0.3479 - accuracy: 0.8766 - val_loss: 0.3393 - val_accuracy: 0.8883\n",
      "Epoch 18/100\n",
      "12/12 [==============================] - 0s 4ms/step - loss: 0.3358 - accuracy: 0.8793 - val_loss: 0.3273 - val_accuracy: 0.8883\n",
      "Epoch 19/100\n",
      "12/12 [==============================] - 0s 4ms/step - loss: 0.3246 - accuracy: 0.8819 - val_loss: 0.3164 - val_accuracy: 0.8936\n",
      "Epoch 20/100\n",
      "12/12 [==============================] - 0s 4ms/step - loss: 0.3138 - accuracy: 0.8845 - val_loss: 0.3061 - val_accuracy: 0.8936\n",
      "Epoch 21/100\n",
      "12/12 [==============================] - 0s 4ms/step - loss: 0.3039 - accuracy: 0.8898 - val_loss: 0.2969 - val_accuracy: 0.9043\n",
      "Epoch 22/100\n",
      "12/12 [==============================] - 0s 4ms/step - loss: 0.2948 - accuracy: 0.8898 - val_loss: 0.2879 - val_accuracy: 0.9096\n",
      "Epoch 23/100\n",
      "12/12 [==============================] - 0s 4ms/step - loss: 0.2864 - accuracy: 0.9055 - val_loss: 0.2798 - val_accuracy: 0.9255\n",
      "Epoch 24/100\n",
      "12/12 [==============================] - 0s 4ms/step - loss: 0.2778 - accuracy: 0.9081 - val_loss: 0.2725 - val_accuracy: 0.9255\n",
      "Epoch 25/100\n",
      "12/12 [==============================] - 0s 4ms/step - loss: 0.2701 - accuracy: 0.9108 - val_loss: 0.2655 - val_accuracy: 0.9255\n",
      "Epoch 26/100\n",
      "12/12 [==============================] - 0s 4ms/step - loss: 0.2627 - accuracy: 0.9160 - val_loss: 0.2587 - val_accuracy: 0.9255\n",
      "Epoch 27/100\n",
      "12/12 [==============================] - 0s 4ms/step - loss: 0.2560 - accuracy: 0.9160 - val_loss: 0.2523 - val_accuracy: 0.9255\n",
      "Epoch 28/100\n",
      "12/12 [==============================] - 0s 4ms/step - loss: 0.2493 - accuracy: 0.9213 - val_loss: 0.2466 - val_accuracy: 0.9255\n",
      "Epoch 29/100\n",
      "12/12 [==============================] - 0s 4ms/step - loss: 0.2429 - accuracy: 0.9239 - val_loss: 0.2411 - val_accuracy: 0.9255\n",
      "Epoch 30/100\n",
      "12/12 [==============================] - 0s 4ms/step - loss: 0.2372 - accuracy: 0.9239 - val_loss: 0.2357 - val_accuracy: 0.9309\n",
      "Epoch 31/100\n",
      "12/12 [==============================] - 0s 4ms/step - loss: 0.2317 - accuracy: 0.9265 - val_loss: 0.2310 - val_accuracy: 0.9309\n",
      "Epoch 32/100\n",
      "12/12 [==============================] - 0s 4ms/step - loss: 0.2263 - accuracy: 0.9265 - val_loss: 0.2265 - val_accuracy: 0.9309\n",
      "Epoch 33/100\n",
      "12/12 [==============================] - 0s 4ms/step - loss: 0.2210 - accuracy: 0.9291 - val_loss: 0.2219 - val_accuracy: 0.9309\n",
      "Epoch 34/100\n",
      "12/12 [==============================] - 0s 4ms/step - loss: 0.2163 - accuracy: 0.9291 - val_loss: 0.2176 - val_accuracy: 0.9309\n",
      "Epoch 35/100\n",
      "12/12 [==============================] - 0s 4ms/step - loss: 0.2114 - accuracy: 0.9318 - val_loss: 0.2136 - val_accuracy: 0.9309\n",
      "Epoch 36/100\n",
      "12/12 [==============================] - 0s 4ms/step - loss: 0.2077 - accuracy: 0.9318 - val_loss: 0.2101 - val_accuracy: 0.9309\n",
      "Epoch 37/100\n",
      "12/12 [==============================] - 0s 4ms/step - loss: 0.2029 - accuracy: 0.9370 - val_loss: 0.2065 - val_accuracy: 0.9309\n",
      "Epoch 38/100\n",
      "12/12 [==============================] - 0s 4ms/step - loss: 0.1986 - accuracy: 0.9370 - val_loss: 0.2030 - val_accuracy: 0.9362\n",
      "Epoch 39/100\n",
      "12/12 [==============================] - 0s 4ms/step - loss: 0.1950 - accuracy: 0.9370 - val_loss: 0.1998 - val_accuracy: 0.9415\n",
      "Epoch 40/100\n",
      "12/12 [==============================] - 0s 4ms/step - loss: 0.1910 - accuracy: 0.9423 - val_loss: 0.1966 - val_accuracy: 0.9468\n",
      "Epoch 41/100\n",
      "12/12 [==============================] - 0s 4ms/step - loss: 0.1879 - accuracy: 0.9423 - val_loss: 0.1939 - val_accuracy: 0.9521\n",
      "Epoch 42/100\n",
      "12/12 [==============================] - 0s 4ms/step - loss: 0.1842 - accuracy: 0.9501 - val_loss: 0.1911 - val_accuracy: 0.9521\n",
      "Epoch 43/100\n",
      "12/12 [==============================] - 0s 4ms/step - loss: 0.1808 - accuracy: 0.9501 - val_loss: 0.1880 - val_accuracy: 0.9521\n",
      "Epoch 44/100\n",
      "12/12 [==============================] - 0s 4ms/step - loss: 0.1778 - accuracy: 0.9501 - val_loss: 0.1853 - val_accuracy: 0.9521\n",
      "Epoch 45/100\n",
      "12/12 [==============================] - 0s 4ms/step - loss: 0.1747 - accuracy: 0.9501 - val_loss: 0.1828 - val_accuracy: 0.9574\n",
      "Epoch 46/100\n",
      "12/12 [==============================] - 0s 4ms/step - loss: 0.1718 - accuracy: 0.9501 - val_loss: 0.1803 - val_accuracy: 0.9574\n",
      "Epoch 47/100\n",
      "12/12 [==============================] - 0s 4ms/step - loss: 0.1690 - accuracy: 0.9501 - val_loss: 0.1778 - val_accuracy: 0.9628\n",
      "Epoch 48/100\n",
      "12/12 [==============================] - 0s 4ms/step - loss: 0.1665 - accuracy: 0.9501 - val_loss: 0.1753 - val_accuracy: 0.9628\n",
      "Epoch 49/100\n",
      "12/12 [==============================] - 0s 4ms/step - loss: 0.1640 - accuracy: 0.9501 - val_loss: 0.1732 - val_accuracy: 0.9628\n",
      "Epoch 50/100\n",
      "12/12 [==============================] - 0s 4ms/step - loss: 0.1614 - accuracy: 0.9528 - val_loss: 0.1711 - val_accuracy: 0.9628\n",
      "Epoch 51/100\n",
      "12/12 [==============================] - 0s 4ms/step - loss: 0.1590 - accuracy: 0.9554 - val_loss: 0.1691 - val_accuracy: 0.9681\n",
      "Epoch 52/100\n",
      "12/12 [==============================] - 0s 4ms/step - loss: 0.1568 - accuracy: 0.9580 - val_loss: 0.1670 - val_accuracy: 0.9681\n",
      "Epoch 53/100\n",
      "12/12 [==============================] - 0s 4ms/step - loss: 0.1547 - accuracy: 0.9580 - val_loss: 0.1653 - val_accuracy: 0.9681\n",
      "Epoch 54/100\n",
      "12/12 [==============================] - 0s 4ms/step - loss: 0.1526 - accuracy: 0.9606 - val_loss: 0.1635 - val_accuracy: 0.9681\n",
      "Epoch 55/100\n",
      "12/12 [==============================] - 0s 4ms/step - loss: 0.1505 - accuracy: 0.9606 - val_loss: 0.1617 - val_accuracy: 0.9681\n",
      "Epoch 56/100\n",
      "12/12 [==============================] - 0s 4ms/step - loss: 0.1487 - accuracy: 0.9606 - val_loss: 0.1598 - val_accuracy: 0.9681\n",
      "Epoch 57/100\n",
      "12/12 [==============================] - 0s 4ms/step - loss: 0.1469 - accuracy: 0.9606 - val_loss: 0.1582 - val_accuracy: 0.9681\n",
      "Epoch 58/100\n",
      "12/12 [==============================] - 0s 4ms/step - loss: 0.1450 - accuracy: 0.9606 - val_loss: 0.1564 - val_accuracy: 0.9681\n"
     ]
    },
    {
     "name": "stdout",
     "output_type": "stream",
     "text": [
      "Epoch 59/100\n",
      "12/12 [==============================] - 0s 4ms/step - loss: 0.1434 - accuracy: 0.9633 - val_loss: 0.1547 - val_accuracy: 0.9681\n",
      "Epoch 60/100\n",
      "12/12 [==============================] - 0s 4ms/step - loss: 0.1417 - accuracy: 0.9633 - val_loss: 0.1531 - val_accuracy: 0.9681\n",
      "Epoch 61/100\n",
      "12/12 [==============================] - 0s 4ms/step - loss: 0.1401 - accuracy: 0.9633 - val_loss: 0.1517 - val_accuracy: 0.9681\n",
      "Epoch 62/100\n",
      "12/12 [==============================] - 0s 4ms/step - loss: 0.1387 - accuracy: 0.9633 - val_loss: 0.1499 - val_accuracy: 0.9681\n",
      "Epoch 63/100\n",
      "12/12 [==============================] - 0s 4ms/step - loss: 0.1371 - accuracy: 0.9633 - val_loss: 0.1484 - val_accuracy: 0.9681\n",
      "Epoch 64/100\n",
      "12/12 [==============================] - 0s 4ms/step - loss: 0.1357 - accuracy: 0.9633 - val_loss: 0.1470 - val_accuracy: 0.9681\n",
      "Epoch 65/100\n",
      "12/12 [==============================] - 0s 4ms/step - loss: 0.1343 - accuracy: 0.9659 - val_loss: 0.1456 - val_accuracy: 0.9681\n",
      "Epoch 66/100\n",
      "12/12 [==============================] - 0s 4ms/step - loss: 0.1330 - accuracy: 0.9659 - val_loss: 0.1444 - val_accuracy: 0.9681\n",
      "Epoch 67/100\n",
      "12/12 [==============================] - 0s 4ms/step - loss: 0.1317 - accuracy: 0.9659 - val_loss: 0.1431 - val_accuracy: 0.9681\n",
      "Epoch 68/100\n",
      "12/12 [==============================] - 0s 4ms/step - loss: 0.1305 - accuracy: 0.9659 - val_loss: 0.1419 - val_accuracy: 0.9681\n",
      "Epoch 69/100\n",
      "12/12 [==============================] - 0s 4ms/step - loss: 0.1293 - accuracy: 0.9685 - val_loss: 0.1407 - val_accuracy: 0.9681\n",
      "Epoch 70/100\n",
      "12/12 [==============================] - 0s 4ms/step - loss: 0.1282 - accuracy: 0.9685 - val_loss: 0.1394 - val_accuracy: 0.9734\n",
      "Epoch 71/100\n",
      "12/12 [==============================] - 0s 4ms/step - loss: 0.1270 - accuracy: 0.9685 - val_loss: 0.1381 - val_accuracy: 0.9734\n",
      "Epoch 72/100\n",
      "12/12 [==============================] - 0s 4ms/step - loss: 0.1259 - accuracy: 0.9685 - val_loss: 0.1370 - val_accuracy: 0.9734\n",
      "Epoch 73/100\n",
      "12/12 [==============================] - 0s 4ms/step - loss: 0.1249 - accuracy: 0.9685 - val_loss: 0.1359 - val_accuracy: 0.9734\n",
      "Epoch 74/100\n",
      "12/12 [==============================] - 0s 4ms/step - loss: 0.1238 - accuracy: 0.9685 - val_loss: 0.1348 - val_accuracy: 0.9734\n",
      "Epoch 75/100\n",
      "12/12 [==============================] - 0s 4ms/step - loss: 0.1228 - accuracy: 0.9711 - val_loss: 0.1337 - val_accuracy: 0.9787\n",
      "Epoch 76/100\n",
      "12/12 [==============================] - 0s 4ms/step - loss: 0.1218 - accuracy: 0.9711 - val_loss: 0.1327 - val_accuracy: 0.9787\n",
      "Epoch 77/100\n",
      "12/12 [==============================] - 0s 4ms/step - loss: 0.1209 - accuracy: 0.9711 - val_loss: 0.1316 - val_accuracy: 0.9787\n",
      "Epoch 78/100\n",
      "12/12 [==============================] - 0s 4ms/step - loss: 0.1200 - accuracy: 0.9711 - val_loss: 0.1306 - val_accuracy: 0.9787\n",
      "Epoch 79/100\n",
      "12/12 [==============================] - 0s 4ms/step - loss: 0.1191 - accuracy: 0.9738 - val_loss: 0.1295 - val_accuracy: 0.9787\n",
      "Epoch 80/100\n",
      "12/12 [==============================] - 0s 4ms/step - loss: 0.1182 - accuracy: 0.9738 - val_loss: 0.1285 - val_accuracy: 0.9787\n",
      "Epoch 81/100\n",
      "12/12 [==============================] - 0s 4ms/step - loss: 0.1174 - accuracy: 0.9738 - val_loss: 0.1278 - val_accuracy: 0.9787\n",
      "Epoch 82/100\n",
      "12/12 [==============================] - 0s 4ms/step - loss: 0.1165 - accuracy: 0.9738 - val_loss: 0.1268 - val_accuracy: 0.9787\n",
      "Epoch 83/100\n",
      "12/12 [==============================] - 0s 4ms/step - loss: 0.1158 - accuracy: 0.9738 - val_loss: 0.1259 - val_accuracy: 0.9787\n",
      "Epoch 84/100\n",
      "12/12 [==============================] - 0s 4ms/step - loss: 0.1149 - accuracy: 0.9738 - val_loss: 0.1250 - val_accuracy: 0.9787\n",
      "Epoch 85/100\n",
      "12/12 [==============================] - 0s 4ms/step - loss: 0.1142 - accuracy: 0.9738 - val_loss: 0.1242 - val_accuracy: 0.9787\n",
      "Epoch 86/100\n",
      "12/12 [==============================] - 0s 4ms/step - loss: 0.1134 - accuracy: 0.9738 - val_loss: 0.1233 - val_accuracy: 0.9787\n",
      "Epoch 87/100\n",
      "12/12 [==============================] - 0s 4ms/step - loss: 0.1127 - accuracy: 0.9738 - val_loss: 0.1223 - val_accuracy: 0.9787\n",
      "Epoch 88/100\n",
      "12/12 [==============================] - 0s 4ms/step - loss: 0.1120 - accuracy: 0.9738 - val_loss: 0.1216 - val_accuracy: 0.9787\n",
      "Epoch 89/100\n",
      "12/12 [==============================] - 0s 4ms/step - loss: 0.1113 - accuracy: 0.9738 - val_loss: 0.1209 - val_accuracy: 0.9787\n",
      "Epoch 90/100\n",
      "12/12 [==============================] - 0s 4ms/step - loss: 0.1106 - accuracy: 0.9738 - val_loss: 0.1202 - val_accuracy: 0.9787\n",
      "Epoch 91/100\n",
      "12/12 [==============================] - 0s 4ms/step - loss: 0.1099 - accuracy: 0.9738 - val_loss: 0.1194 - val_accuracy: 0.9787\n",
      "Epoch 92/100\n",
      "12/12 [==============================] - 0s 4ms/step - loss: 0.1093 - accuracy: 0.9738 - val_loss: 0.1187 - val_accuracy: 0.9787\n",
      "Epoch 93/100\n",
      "12/12 [==============================] - 0s 4ms/step - loss: 0.1086 - accuracy: 0.9738 - val_loss: 0.1180 - val_accuracy: 0.9787\n",
      "Epoch 94/100\n",
      "12/12 [==============================] - 0s 4ms/step - loss: 0.1080 - accuracy: 0.9738 - val_loss: 0.1173 - val_accuracy: 0.9787\n",
      "Epoch 95/100\n",
      "12/12 [==============================] - 0s 4ms/step - loss: 0.1074 - accuracy: 0.9738 - val_loss: 0.1166 - val_accuracy: 0.9787\n",
      "Epoch 96/100\n",
      "12/12 [==============================] - 0s 4ms/step - loss: 0.1068 - accuracy: 0.9738 - val_loss: 0.1159 - val_accuracy: 0.9787\n",
      "Epoch 97/100\n",
      "12/12 [==============================] - 0s 4ms/step - loss: 0.1062 - accuracy: 0.9738 - val_loss: 0.1152 - val_accuracy: 0.9787\n",
      "Epoch 98/100\n",
      "12/12 [==============================] - 0s 4ms/step - loss: 0.1056 - accuracy: 0.9738 - val_loss: 0.1145 - val_accuracy: 0.9787\n",
      "Epoch 99/100\n",
      "12/12 [==============================] - 0s 4ms/step - loss: 0.1051 - accuracy: 0.9738 - val_loss: 0.1139 - val_accuracy: 0.9787\n",
      "Epoch 100/100\n",
      "12/12 [==============================] - 0s 4ms/step - loss: 0.1045 - accuracy: 0.9738 - val_loss: 0.1133 - val_accuracy: 0.9787\n",
      "12/12 [==============================] - 0s 1ms/step - loss: 0.1042 - accuracy: 0.9738\n",
      "Train score: [0.10418544709682465, 0.9737532734870911]\n",
      "6/6 [==============================] - 0s 1ms/step - loss: 0.1133 - accuracy: 0.9787\n",
      "Test score: [0.11333450675010681, 0.978723406791687]\n"
     ]
    }
   ],
   "source": [
    "# Build the model\n",
    "model = tf.keras.models.Sequential([\n",
    "  tf.keras.layers.Input(shape=(D,)),\n",
    "  tf.keras.layers.Dense(1, activation='sigmoid')\n",
    "])\n",
    "\n",
    "# Alternatively, you can do:\n",
    "# model = tf.keras.models.Sequential()\n",
    "# model.add(tf.keras.layers.Dense(1, input_shape=(D,), activation='sigmoid'))\n",
    "\n",
    "model.compile(optimizer='adam',\n",
    "              loss='binary_crossentropy',\n",
    "              metrics=['accuracy'])\n",
    "\n",
    "# Train the model\n",
    "r = model.fit(X_train, y_train, validation_data=(X_test, y_test), epochs=100)\n",
    "\n",
    "# Evaluate the model - evaluate() returns loss and accuracy\n",
    "print(\"Train score:\", model.evaluate(X_train, y_train))\n",
    "print(\"Test score:\", model.evaluate(X_test, y_test))"
   ]
  },
  {
   "cell_type": "code",
   "execution_count": 12,
   "metadata": {
    "id": "W0fK5PQc8aJ_"
   },
   "outputs": [
    {
     "data": {
      "text/plain": [
       "<matplotlib.legend.Legend at 0x1605306a0>"
      ]
     },
     "execution_count": 12,
     "metadata": {},
     "output_type": "execute_result"
    },
    {
     "data": {
      "image/png": "[encoded data removed]",
      "text/plain": [
       "<Figure size 640x480 with 1 Axes>"
      ]
     },
     "metadata": {},
     "output_type": "display_data"
    }
   ],
   "source": [
    "# Plot what's returned by model.fit()\n",
    "import matplotlib.pyplot as plt\n",
    "plt.plot(r.history['loss'], label='loss')\n",
    "plt.plot(r.history['val_loss'], label='val_loss')\n",
    "plt.legend()"
   ]
  },
  {
   "cell_type": "code",
   "execution_count": 13,
   "metadata": {
    "id": "VBAA2UY28vJN"
   },
   "outputs": [
    {
     "data": {
      "text/plain": [
       "<matplotlib.legend.Legend at 0x1619b1c30>"
      ]
     },
     "execution_count": 13,
     "metadata": {},
     "output_type": "execute_result"
    },
    {
     "data": {
      "image/png": "[encoded data removed]",
      "text/plain": [
       "<Figure size 640x480 with 1 Axes>"
      ]
     },
     "metadata": {},
     "output_type": "display_data"
    }
   ],
   "source": [
    "# Plot the accuracy too\n",
    "plt.plot(r.history['accuracy'], label='acc')\n",
    "plt.plot(r.history['val_accuracy'], label='val_acc')\n",
    "plt.legend()"
   ]
  },
  {
   "cell_type": "code",
   "execution_count": 14,
   "metadata": {
    "id": "Ss1LJwIVKREf"
   },
   "outputs": [
    {
     "name": "stdout",
     "output_type": "stream",
     "text": [
      "6/6 [==============================] - 0s 1ms/step\n",
      "[[9.93622541e-01]\n",
      " [9.87284660e-01]\n",
      " [9.97515261e-01]\n",
      " [1.11854158e-01]\n",
      " [9.99912441e-01]\n",
      " [1.21099032e-01]\n",
      " [5.60755908e-01]\n",
      " [2.81364799e-01]\n",
      " [9.89311457e-01]\n",
      " [9.93560076e-01]\n",
      " [3.13894153e-02]\n",
      " [1.83715951e-02]\n",
      " [9.82807279e-01]\n",
      " [9.85074937e-01]\n",
      " [9.98833060e-01]\n",
      " [9.99389648e-01]\n",
      " [9.86014783e-01]\n",
      " [9.75707531e-01]\n",
      " [9.42592084e-01]\n",
      " [8.82003009e-01]\n",
      " [9.68184054e-01]\n",
      " [7.02518940e-01]\n",
      " [1.45886594e-03]\n",
      " [9.86959815e-01]\n",
      " [9.83092129e-01]\n",
      " [9.47144032e-01]\n",
      " [9.46721554e-01]\n",
      " [2.48186785e-04]\n",
      " [8.26240182e-01]\n",
      " [4.39623296e-02]\n",
      " [6.15945645e-02]\n",
      " [9.24554884e-01]\n",
      " [3.34250748e-01]\n",
      " [9.49435532e-01]\n",
      " [8.18469882e-01]\n",
      " [8.04782271e-01]\n",
      " [8.72931063e-01]\n",
      " [9.93778586e-01]\n",
      " [9.99777615e-01]\n",
      " [8.89238179e-01]\n",
      " [4.36920207e-04]\n",
      " [9.44312096e-01]\n",
      " [9.96918321e-01]\n",
      " [7.14402556e-01]\n",
      " [1.72768232e-05]\n",
      " [8.46620440e-01]\n",
      " [1.42873416e-03]\n",
      " [9.99052465e-01]\n",
      " [8.31407476e-07]\n",
      " [5.11055402e-02]\n",
      " [9.55056608e-01]\n",
      " [7.62911260e-01]\n",
      " [9.99320984e-01]\n",
      " [9.99974430e-01]\n",
      " [8.95893514e-01]\n",
      " [9.24678981e-01]\n",
      " [4.41100061e-01]\n",
      " [5.20884581e-02]\n",
      " [9.62344289e-01]\n",
      " [8.90680682e-03]\n",
      " [9.93254185e-01]\n",
      " [8.40059221e-01]\n",
      " [9.36110497e-01]\n",
      " [9.94369566e-01]\n",
      " [3.24265212e-01]\n",
      " [5.23850098e-02]\n",
      " [3.75645846e-01]\n",
      " [9.94013727e-01]\n",
      " [9.28779364e-01]\n",
      " [9.71098542e-02]\n",
      " [9.34235036e-01]\n",
      " [9.92102146e-01]\n",
      " [1.06096193e-01]\n",
      " [9.76325929e-01]\n",
      " [9.97848153e-01]\n",
      " [9.08594310e-01]\n",
      " [7.68972993e-01]\n",
      " [9.69431818e-01]\n",
      " [9.98690486e-01]\n",
      " [5.80320880e-03]\n",
      " [9.38610792e-01]\n",
      " [9.42967892e-01]\n",
      " [5.44678932e-03]\n",
      " [6.05102861e-04]\n",
      " [9.98683095e-01]\n",
      " [9.71559894e-06]\n",
      " [1.89087703e-04]\n",
      " [9.94107723e-01]\n",
      " [9.51958358e-01]\n",
      " [6.66291535e-01]\n",
      " [3.86081524e-02]\n",
      " [8.45694184e-01]\n",
      " [9.95214045e-01]\n",
      " [1.81550393e-03]\n",
      " [8.70281935e-01]\n",
      " [9.95690346e-01]\n",
      " [3.34501982e-01]\n",
      " [7.62871560e-03]\n",
      " [6.89142793e-02]\n",
      " [3.46233010e-01]\n",
      " [9.49102640e-01]\n",
      " [4.48646722e-04]\n",
      " [1.07363276e-02]\n",
      " [3.08660907e-03]\n",
      " [6.91074848e-01]\n",
      " [1.27013192e-01]\n",
      " [4.47582975e-02]\n",
      " [9.46385264e-01]\n",
      " [5.88993788e-01]\n",
      " [2.39174673e-03]\n",
      " [2.25202821e-05]\n",
      " [5.12329526e-02]\n",
      " [9.93006706e-01]\n",
      " [4.19697380e-06]\n",
      " [9.92464483e-01]\n",
      " [9.73543167e-01]\n",
      " [9.99283671e-01]\n",
      " [9.94135559e-01]\n",
      " [9.97993112e-01]\n",
      " [1.51779398e-03]\n",
      " [8.66184354e-01]\n",
      " [9.76681530e-01]\n",
      " [9.69867766e-01]\n",
      " [9.39737201e-01]\n",
      " [9.57877398e-01]\n",
      " [8.37428749e-01]\n",
      " [1.19154633e-04]\n",
      " [9.72528577e-01]\n",
      " [9.40672338e-01]\n",
      " [4.53204243e-03]\n",
      " [4.94248598e-05]\n",
      " [9.97853339e-01]\n",
      " [2.02521980e-02]\n",
      " [1.21863722e-03]\n",
      " [1.77248307e-02]\n",
      " [3.66496742e-01]\n",
      " [9.95634556e-01]\n",
      " [9.82680559e-01]\n",
      " [1.24071755e-01]\n",
      " [9.72855449e-01]\n",
      " [4.82617179e-05]\n",
      " [9.69885886e-01]\n",
      " [9.51119244e-01]\n",
      " [2.70745484e-03]\n",
      " [9.76516366e-01]\n",
      " [9.62347925e-01]\n",
      " [9.99346793e-01]\n",
      " [1.65558919e-01]\n",
      " [9.61329401e-01]\n",
      " [5.61985280e-03]\n",
      " [1.93605621e-04]\n",
      " [9.82275188e-01]\n",
      " [9.90817130e-01]\n",
      " [1.06369007e-04]\n",
      " [7.48250544e-01]\n",
      " [2.07315814e-02]\n",
      " [8.80266666e-01]\n",
      " [9.61003542e-01]\n",
      " [9.96505439e-01]\n",
      " [9.17559385e-01]\n",
      " [9.36746418e-01]\n",
      " [9.76516008e-01]\n",
      " [9.16694999e-01]\n",
      " [9.97139871e-01]\n",
      " [9.90667224e-01]\n",
      " [9.56404507e-01]\n",
      " [9.78905141e-01]\n",
      " [9.83770847e-01]\n",
      " [3.93837839e-01]\n",
      " [9.97087717e-01]\n",
      " [9.22159851e-01]\n",
      " [2.26304430e-04]\n",
      " [9.96188343e-01]\n",
      " [3.35511833e-01]\n",
      " [5.50001681e-01]\n",
      " [7.60138094e-01]\n",
      " [3.57739516e-02]\n",
      " [4.90344421e-04]\n",
      " [1.42816762e-05]\n",
      " [8.76120850e-02]\n",
      " [8.59316066e-03]\n",
      " [9.87054706e-01]\n",
      " [9.76323605e-01]\n",
      " [9.04820621e-01]\n",
      " [9.74931955e-01]\n",
      " [9.76610363e-01]\n",
      " [1.76310450e-01]\n",
      " [9.88784075e-01]]\n"
     ]
    }
   ],
   "source": [
    "# Make predictions\n",
    "P = model.predict(X_test) # outputs of the sigmoid, as probabilities p(y = 1|x)\n",
    "print(P) "
   ]
  },
  {
   "cell_type": "code",
   "execution_count": 15,
   "metadata": {
    "id": "Tv0cN7J6KoVu"
   },
   "outputs": [
    {
     "name": "stdout",
     "output_type": "stream",
     "text": [
      "[1. 1. 1. 0. 1. 0. 1. 0. 1. 1. 0. 0. 1. 1. 1. 1. 1. 1. 1. 1. 1. 1. 0. 1.\n",
      " 1. 1. 1. 0. 1. 0. 0. 1. 0. 1. 1. 1. 1. 1. 1. 1. 0. 1. 1. 1. 0. 1. 0. 1.\n",
      " 0. 0. 1. 1. 1. 1. 1. 1. 0. 0. 1. 0. 1. 1. 1. 1. 0. 0. 0. 1. 1. 0. 1. 1.\n",
      " 0. 1. 1. 1. 1. 1. 1. 0. 1. 1. 0. 0. 1. 0. 0. 1. 1. 1. 0. 1. 1. 0. 1. 1.\n",
      " 0. 0. 0. 0. 1. 0. 0. 0. 1. 0. 0. 1. 1. 0. 0. 0. 1. 0. 1. 1. 1. 1. 1. 0.\n",
      " 1. 1. 1. 1. 1. 1. 0. 1. 1. 0. 0. 1. 0. 0. 0. 0. 1. 1. 0. 1. 0. 1. 1. 0.\n",
      " 1. 1. 1. 0. 1. 0. 0. 1. 1. 0. 1. 0. 1. 1. 1. 1. 1. 1. 1. 1. 1. 1. 1. 1.\n",
      " 0. 1. 1. 0. 1. 0. 1. 1. 0. 0. 0. 0. 0. 1. 1. 1. 1. 1. 0. 1.]\n"
     ]
    }
   ],
   "source": [
    "# Round to get the actual predictions; flattened to compare with the targets. \n",
    "import numpy as np\n",
    "P = np.round(P).flatten()\n",
    "print(P)"
   ]
  },
  {
   "cell_type": "code",
   "execution_count": 16,
   "metadata": {
    "id": "yJU09XkmK4nQ"
   },
   "outputs": [
    {
     "name": "stdout",
     "output_type": "stream",
     "text": [
      "Manually calculated accuracy: 0.9787234042553191\n",
      "6/6 [==============================] - 0s 1ms/step - loss: 0.1133 - accuracy: 0.9787\n",
      "Evaluate output: [0.11333450675010681, 0.978723406791687]\n"
     ]
    }
   ],
   "source": [
    "# Calculate the accuracy, compare it to evaluate() output\n",
    "print(\"Manually calculated accuracy:\", np.mean(P == y_test))\n",
    "print(\"Evaluate output:\", model.evaluate(X_test, y_test))"
   ]
  },
  {
   "cell_type": "code",
   "execution_count": 17,
   "metadata": {
    "id": "L1uHxJ2SNXan"
   },
   "outputs": [],
   "source": [
    "# save the model (weight) to a file\n",
    "model.save('linearclassifier.h5')"
   ]
  },
  {
   "cell_type": "code",
   "execution_count": 18,
   "metadata": {
    "id": "FgFBrBveNoOR"
   },
   "outputs": [
    {
     "name": "stdout",
     "output_type": "stream",
     "text": [
      "[<keras.layers.core.dense.Dense object at 0x161a9c1c0>]\n",
      "6/6 [==============================] - 0s 1ms/step - loss: 0.1133 - accuracy: 0.9787\n"
     ]
    },
    {
     "data": {
      "text/plain": [
       "[0.11333450675010681, 0.978723406791687]"
      ]
     },
     "execution_count": 18,
     "metadata": {},
     "output_type": "execute_result"
    }
   ],
   "source": [
    "# Let's load the model and confirm that it still works\n",
    "model = tf.keras.models.load_model('linearclassifier.h5')\n",
    "print(model.layers)\n",
    "model.evaluate(X_test, y_test)"
   ]
  },
  {
   "cell_type": "code",
   "execution_count": null,
   "metadata": {},
   "outputs": [],
   "source": []
  }
 ],
 "metadata": {
  "colab": {
   "collapsed_sections": [],
   "name": "Copy of TF2.0 Linear Classification.ipynb",
   "provenance": []
  },
  "kernelspec": {
   "display_name": "Python 3 (ipykernel)",
   "language": "python",
   "name": "python3"
  },
  "language_info": {
   "codemirror_mode": {
    "name": "ipython",
    "version": 3
   },
   "file_extension": ".py",
   "mimetype": "text/x-python",
   "name": "python",
   "nbconvert_exporter": "python",
   "pygments_lexer": "ipython3",
   "version": "3.10.9"
  }
 },
 "nbformat": 4,
 "nbformat_minor": 1
}
