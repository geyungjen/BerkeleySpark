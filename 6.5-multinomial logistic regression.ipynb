{
 "cells": [
  {
   "cell_type": "code",
   "execution_count": 1,
   "id": "455f3405",
   "metadata": {},
   "outputs": [],
   "source": [
    "from pyspark import SparkContext, SparkConf\n",
    "from pyspark.sql import SparkSession\n",
    "from pyspark.ml.classification import LogisticRegression"
   ]
  },
  {
   "cell_type": "code",
   "execution_count": 2,
   "id": "a96c734f",
   "metadata": {},
   "outputs": [
    {
     "name": "stderr",
     "output_type": "stream",
     "text": [
      "Setting default log level to \"WARN\".\n",
      "To adjust logging level use sc.setLogLevel(newLevel). For SparkR, use setLogLevel(newLevel).\n"
     ]
    },
    {
     "name": "stdout",
     "output_type": "stream",
     "text": [
      "23/04/19 17:29:24 WARN NativeCodeLoader: Unable to load native-hadoop library for your platform... using builtin-java classes where applicable\n"
     ]
    }
   ],
   "source": [
    "sc = SparkContext(conf=SparkConf())\n",
    "spark = SparkSession(sparkContext=sc)"
   ]
  },
  {
   "cell_type": "code",
   "execution_count": 3,
   "id": "a3888648",
   "metadata": {},
   "outputs": [
    {
     "name": "stdout",
     "output_type": "stream",
     "text": [
      "23/04/19 17:29:28 WARN LibSVMFileFormat: 'numFeatures' option not specified, determining the number of features by going though the input. If you know the number in advance, please specify it via 'numFeatures' option to avoid the extra scan.\n"
     ]
    }
   ],
   "source": [
    "#Load training data\n",
    "data = spark.read.format(\"libsvm\").load(\"data/SparkData/sample_multiclass_classification_data.txt\")"
   ]
  },
  {
   "cell_type": "code",
   "execution_count": 4,
   "id": "304daa93",
   "metadata": {},
   "outputs": [
    {
     "name": "stdout",
     "output_type": "stream",
     "text": [
      "+-----+\n",
      "|label|\n",
      "+-----+\n",
      "|  0.0|\n",
      "|  1.0|\n",
      "|  2.0|\n",
      "+-----+\n",
      "\n"
     ]
    }
   ],
   "source": [
    "data.select('label').distinct().show()"
   ]
  },
  {
   "cell_type": "code",
   "execution_count": 5,
   "id": "645666b4",
   "metadata": {},
   "outputs": [
    {
     "name": "stdout",
     "output_type": "stream",
     "text": [
      "+-----+--------------------+\n",
      "|label|            features|\n",
      "+-----+--------------------+\n",
      "|  1.0|(4,[0,1,2,3],[-0....|\n",
      "|  1.0|(4,[0,1,2,3],[-0....|\n",
      "|  1.0|(4,[0,1,2,3],[-0....|\n",
      "|  1.0|(4,[0,1,2,3],[-0....|\n",
      "|  0.0|(4,[0,1,2,3],[0.1...|\n",
      "|  1.0|(4,[0,2,3],[-0.83...|\n",
      "|  2.0|(4,[0,1,2,3],[-1....|\n",
      "|  2.0|(4,[0,1,2,3],[-1....|\n",
      "|  1.0|(4,[0,1,2,3],[-0....|\n",
      "|  0.0|(4,[0,2,3],[0.611...|\n",
      "|  0.0|(4,[0,1,2,3],[0.2...|\n",
      "|  1.0|(4,[0,1,2,3],[-0....|\n",
      "|  1.0|(4,[0,1,2,3],[-0....|\n",
      "|  2.0|(4,[0,1,2,3],[-0....|\n",
      "|  2.0|(4,[0,1,2,3],[-0....|\n",
      "|  2.0|(4,[0,1,2,3],[-0....|\n",
      "|  1.0|(4,[0,2,3],[-0.94...|\n",
      "|  2.0|(4,[0,1,2,3],[-0....|\n",
      "|  0.0|(4,[0,1,2,3],[0.1...|\n",
      "|  2.0|(4,[0,1,2,3],[-0....|\n",
      "+-----+--------------------+\n",
      "only showing top 20 rows\n",
      "\n"
     ]
    }
   ],
   "source": [
    "data.show()"
   ]
  },
  {
   "cell_type": "code",
   "execution_count": 6,
   "id": "855d3c71",
   "metadata": {},
   "outputs": [],
   "source": [
    "trainingData, testData = data.randomSplit([0.8,0.2])"
   ]
  },
  {
   "cell_type": "code",
   "execution_count": 7,
   "id": "39fa4913",
   "metadata": {},
   "outputs": [],
   "source": [
    "lr = LogisticRegression(maxIter=10,regParam=0.3,elasticNetParam=0.8, \\\n",
    "                        featuresCol='features', labelCol='label')"
   ]
  },
  {
   "cell_type": "code",
   "execution_count": 8,
   "id": "2503579c",
   "metadata": {},
   "outputs": [
    {
     "name": "stdout",
     "output_type": "stream",
     "text": [
      "23/04/19 17:29:41 WARN InstanceBuilder$NativeBLAS: Failed to load implementation from:dev.ludovic.netlib.blas.JNIBLAS\n",
      "23/04/19 17:29:41 WARN InstanceBuilder$NativeBLAS: Failed to load implementation from:dev.ludovic.netlib.blas.ForeignLinkerBLAS\n"
     ]
    }
   ],
   "source": [
    "#Fit the model\n",
    "model=lr.fit(trainingData)"
   ]
  },
  {
   "cell_type": "code",
   "execution_count": 9,
   "id": "c92a37c3",
   "metadata": {},
   "outputs": [
    {
     "name": "stdout",
     "output_type": "stream",
     "text": [
      "+-----+--------------------+--------------------+--------------------+----------+\n",
      "|label|            features|       rawPrediction|         probability|prediction|\n",
      "+-----+--------------------+--------------------+--------------------+----------+\n",
      "|  0.0|(4,[0,1,2,3],[-0....|[0.23312639945627...|[0.43607729162398...|       0.0|\n",
      "|  0.0|(4,[0,1,2,3],[-0....|[0.36153537709673...|[0.47927564629652...|       0.0|\n",
      "|  0.0|(4,[0,1,2,3],[-0....|[0.20744472720070...|[0.42737998054428...|       0.0|\n",
      "|  0.0|(4,[0,1,2,3],[-1....|[0.20744472720070...|[0.42331846871949...|       0.0|\n",
      "|  0.0|(4,[0,1,2,3],[0.0...|[0.33585339665986...|[0.47600553321122...|       0.0|\n",
      "+-----+--------------------+--------------------+--------------------+----------+\n",
      "only showing top 5 rows\n",
      "\n"
     ]
    }
   ],
   "source": [
    "# Make predictions.\n",
    "predictions = model.transform(testData)\n",
    "# Select example rows to display. \n",
    "predictions.show(5)\n",
    "#predictions.show(5, False)"
   ]
  },
  {
   "cell_type": "code",
   "execution_count": 10,
   "id": "66bed129",
   "metadata": {},
   "outputs": [
    {
     "name": "stdout",
     "output_type": "stream",
     "text": [
      "+-----+---------------------------------------------------------------+------------------------------------------------------------+----------+\n",
      "|label|rawPrediction                                                  |probability                                                 |prediction|\n",
      "+-----+---------------------------------------------------------------+------------------------------------------------------------+----------+\n",
      "|2.0  |[0.0019904246122268987,0.00927824373871125,0.12291786546544656]|[0.3188920452345591,0.321224561937253,0.359883392828188]    |2.0       |\n",
      "|2.0  |[0.13039940225268692,-0.4077311753784001,0.12291786546544656]  |[0.38814073944016914,0.22661157460288997,0.3852476859569409]|0.0       |\n",
      "|2.0  |[0.027672096867798986,-0.10010548192079238,0.12291786546544656]|[0.33557291915227994,0.2953206451368201,0.36910643571089996]|2.0       |\n",
      "|2.0  |[0.07903573712287779,-0.2669093097923858,0.12291786546544656]  |[0.36331789152363697,0.2570660712276313,0.3796160372487318] |2.0       |\n",
      "|2.0  |[0.05335398485028092,-0.2354720775705657,0.12291786546544656]  |[0.3544612263426966,0.2655419685831991,0.3799968050741042]  |2.0       |\n",
      "+-----+---------------------------------------------------------------+------------------------------------------------------------+----------+\n",
      "only showing top 5 rows\n",
      "\n"
     ]
    }
   ],
   "source": [
    "predictions.select('label', 'rawPrediction', 'probability', 'prediction').filter('label = 2.0').show(5, False)"
   ]
  },
  {
   "cell_type": "code",
   "execution_count": 11,
   "id": "67c382af",
   "metadata": {},
   "outputs": [
    {
     "name": "stdout",
     "output_type": "stream",
     "text": [
      "Coefficients: 3 X 4 CSRMatrix\n",
      "(0,3) 0.3082\n",
      "(1,2) -0.7665\n",
      "(1,3) -0.3772\n",
      "Intercepts: [0.07903574956024295,-0.2019536150256895,0.12291786546544656]\n"
     ]
    }
   ],
   "source": [
    "# Print the coefficients and intercept for multinomial logistic regression \n",
    "print(\"Coefficients: {}\".format(model.coefficientMatrix)) \n",
    "print(\"Intercepts: {}\".format(model.interceptVector))"
   ]
  },
  {
   "cell_type": "code",
   "execution_count": 12,
   "id": "bc0f9d67",
   "metadata": {},
   "outputs": [],
   "source": [
    "trainingSummary = model.summary"
   ]
  },
  {
   "cell_type": "code",
   "execution_count": 13,
   "id": "18eae761",
   "metadata": {},
   "outputs": [
    {
     "name": "stdout",
     "output_type": "stream",
     "text": [
      "False positive rate by label:\n",
      "label 0:0.17567567567567569\n",
      "label 1:0.0\n",
      "label 2:0.0136986301369863\n"
     ]
    }
   ],
   "source": [
    "# for multiclass, we can inspect metrics on a per-label basis \n",
    "print(\"False positive rate by label:\")\n",
    "for i in range(len(trainingSummary.falsePositiveRateByLabel)):\n",
    "    print(\"label {}:{}\".format(i,trainingSummary.falsePositiveRateByLabel[i]))"
   ]
  },
  {
   "cell_type": "code",
   "execution_count": 14,
   "id": "f575918d",
   "metadata": {},
   "outputs": [
    {
     "name": "stdout",
     "output_type": "stream",
     "text": [
      "True positive rate by label:\n",
      "label 0:0.9743589743589743\n",
      "label 1:1.0\n",
      "label 2:0.675\n"
     ]
    }
   ],
   "source": [
    "print(\"True positive rate by label:\")\n",
    "for i in range(len(trainingSummary.truePositiveRateByLabel)):\n",
    "    print(\"label {}:{}\".format(i,trainingSummary.truePositiveRateByLabel[i]))\n"
   ]
  },
  {
   "cell_type": "code",
   "execution_count": 15,
   "id": "1a8334a2",
   "metadata": {},
   "outputs": [
    {
     "name": "stdout",
     "output_type": "stream",
     "text": [
      "Precision by label:\n",
      "label 0:0.7450980392156863\n",
      "label 1:1.0\n",
      "label 2:0.9642857142857143\n"
     ]
    }
   ],
   "source": [
    "print(\"Precision by label:\")\n",
    "for i in range(len(trainingSummary.precisionByLabel)):\n",
    "    print(\"label {}:{}\".format(i,trainingSummary.precisionByLabel[i]))\n"
   ]
  },
  {
   "cell_type": "code",
   "execution_count": 16,
   "id": "47d1c1cd",
   "metadata": {},
   "outputs": [
    {
     "name": "stdout",
     "output_type": "stream",
     "text": [
      "Recall by label:\n",
      "label 0:0.9743589743589743\n",
      "label 1:1.0\n",
      "label 2:0.675\n"
     ]
    }
   ],
   "source": [
    "print(\"Recall by label:\")\n",
    "for i in range(len(trainingSummary.recallByLabel)):\n",
    "    print(\"label {}:{}\".format(i,trainingSummary.recallByLabel[i]))\n"
   ]
  },
  {
   "cell_type": "code",
   "execution_count": 17,
   "id": "cf6d10d9",
   "metadata": {},
   "outputs": [
    {
     "name": "stdout",
     "output_type": "stream",
     "text": [
      "F-measure by label:\n",
      "label 0:0.8444444444444443\n",
      "label 1:1.0\n",
      "label 2:0.7941176470588236\n"
     ]
    }
   ],
   "source": [
    "print(\"F-measure by label:\")\n",
    "for i in range(len(trainingSummary.fMeasureByLabel())):\n",
    "    print(\"label {}:{}\".format(i,trainingSummary.fMeasureByLabel()[i])) "
   ]
  },
  {
   "cell_type": "code",
   "execution_count": 18,
   "id": "87071ced",
   "metadata": {},
   "outputs": [],
   "source": [
    "accuracy = trainingSummary.accuracy"
   ]
  },
  {
   "cell_type": "code",
   "execution_count": 19,
   "id": "854308cc",
   "metadata": {},
   "outputs": [
    {
     "name": "stdout",
     "output_type": "stream",
     "text": [
      "Accuracy: 0.8761061946902655\n",
      "FPR: 0.06548050050292747\n",
      "TPR: 0.8761061946902655\n",
      "F-measure: 0.8734339753600555\n",
      "Precision: 0.8993827619543393\n",
      "Rec all: 0.8761061946902655\n"
     ]
    }
   ],
   "source": [
    "falsePositiveRate = trainingSummary.weightedFalsePositiveRate \n",
    "truePositiveRate = trainingSummary.weightedTruePositiveRate \n",
    "fMeasure = trainingSummary.weightedFMeasure()\n",
    "precision = trainingSummary.weightedPrecision\n",
    "recall = trainingSummary.weightedRecall\n",
    "print(\"Accuracy: {0}\\nFPR: {1}\\nTPR: {2}\\nF-measure: {3}\\nPrecision: {4}\\nRec all: {5}\".format(accuracy,falsePositiveRate,truePositiveRate,fMeasure,precision,recall))\n"
   ]
  },
  {
   "cell_type": "code",
   "execution_count": 20,
   "id": "033f3d98",
   "metadata": {},
   "outputs": [
    {
     "name": "stdout",
     "output_type": "stream",
     "text": [
      "Test Error = 0.0540541\n"
     ]
    }
   ],
   "source": [
    "from pyspark.ml.evaluation import MulticlassClassificationEvaluator\n",
    "# Select (prediction, true label) and compute test error\n",
    "evaluator = MulticlassClassificationEvaluator(\n",
    "    labelCol=\"label\", predictionCol=\"prediction\", metricName=\"accuracy\")\n",
    "accuracy = evaluator.evaluate(predictions)\n",
    "print(\"Test Error = %g\" % (1.0 - accuracy))\n"
   ]
  },
  {
   "cell_type": "markdown",
   "id": "c5c8f0c8",
   "metadata": {},
   "source": [
    "### There are 3 lines determines 3 classes (3 predictive values), hence, 3 slopes and 3 intercepts. "
   ]
  },
  {
   "cell_type": "code",
   "execution_count": 26,
   "id": "7c08d9e6",
   "metadata": {},
   "outputs": [
    {
     "data": {
      "text/plain": [
       "DenseMatrix(3, 4, [0.0, 0.0, 0.0, 0.0, 0.0, 0.0, 0.0, -0.7665, 0.0, 0.3082, -0.3772, 0.0], False)"
      ]
     },
     "execution_count": 26,
     "metadata": {},
     "output_type": "execute_result"
    }
   ],
   "source": [
    "model.coefficientMatrix.toDense()"
   ]
  },
  {
   "cell_type": "code",
   "execution_count": 24,
   "id": "cc59a604",
   "metadata": {},
   "outputs": [
    {
     "data": {
      "text/plain": [
       "DenseVector([0.079, -0.202, 0.1229])"
      ]
     },
     "execution_count": 24,
     "metadata": {},
     "output_type": "execute_result"
    }
   ],
   "source": [
    "model.interceptVector"
   ]
  },
  {
   "cell_type": "code",
   "execution_count": null,
   "id": "d97a9abf",
   "metadata": {},
   "outputs": [],
   "source": []
  }
 ],
 "metadata": {
  "kernelspec": {
   "display_name": "Python 3 (ipykernel)",
   "language": "python",
   "name": "python3"
  },
  "language_info": {
   "codemirror_mode": {
    "name": "ipython",
    "version": 3
   },
   "file_extension": ".py",
   "mimetype": "text/x-python",
   "name": "python",
   "nbconvert_exporter": "python",
   "pygments_lexer": "ipython3",
   "version": "3.10.9"
  }
 },
 "nbformat": 4,
 "nbformat_minor": 5
}
