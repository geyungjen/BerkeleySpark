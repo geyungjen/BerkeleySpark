{
 "cells": [
  {
   "cell_type": "code",
   "execution_count": 1,
   "id": "f8d85ac6",
   "metadata": {},
   "outputs": [
    {
     "name": "stderr",
     "output_type": "stream",
     "text": [
      "Setting default log level to \"WARN\".\n",
      "To adjust logging level use sc.setLogLevel(newLevel). For SparkR, use setLogLevel(newLevel).\n"
     ]
    },
    {
     "name": "stdout",
     "output_type": "stream",
     "text": [
      "23/05/24 10:31:24 WARN NativeCodeLoader: Unable to load native-hadoop library for your platform... using builtin-java classes where applicable\n"
     ]
    }
   ],
   "source": [
    "import pyspark\n",
    "from pyspark.ml.feature import PCA, VectorAssembler\n",
    "from pyspark.mllib.linalg import Vectors\n",
    "from pyspark.ml import Pipeline\n",
    "from pyspark.ml.feature import StandardScaler\n",
    "import numpy as np\n",
    "import matplotlib.pyplot as plt\n",
    "from pyspark.sql import SparkSession\n",
    "\n",
    "spark = SparkSession \\\n",
    "    .builder \\\n",
    "    .appName(\"Python Spark PCA example\") \\\n",
    "    .config(\"spark.some.config.option\", \"some-value\") \\\n",
    "    .getOrCreate()\n"
   ]
  },
  {
   "cell_type": "code",
   "execution_count": 2,
   "id": "5874c6b0",
   "metadata": {},
   "outputs": [],
   "source": [
    "df_origin =  spark.read.format('csv').\\\n",
    "                       options(header='true', \\\n",
    "                       inferschema='true').\\\n",
    "            load(\"data/iris.csv\",header=True);"
   ]
  },
  {
   "cell_type": "code",
   "execution_count": 3,
   "id": "cdc3ff0c",
   "metadata": {},
   "outputs": [
    {
     "name": "stdout",
     "output_type": "stream",
     "text": [
      "+------------+-----------+------------+-----------+-------+\n",
      "|sepal_length|sepal_width|petal_length|petal_width|species|\n",
      "+------------+-----------+------------+-----------+-------+\n",
      "|         5.1|        3.5|         1.4|        0.2| setosa|\n",
      "|         4.9|        3.0|         1.4|        0.2| setosa|\n",
      "|         4.7|        3.2|         1.3|        0.2| setosa|\n",
      "|         4.6|        3.1|         1.5|        0.2| setosa|\n",
      "|         5.0|        3.6|         1.4|        0.2| setosa|\n",
      "+------------+-----------+------------+-----------+-------+\n",
      "only showing top 5 rows\n",
      "\n",
      "root\n",
      " |-- sepal_length: double (nullable = true)\n",
      " |-- sepal_width: double (nullable = true)\n",
      " |-- petal_length: double (nullable = true)\n",
      " |-- petal_width: double (nullable = true)\n",
      " |-- species: string (nullable = true)\n",
      "\n"
     ]
    }
   ],
   "source": [
    "df_origin.show(5)\n",
    "df_origin.printSchema()"
   ]
  },
  {
   "cell_type": "code",
   "execution_count": 4,
   "id": "d6a50d7a",
   "metadata": {},
   "outputs": [],
   "source": [
    "labelCol='species'"
   ]
  },
  {
   "cell_type": "code",
   "execution_count": 5,
   "id": "8cc967ab",
   "metadata": {},
   "outputs": [],
   "source": [
    "catcols=[]\n",
    "for i in df_origin.dtypes:\n",
    "    if i[1] == 'string' and i[0] != labelCol:\n",
    "        catcols.append(i[0])"
   ]
  },
  {
   "cell_type": "code",
   "execution_count": 6,
   "id": "d32aea8d",
   "metadata": {},
   "outputs": [],
   "source": [
    "num_cols=[]\n",
    "for i in df_origin.dtypes:\n",
    "    if i[1] != 'string' and i[0] != labelCol:\n",
    "        num_cols.append(i[0])"
   ]
  },
  {
   "cell_type": "code",
   "execution_count": 7,
   "id": "b2b6b9a9",
   "metadata": {},
   "outputs": [],
   "source": [
    "from pyspark.ml.feature import StringIndexer, OneHotEncoder, VectorAssembler\n",
    "from pyspark.ml import Pipeline\n",
    "from pyspark.sql.functions import col\n",
    "\n",
    "# categorical columns\n",
    "categorical_columns = catcols"
   ]
  },
  {
   "cell_type": "code",
   "execution_count": 8,
   "id": "cc89e8dd",
   "metadata": {},
   "outputs": [],
   "source": [
    "indexers = [ StringIndexer(inputCol=c, outputCol=\"{0}_indexed\".format(c)) for c in categorical_columns ]"
   ]
  },
  {
   "cell_type": "code",
   "execution_count": 9,
   "id": "4d07162e",
   "metadata": {},
   "outputs": [],
   "source": [
    "encoders = [ OneHotEncoder(inputCol=indexer.getOutputCol(), \\\n",
    "                           outputCol=\"{0}_encoded\".format(indexer.getOutputCol())) for indexer in indexers ]"
   ]
  },
  {
   "cell_type": "code",
   "execution_count": 10,
   "id": "254906a3",
   "metadata": {},
   "outputs": [],
   "source": [
    "assembler = VectorAssembler(inputCols=[encoder.getOutputCol() \\\n",
    "                                       for encoder in encoders] + num_cols, outputCol=\"features\")"
   ]
  },
  {
   "cell_type": "code",
   "execution_count": 11,
   "id": "44fd1bfd",
   "metadata": {},
   "outputs": [
    {
     "name": "stdout",
     "output_type": "stream",
     "text": [
      "+-----------------+------+\n",
      "|features         |label |\n",
      "+-----------------+------+\n",
      "|[5.1,3.5,1.4,0.2]|setosa|\n",
      "|[4.9,3.0,1.4,0.2]|setosa|\n",
      "|[4.7,3.2,1.3,0.2]|setosa|\n",
      "|[4.6,3.1,1.5,0.2]|setosa|\n",
      "|[5.0,3.6,1.4,0.2]|setosa|\n",
      "+-----------------+------+\n",
      "only showing top 5 rows\n",
      "\n"
     ]
    }
   ],
   "source": [
    "pipeline = Pipeline(stages=indexers + encoders + [assembler])\n",
    "model=pipeline.fit(df_origin)\n",
    "data = model.transform(df_origin)\n",
    "data = data.withColumn('label',col(labelCol))\n",
    "df=data.select('features','label')\n",
    "df.show(5, truncate=False)"
   ]
  },
  {
   "cell_type": "code",
   "execution_count": 12,
   "id": "7ac70d9f",
   "metadata": {},
   "outputs": [],
   "source": [
    "scaler = StandardScaler(inputCol=\"features\",outputCol=\"scaledFeatures\",withStd=True, withMean=True)\n",
    "scalerModel=scaler.fit(df)"
   ]
  },
  {
   "cell_type": "code",
   "execution_count": 13,
   "id": "8f42fa69",
   "metadata": {},
   "outputs": [],
   "source": [
    "df=scalerModel.transform(df)"
   ]
  },
  {
   "cell_type": "code",
   "execution_count": 14,
   "id": "8e5548cf",
   "metadata": {},
   "outputs": [],
   "source": [
    "def findTopPrincipalComponentNumber(data:pyspark.sql.dataframe.DataFrame=df, \\\n",
    "                                    featureCol:str='features',threshold:int=0.80) -> (int, int):\n",
    "    df_detect=data.select(featureCol)\n",
    "    df_detect_list=[]\n",
    "    for i in df_detect.collect():\n",
    "        df_detect_list.append(i[0].tolist())\n",
    "    df_detect_np=np.array(df_detect_list)\n",
    "    cov_mat = np.cov(df_detect_np.T) #Get the covariance matrix\n",
    "    eigen_vals, eigen_vecs = np.linalg.eig(cov_mat) #Get list of Eigenvalues and list of Eigenvectors, \n",
    "                                                    #numbef of Eigenvalues = number of the feature columns \n",
    "    tot = sum(eigen_vals)\n",
    "    var_exp = [(i / tot) for i in sorted(eigen_vals, reverse=True)] #Sort the Eigenvalues in descending order\n",
    "                                                                    #get the percentage of each Eigenvalue against \n",
    "                                                                    #sum of total eigenvalues\n",
    "                                                                    #Then find number cumulative percentage from\n",
    "                                                                    #first few largest eigenvalues to see threshold \n",
    "                                                                    #is crossed.  If so, you only need these few \n",
    "                                                                    #number of columns in PCA()\n",
    "    cumulativePercept=0\n",
    "    cumulativePerceptList=[]\n",
    "    for i in var_exp:\n",
    "        cumulativePercept+=i\n",
    "        cumulativePerceptList.append(cumulativePercept)\n",
    "        if cumulativePercept >= threshold:\n",
    "            break\n",
    "    return (len(cumulativePerceptList), float(cumulativePerceptList[-1]))"
   ]
  },
  {
   "cell_type": "code",
   "execution_count": 15,
   "id": "f265861c",
   "metadata": {},
   "outputs": [
    {
     "name": "stdout",
     "output_type": "stream",
     "text": [
      "2 principal components covers the 95.8% from original dataset with 4 feature columns\n"
     ]
    }
   ],
   "source": [
    "bestK, coverPercentage=findTopPrincipalComponentNumber(data=df, featureCol='scaledFeatures', threshold=0.80)\n",
    "pca = PCA(k=bestK, inputCol=\"scaledFeatures\", outputCol=\"pcaFeatures\")\n",
    "print(f\"{bestK} principal components covers the {round(coverPercentage*100,2)}% from original dataset with {len(df_origin.columns)-1} feature columns\")"
   ]
  },
  {
   "cell_type": "code",
   "execution_count": 16,
   "id": "d7f246fc",
   "metadata": {},
   "outputs": [],
   "source": [
    "pipeline = Pipeline(stages=[pca])"
   ]
  },
  {
   "cell_type": "code",
   "execution_count": 17,
   "id": "0d7c4c48",
   "metadata": {},
   "outputs": [
    {
     "name": "stderr",
     "output_type": "stream",
     "text": [
      "\r",
      "[Stage 12:>                                                         (0 + 1) / 1]\r",
      "\r",
      "                                                                                \r"
     ]
    },
    {
     "name": "stdout",
     "output_type": "stream",
     "text": [
      "23/05/24 10:31:54 WARN InstanceBuilder$NativeBLAS: Failed to load implementation from:dev.ludovic.netlib.blas.JNIBLAS\n",
      "23/05/24 10:31:54 WARN InstanceBuilder$NativeBLAS: Failed to load implementation from:dev.ludovic.netlib.blas.ForeignLinkerBLAS\n",
      "23/05/24 10:31:54 WARN LAPACK: Failed to load implementation from: com.github.fommil.netlib.NativeSystemLAPACK\n",
      "23/05/24 10:31:54 WARN LAPACK: Failed to load implementation from: com.github.fommil.netlib.NativeRefLAPACK\n"
     ]
    }
   ],
   "source": [
    "model = pipeline.fit(df)\n"
   ]
  },
  {
   "cell_type": "code",
   "execution_count": 18,
   "id": "9219e41c",
   "metadata": {},
   "outputs": [
    {
     "name": "stderr",
     "output_type": "stream",
     "text": [
      "                                                                                \r"
     ]
    }
   ],
   "source": [
    "xy = model.transform(df).select(\"pcaFeatures\").rdd.map(lambda row: [row[0][0], row[0][1]]).collect()"
   ]
  },
  {
   "cell_type": "code",
   "execution_count": 19,
   "id": "8ab91588",
   "metadata": {},
   "outputs": [
    {
     "data": {
      "text/plain": [
       "[[2.2569806330680264, -0.5040154042276581],\n",
       " [2.0794591188954032, 0.6532163936125837],\n",
       " [2.360044081584208, 0.31741394457027705],\n",
       " [2.296503660003885, 0.5734466129712273],\n",
       " [2.3808015864527436, -0.6725144107910821]]"
      ]
     },
     "execution_count": 19,
     "metadata": {},
     "output_type": "execute_result"
    }
   ],
   "source": [
    "xy[0:5]"
   ]
  },
  {
   "cell_type": "code",
   "execution_count": 20,
   "id": "0e05ae2f",
   "metadata": {},
   "outputs": [],
   "source": [
    "x=np.array(list(zip(*xy))[0])\n",
    "y=np.array(list(zip(*xy))[1])"
   ]
  },
  {
   "cell_type": "code",
   "execution_count": 21,
   "id": "1f8e9509",
   "metadata": {},
   "outputs": [
    {
     "data": {
      "text/plain": [
       "array([2.25698063, 2.07945912, 2.36004408, 2.29650366, 2.38080159])"
      ]
     },
     "execution_count": 21,
     "metadata": {},
     "output_type": "execute_result"
    }
   ],
   "source": [
    "x[0:5]"
   ]
  },
  {
   "cell_type": "code",
   "execution_count": 22,
   "id": "246243b1",
   "metadata": {},
   "outputs": [
    {
     "data": {
      "text/plain": [
       "array([-0.5040154 ,  0.65321639,  0.31741394,  0.57344661, -0.67251441])"
      ]
     },
     "execution_count": 22,
     "metadata": {},
     "output_type": "execute_result"
    }
   ],
   "source": [
    "y[0:5]"
   ]
  },
  {
   "cell_type": "code",
   "execution_count": 23,
   "id": "71114689",
   "metadata": {},
   "outputs": [
    {
     "data": {
      "image/png": "[encoded data removed]",
      "text/plain": [
       "<Figure size 640x480 with 1 Axes>"
      ]
     },
     "metadata": {},
     "output_type": "display_data"
    }
   ],
   "source": [
    "plt.scatter(x,y)\n",
    "plt.show()"
   ]
  },
  {
   "cell_type": "code",
   "execution_count": 24,
   "id": "3ca3d7e8",
   "metadata": {},
   "outputs": [
    {
     "data": {
      "image/png": "[encoded data removed]",
      "text/plain": [
       "<Figure size 640x480 with 1 Axes>"
      ]
     },
     "metadata": {},
     "output_type": "display_data"
    }
   ],
   "source": [
    "plt.hexbin(x,y,  gridsize=30)\n",
    "plt.show()\n"
   ]
  },
  {
   "cell_type": "code",
   "execution_count": 25,
   "id": "5a1e4c32",
   "metadata": {},
   "outputs": [
    {
     "data": {
      "text/plain": [
       "DenseVector([0.7277, 0.2303])"
      ]
     },
     "execution_count": 25,
     "metadata": {},
     "output_type": "execute_result"
    }
   ],
   "source": [
    "model.stages[0].explainedVariance"
   ]
  },
  {
   "cell_type": "code",
   "execution_count": null,
   "id": "81c9a3ea",
   "metadata": {},
   "outputs": [],
   "source": []
  }
 ],
 "metadata": {
  "kernelspec": {
   "display_name": "Python 3 (ipykernel)",
   "language": "python",
   "name": "python3"
  },
  "language_info": {
   "codemirror_mode": {
    "name": "ipython",
    "version": 3
   },
   "file_extension": ".py",
   "mimetype": "text/x-python",
   "name": "python",
   "nbconvert_exporter": "python",
   "pygments_lexer": "ipython3",
   "version": "3.10.9"
  }
 },
 "nbformat": 4,
 "nbformat_minor": 5
}
