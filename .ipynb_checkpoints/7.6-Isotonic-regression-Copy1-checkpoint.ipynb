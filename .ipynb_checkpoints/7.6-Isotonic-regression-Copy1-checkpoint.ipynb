{
 "cells": [
  {
   "cell_type": "code",
   "execution_count": 1,
   "id": "f086e47b",
   "metadata": {},
   "outputs": [
    {
     "name": "stderr",
     "output_type": "stream",
     "text": [
      "Setting default log level to \"WARN\".\n",
      "To adjust logging level use sc.setLogLevel(newLevel). For SparkR, use setLogLevel(newLevel).\n"
     ]
    },
    {
     "name": "stdout",
     "output_type": "stream",
     "text": [
      "23/05/09 18:16:58 WARN NativeCodeLoader: Unable to load native-hadoop library for your platform... using builtin-java classes where applicable\n"
     ]
    }
   ],
   "source": [
    "from pyspark.sql import SparkSession\n",
    "\n",
    "import numpy as np\n",
    "import matplotlib.pyplot as plt\n",
    "from matplotlib.collections import LineCollection\n",
    "\n",
    "spark = SparkSession \\\n",
    "    .builder \\\n",
    "    .appName(\"Python Spark GBTRegressor example\") \\\n",
    "    .config(\"spark.some.config.option\", \"some-value\") \\\n",
    "    .getOrCreate()\n"
   ]
  },
  {
   "cell_type": "markdown",
   "id": "98af6f9c",
   "metadata": {},
   "source": [
    "### Random state \n",
    "\n",
    "Random state is used to set the seed for the random generator so that we can ensure that the results that we get can be reproduced. Because of the nature of splitting the data in train and test is randomised you would get different data assigned to the train and test data unless you can control for the random factor.\n",
    "\n",
    "For example, imagine you have numbers: 1,2,3,4,5 and you want to select two random numbers. Without using a random_state you would get different things: i.e. first 2,5 then 3,4 and so on.\n",
    "When you control the random generator by setting the random state to 0, 1 or another number, everyone would get the same random numbers generated: i.e random_state=1 then the random numbers are 1,3 and everyone who will pick two random numbers using random_state=1 from 1,2,3,4,5 will get the same two numbers as you: 1,3."
   ]
  },
  {
   "cell_type": "code",
   "execution_count": 2,
   "id": "e209f346",
   "metadata": {},
   "outputs": [],
   "source": [
    "from sklearn.utils import check_random_state"
   ]
  },
  {
   "cell_type": "markdown",
   "id": "4f773fb0",
   "metadata": {},
   "source": [
    "### Generate an 100 element array from 0 to 99; generate 100 element array of y, each y element is a random number"
   ]
  },
  {
   "cell_type": "code",
   "execution_count": 3,
   "id": "1db7a2c7",
   "metadata": {},
   "outputs": [],
   "source": [
    "n = 100\n",
    "x = np.arange(n)\n",
    "rs = check_random_state(0)\n",
    "y = rs.randint(-50, 50, size=(n,)) + 50.0 * np.log1p(np.arange(n))"
   ]
  },
  {
   "cell_type": "markdown",
   "id": "5f95c453",
   "metadata": {},
   "source": [
    "### Create a list of 100 lists"
   ]
  },
  {
   "cell_type": "code",
   "execution_count": 4,
   "id": "ff1f0b0c",
   "metadata": {},
   "outputs": [],
   "source": [
    "xList=x.tolist()\n",
    "yList=y.tolist()\n",
    "xyList=[[i,j] for i, j in zip(xList,yList)]"
   ]
  },
  {
   "cell_type": "markdown",
   "id": "813ce793",
   "metadata": {},
   "source": [
    "### Plot data out"
   ]
  },
  {
   "cell_type": "code",
   "execution_count": 29,
   "id": "2b956376",
   "metadata": {},
   "outputs": [
    {
     "data": {
      "image/png": "[encoded data removed]",
      "text/plain": [
       "<Figure size 900x600 with 1 Axes>"
      ]
     },
     "metadata": {},
     "output_type": "display_data"
    }
   ],
   "source": [
    "segments = [[[i, y[i]]] for i in range(n)]\n",
    "lc = LineCollection(segments, zorder=0)\n",
    "lc.set_array(np.ones(len(y)))\n",
    "lc.set_linewidths(np.full(n, 0.5))\n",
    "\n",
    "\n",
    "fig, (ax0) = plt.subplots(ncols=1, figsize=(9, 6))\n",
    "\n",
    "ax0.plot(xList, yList, \"C0.\", markersize=12)\n",
    "ax0.add_collection(lc)\n",
    "ax0.legend((\"Raw data\"), loc=\"lower right\")\n",
    "ax0.set_title(\"Isotonic regression fit on noisy data (n=%d)\" % n)\n",
    "plt.show()\n",
    "\n"
   ]
  },
  {
   "cell_type": "markdown",
   "id": "3ea6d652",
   "metadata": {},
   "source": [
    "### generate spark SQL dataframe"
   ]
  },
  {
   "cell_type": "code",
   "execution_count": 6,
   "id": "da2999a2",
   "metadata": {},
   "outputs": [],
   "source": [
    "df=spark.createDataFrame(xyList, ['x', 'label'])"
   ]
  },
  {
   "cell_type": "code",
   "execution_count": 7,
   "id": "8b50f829",
   "metadata": {},
   "outputs": [
    {
     "name": "stderr",
     "output_type": "stream",
     "text": [
      "\r",
      "[Stage 0:>                                                          (0 + 1) / 1]\r"
     ]
    },
    {
     "name": "stdout",
     "output_type": "stream",
     "text": [
      "+---+------------------+\n",
      "|  x|             label|\n",
      "+---+------------------+\n",
      "|  0|              -6.0|\n",
      "|  1|31.657359027997266|\n",
      "|  2| 68.93061443340548|\n",
      "|  3| 86.31471805599453|\n",
      "|  4| 97.47189562170502|\n",
      "+---+------------------+\n",
      "only showing top 5 rows\n",
      "\n"
     ]
    },
    {
     "name": "stderr",
     "output_type": "stream",
     "text": [
      "\r",
      "                                                                                \r"
     ]
    }
   ],
   "source": [
    "df.show(5)"
   ]
  },
  {
   "cell_type": "code",
   "execution_count": 8,
   "id": "3e63d7d3",
   "metadata": {},
   "outputs": [
    {
     "name": "stdout",
     "output_type": "stream",
     "text": [
      "+-------+------------------+------------------+\n",
      "|summary|                 x|             label|\n",
      "+-------+------------------+------------------+\n",
      "|  count|               100|               100|\n",
      "|   mean|              49.5|180.09968777778175|\n",
      "| stddev|29.011491975882016|50.951996452433555|\n",
      "|    min|                 0|              -6.0|\n",
      "|    max|                99| 276.1647391135002|\n",
      "+-------+------------------+------------------+\n",
      "\n"
     ]
    }
   ],
   "source": [
    "df.describe().show()"
   ]
  },
  {
   "cell_type": "markdown",
   "id": "8d87073e",
   "metadata": {},
   "source": [
    "### Manually transform vector features"
   ]
  },
  {
   "cell_type": "markdown",
   "id": "8b608b39",
   "metadata": {},
   "source": [
    "Convert the data to dense vector (features and label)"
   ]
  },
  {
   "cell_type": "code",
   "execution_count": 9,
   "id": "ef09260b",
   "metadata": {},
   "outputs": [
    {
     "name": "stdout",
     "output_type": "stream",
     "text": [
      "+-----------+--------+------------------+\n",
      "|rawfeatures|features|             label|\n",
      "+-----------+--------+------------------+\n",
      "|          0|   [0.0]|              -6.0|\n",
      "|          1|   [1.0]|31.657359027997266|\n",
      "|          2|   [2.0]| 68.93061443340548|\n",
      "|          3|   [3.0]| 86.31471805599453|\n",
      "|          4|   [4.0]| 97.47189562170502|\n",
      "+-----------+--------+------------------+\n",
      "only showing top 5 rows\n",
      "\n"
     ]
    },
    {
     "name": "stderr",
     "output_type": "stream",
     "text": [
      "\r",
      "[Stage 5:>                                                          (0 + 1) / 1]\r",
      "\r",
      "                                                                                \r"
     ]
    }
   ],
   "source": [
    "from pyspark.sql import Row\n",
    "from pyspark.ml.linalg import Vectors\n",
    "\n",
    "transformed=df.rdd.map(lambda r: [r[0], Vectors.dense(r[:-1]),r[-1]]).toDF(['rawfeatures','features','label'])\n",
    "transformed.show(5)"
   ]
  },
  {
   "cell_type": "markdown",
   "id": "361166dd",
   "metadata": {},
   "source": [
    "### any feature columns having 4 or fewer distinct values, consider them categorical and index them for better training, as result, now the feature vector is indexedFeatures"
   ]
  },
  {
   "cell_type": "markdown",
   "id": "9627ba3c",
   "metadata": {},
   "source": [
    "Deal with the Categorical variables"
   ]
  },
  {
   "cell_type": "code",
   "execution_count": 10,
   "id": "f19f3eb3",
   "metadata": {},
   "outputs": [
    {
     "name": "stderr",
     "output_type": "stream",
     "text": [
      "                                                                                \r"
     ]
    },
    {
     "name": "stdout",
     "output_type": "stream",
     "text": [
      "+-----------+--------+------------------+---------------+\n",
      "|rawfeatures|features|             label|indexedFeatures|\n",
      "+-----------+--------+------------------+---------------+\n",
      "|          0|   [0.0]|              -6.0|          [0.0]|\n",
      "|          1|   [1.0]|31.657359027997266|          [1.0]|\n",
      "|          2|   [2.0]| 68.93061443340548|          [2.0]|\n",
      "|          3|   [3.0]| 86.31471805599453|          [3.0]|\n",
      "|          4|   [4.0]| 97.47189562170502|          [4.0]|\n",
      "+-----------+--------+------------------+---------------+\n",
      "only showing top 5 rows\n",
      "\n"
     ]
    },
    {
     "name": "stderr",
     "output_type": "stream",
     "text": [
      "\r",
      "[Stage 9:>                                                          (0 + 1) / 1]\r",
      "\r",
      "                                                                                \r"
     ]
    }
   ],
   "source": [
    "from pyspark.ml import Pipeline\n",
    "from pyspark.ml.feature import VectorIndexer\n",
    "from pyspark.ml.evaluation import RegressionEvaluator\n",
    "\n",
    "featureIndexer = VectorIndexer(inputCol=\"features\", \\\n",
    "                               outputCol=\"indexedFeatures\",\\\n",
    "                               maxCategories=4).fit(transformed)\n",
    "\n",
    "data = featureIndexer.transform(transformed)\n",
    "data.show(5,True)"
   ]
  },
  {
   "cell_type": "markdown",
   "id": "ce8b5836",
   "metadata": {},
   "source": [
    "### Split the data into training and test sets (40% held out for testing)"
   ]
  },
  {
   "cell_type": "code",
   "execution_count": 11,
   "id": "682e0fde",
   "metadata": {},
   "outputs": [
    {
     "name": "stderr",
     "output_type": "stream",
     "text": [
      "                                                                                \r"
     ]
    },
    {
     "name": "stdout",
     "output_type": "stream",
     "text": [
      "+-----------+--------+------------------+---------------+\n",
      "|rawfeatures|features|             label|indexedFeatures|\n",
      "+-----------+--------+------------------+---------------+\n",
      "|          0|   [0.0]|              -6.0|          [0.0]|\n",
      "|          1|   [1.0]|31.657359027997266|          [1.0]|\n",
      "|          3|   [3.0]| 86.31471805599453|          [3.0]|\n",
      "|          8|   [8.0]| 95.86122886681098|          [8.0]|\n",
      "|         13|  [13.0]|  93.9528664807629|         [13.0]|\n",
      "+-----------+--------+------------------+---------------+\n",
      "only showing top 5 rows\n",
      "\n",
      "+-----------+--------+------------------+---------------+\n",
      "|rawfeatures|features|             label|indexedFeatures|\n",
      "+-----------+--------+------------------+---------------+\n",
      "|          2|   [2.0]| 68.93061443340548|          [2.0]|\n",
      "|          4|   [4.0]| 97.47189562170502|          [4.0]|\n",
      "|          5|   [5.0]|48.587973461402754|          [5.0]|\n",
      "|          6|   [6.0]|130.29550745276566|          [6.0]|\n",
      "|          7|   [7.0]| 74.97207708399179|          [7.0]|\n",
      "+-----------+--------+------------------+---------------+\n",
      "only showing top 5 rows\n",
      "\n"
     ]
    }
   ],
   "source": [
    "# Split the data into training and test sets (40% held out for testing)\n",
    "(trainingData, testData) = data.randomSplit([0.6, 0.4])\n",
    "\n",
    "trainingData.show(5)\n",
    "testData.show(5)"
   ]
  },
  {
   "cell_type": "markdown",
   "id": "9c6a0c2e",
   "metadata": {},
   "source": [
    "### Training with LinearRegression First"
   ]
  },
  {
   "cell_type": "code",
   "execution_count": 12,
   "id": "ffeec868",
   "metadata": {},
   "outputs": [
    {
     "name": "stdout",
     "output_type": "stream",
     "text": [
      "23/05/09 18:18:17 WARN InstanceBuilder$NativeBLAS: Failed to load implementation from:dev.ludovic.netlib.blas.JNIBLAS\n",
      "23/05/09 18:18:17 WARN InstanceBuilder$NativeBLAS: Failed to load implementation from:dev.ludovic.netlib.blas.ForeignLinkerBLAS\n"
     ]
    },
    {
     "name": "stderr",
     "output_type": "stream",
     "text": [
      "                                                                                \r"
     ]
    },
    {
     "name": "stdout",
     "output_type": "stream",
     "text": [
      "Coefficients: 1.5342323583688375\n",
      "Intercept: 103.48134625758412\n"
     ]
    }
   ],
   "source": [
    "from pyspark.ml.regression import LinearRegression\n",
    "lr = LinearRegression(featuresCol = 'indexedFeatures', labelCol='label', maxIter=10, regParam=0.3, elasticNetParam=0.8)\n",
    "lr_model = lr.fit(trainingData)\n",
    "print(\"Coefficients: \" + str(lr_model.coefficients[0]))\n",
    "print(\"Intercept: \" + str(lr_model.intercept))"
   ]
  },
  {
   "cell_type": "code",
   "execution_count": 13,
   "id": "52191e92",
   "metadata": {},
   "outputs": [
    {
     "name": "stdout",
     "output_type": "stream",
     "text": [
      "+-----------+--------+------------------+---------------+------------------+\n",
      "|rawfeatures|features|             label|indexedFeatures|        prediction|\n",
      "+-----------+--------+------------------+---------------+------------------+\n",
      "|          2|   [2.0]| 68.93061443340548|          [2.0]| 106.5498109743218|\n",
      "|          4|   [4.0]| 97.47189562170502|          [4.0]|109.61827569105947|\n",
      "|          5|   [5.0]|48.587973461402754|          [5.0]| 111.1525080494283|\n",
      "|          6|   [6.0]|130.29550745276566|          [6.0]|112.68674040779715|\n",
      "|          7|   [7.0]| 74.97207708399179|          [7.0]|114.22097276616599|\n",
      "+-----------+--------+------------------+---------------+------------------+\n",
      "only showing top 5 rows\n",
      "\n"
     ]
    }
   ],
   "source": [
    "lr_predictions = lr_model.transform(testData)\n",
    "lr_predictions.show(5)"
   ]
  },
  {
   "cell_type": "markdown",
   "id": "34c2a899",
   "metadata": {},
   "source": [
    "### Training with IsotonicRegression next for comparison"
   ]
  },
  {
   "cell_type": "markdown",
   "id": "feb76071",
   "metadata": {},
   "source": [
    "Fit IsotonicRegression Regression Model with IsotonicRegression"
   ]
  },
  {
   "cell_type": "code",
   "execution_count": 14,
   "id": "867271aa",
   "metadata": {},
   "outputs": [],
   "source": [
    "# Import IsotonicRegression class\n",
    "from pyspark.ml.regression import IsotonicRegression\n",
    "\n",
    "# Define LinearRegression algorithm\n",
    "iso = IsotonicRegression(featuresCol=\"indexedFeatures\", labelCol=\"label\") \n",
    "iso_model=iso.fit(trainingData)\n"
   ]
  },
  {
   "cell_type": "markdown",
   "id": "12829ddb",
   "metadata": {},
   "source": [
    "Make predictions"
   ]
  },
  {
   "cell_type": "code",
   "execution_count": 15,
   "id": "46b2cf24",
   "metadata": {},
   "outputs": [
    {
     "name": "stdout",
     "output_type": "stream",
     "text": [
      "+-----------+--------+------------------+---------------+------------------+\n",
      "|rawfeatures|features|             label|indexedFeatures|        prediction|\n",
      "+-----------+--------+------------------+---------------+------------------+\n",
      "|          2|   [2.0]| 68.93061443340548|          [2.0]|58.986038541995896|\n",
      "|          4|   [4.0]| 97.47189562170502|          [4.0]| 88.03318397955302|\n",
      "|          5|   [5.0]|48.587973461402754|          [5.0]|  89.7516499031115|\n",
      "|          6|   [6.0]|130.29550745276566|          [6.0]| 91.47011582666997|\n",
      "|          7|   [7.0]| 74.97207708399179|          [7.0]| 93.18858175022845|\n",
      "+-----------+--------+------------------+---------------+------------------+\n",
      "only showing top 5 rows\n",
      "\n"
     ]
    }
   ],
   "source": [
    "iso_predictions = iso_model.transform(testData)\n",
    "\n",
    "# Select example rows to display.\n",
    "iso_predictions.show(5)"
   ]
  },
  {
   "cell_type": "markdown",
   "id": "6e8412fb",
   "metadata": {},
   "source": [
    "### Evaluation, appears IsotonicRegression does better than Linear Regression, although both are less than desired"
   ]
  },
  {
   "cell_type": "code",
   "execution_count": 16,
   "id": "93e752db",
   "metadata": {},
   "outputs": [
    {
     "name": "stdout",
     "output_type": "stream",
     "text": [
      "Linear Regression Root Mean Squared Error (RMSE) on test data = 34.2287\n"
     ]
    }
   ],
   "source": [
    "# Select (prediction, true label) and compute test error\n",
    "evaluator = RegressionEvaluator(\n",
    "    labelCol=\"label\", predictionCol=\"prediction\", metricName=\"rmse\")\n",
    "rmse = evaluator.evaluate(lr_predictions)\n",
    "print(\"Linear Regression Root Mean Squared Error (RMSE) on test data = %g\" % rmse)"
   ]
  },
  {
   "cell_type": "code",
   "execution_count": 17,
   "id": "a893d1be",
   "metadata": {},
   "outputs": [
    {
     "name": "stdout",
     "output_type": "stream",
     "text": [
      "Linear Regression R Squared (R2) on test data = 0.462945\n"
     ]
    }
   ],
   "source": [
    "evaluator = RegressionEvaluator(predictionCol=\"prediction\", \\\n",
    "                 labelCol=\"label\",metricName=\"r2\")\n",
    "print(\"Linear Regression R Squared (R2) on test data = %g\" % evaluator.evaluate(lr_predictions))"
   ]
  },
  {
   "cell_type": "code",
   "execution_count": 18,
   "id": "8749e227",
   "metadata": {},
   "outputs": [
    {
     "name": "stdout",
     "output_type": "stream",
     "text": [
      "Isotonic Regression Root Mean Squared Error (RMSE) on test data = 33.9378\n"
     ]
    }
   ],
   "source": [
    "# Select (prediction, true label) and compute test error\n",
    "evaluator = RegressionEvaluator(\n",
    "    labelCol=\"label\", predictionCol=\"prediction\", metricName=\"rmse\")\n",
    "rmse = evaluator.evaluate(iso_predictions)\n",
    "print(\"Isotonic Regression Root Mean Squared Error (RMSE) on test data = %g\" % rmse)"
   ]
  },
  {
   "cell_type": "code",
   "execution_count": 19,
   "id": "0c450462",
   "metadata": {},
   "outputs": [
    {
     "name": "stdout",
     "output_type": "stream",
     "text": [
      "Isotonic Regression R Squared (R2) on test data = 0.472036\n"
     ]
    }
   ],
   "source": [
    "evaluator = RegressionEvaluator(predictionCol=\"prediction\", \\\n",
    "                 labelCol=\"label\",metricName=\"r2\")\n",
    "print(\"Isotonic Regression R Squared (R2) on test data = %g\" % evaluator.evaluate(iso_predictions))"
   ]
  },
  {
   "cell_type": "markdown",
   "id": "c8f09f3c",
   "metadata": {},
   "source": [
    "### Plot the predictions for both Linear Regression and Isotonic Regression out"
   ]
  },
  {
   "cell_type": "code",
   "execution_count": 20,
   "id": "4d151c87",
   "metadata": {},
   "outputs": [],
   "source": [
    "X=[]\n",
    "Y=[]\n",
    "YHat=[]\n",
    "for i in iso_predictions.rdd.collect():\n",
    "    X.append(i[0])\n",
    "    Y.append(i[2])\n",
    "    YHat.append(i[4])\n",
    "\n",
    "YLR=[]\n",
    "for i in lr_predictions.rdd.collect():\n",
    "    YLR.append(i[4])\n"
   ]
  },
  {
   "cell_type": "code",
   "execution_count": 30,
   "id": "a5ce9d47",
   "metadata": {},
   "outputs": [
    {
     "data": {
      "text/plain": [
       "Text(0.5, 1.0, 'Isotonic regression fit on noisy data (n=100)')"
      ]
     },
     "execution_count": 30,
     "metadata": {},
     "output_type": "execute_result"
    },
    {
     "data": {
      "image/png": "[encoded data removed]",
      "text/plain": [
       "<Figure size 900x600 with 1 Axes>"
      ]
     },
     "metadata": {},
     "output_type": "display_data"
    }
   ],
   "source": [
    "segments = [[[i, y[i]]] for i in range(n)]\n",
    "lc = LineCollection(segments, zorder=0)\n",
    "lc.set_array(np.ones(len(y)))\n",
    "lc.set_linewidths(np.full(n, 0.5))\n",
    "\n",
    "fig, (ax0) = plt.subplots(ncols=1, figsize=(9, 6))\n",
    "\n",
    "ax0.plot(X, Y, \"C0.\", markersize=12)\n",
    "ax0.plot(X, YHat, \"C1.-\", markersize=12)\n",
    "ax0.plot(X, YLR, \"C2-\")\n",
    "ax0.add_collection(lc)\n",
    "ax0.legend((\"Training data\", \"Isotonic fit\", \"Linear fit\"), loc=\"lower right\")\n",
    "ax0.set_title(\"Isotonic regression fit on noisy data (n=%d)\" % n)\n",
    "\n",
    "#x_test = np.linspace(-10, 110, 1000)\n",
    "#ax1.plot(x_test, ir.predict(x_test), \"C1-\")\n",
    "#ax1.plot(ir.X_thresholds_, ir.y_thresholds_, \"C1.\", markersize=12)\n",
    "#ax1.set_title(\"Prediction function (%d thresholds)\" % len(ir.X_thresholds_))\n",
    "\n",
    "#plt.show()"
   ]
  },
  {
   "cell_type": "code",
   "execution_count": null,
   "id": "c0e579f6",
   "metadata": {},
   "outputs": [],
   "source": []
  }
 ],
 "metadata": {
  "kernelspec": {
   "display_name": "Python 3 (ipykernel)",
   "language": "python",
   "name": "python3"
  },
  "language_info": {
   "codemirror_mode": {
    "name": "ipython",
    "version": 3
   },
   "file_extension": ".py",
   "mimetype": "text/x-python",
   "name": "python",
   "nbconvert_exporter": "python",
   "pygments_lexer": "ipython3",
   "version": "3.10.9"
  }
 },
 "nbformat": 4,
 "nbformat_minor": 5
}
