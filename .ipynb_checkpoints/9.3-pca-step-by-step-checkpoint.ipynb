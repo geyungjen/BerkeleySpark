{
 "cells": [
  {
   "cell_type": "code",
   "execution_count": 1,
   "id": "10e9fe44",
   "metadata": {},
   "outputs": [],
   "source": [
    "import numpy as np"
   ]
  },
  {
   "cell_type": "code",
   "execution_count": 92,
   "id": "e727c340",
   "metadata": {},
   "outputs": [],
   "source": [
    "#Original dataset X\n",
    "X=np.array([[11,2,25],[12,20, 31],[5,6,7],[200,10,22]])"
   ]
  },
  {
   "cell_type": "code",
   "execution_count": 166,
   "id": "a7e9f7ff",
   "metadata": {},
   "outputs": [],
   "source": [
    "#Get covariance matrix from X, if using numpy.cov, make sure set parameter rowvar to False\n",
    "# https://stackoverflow.com/questions/43174624/numpy-covariance-matrix-numpy-cov\n",
    "    \n",
    "covX=np.cov(X, rowvar=False)"
   ]
  },
  {
   "cell_type": "code",
   "execution_count": 167,
   "id": "08b4a3f2",
   "metadata": {},
   "outputs": [
    {
     "data": {
      "text/plain": [
       "array([[9098.        ,   42.        ,   79.        ],\n",
       "       [  42.        ,   59.66666667,   41.5       ],\n",
       "       [  79.        ,   41.5       ,  104.25      ]])"
      ]
     },
     "execution_count": 167,
     "metadata": {},
     "output_type": "execute_result"
    }
   ],
   "source": [
    "covX"
   ]
  },
  {
   "cell_type": "code",
   "execution_count": 168,
   "id": "b1e2e990",
   "metadata": {},
   "outputs": [],
   "source": [
    "#Get eigenvalues and eigenvectors from covX\n",
    "eigenvals, eigenvecs = np.linalg.eig(covX)"
   ]
  },
  {
   "cell_type": "code",
   "execution_count": 169,
   "id": "b25291ae",
   "metadata": {},
   "outputs": [
    {
     "data": {
      "text/plain": [
       "array([9098.89241304,  128.17622396,   34.84802966])"
      ]
     },
     "execution_count": 169,
     "metadata": {},
     "output_type": "execute_result"
    }
   ],
   "source": [
    "eigenvals"
   ]
  },
  {
   "cell_type": "code",
   "execution_count": 170,
   "id": "29bb4e7f",
   "metadata": {},
   "outputs": [
    {
     "data": {
      "text/plain": [
       "array([[ 9.99950260e-01,  9.96128016e-03, -5.00975875e-04],\n",
       "       [ 4.68660548e-03, -5.13610200e-01, -8.58010838e-01],\n",
       "       [ 8.80419265e-03, -8.57965812e-01,  5.13631338e-01]])"
      ]
     },
     "execution_count": 170,
     "metadata": {},
     "output_type": "execute_result"
    }
   ],
   "source": [
    "eigenvecs"
   ]
  },
  {
   "cell_type": "code",
   "execution_count": 171,
   "id": "2cf57f6a",
   "metadata": {},
   "outputs": [],
   "source": [
    "#pair the eigenvalue and corresponding eigenvector\n",
    "pair = [(i[0], i[1]) for i in zip(eigenvals, eigenvecs)]\n",
    "#Sort the eigenvectors by its eigenvalues in descending order\n",
    "sortedPair=[[i[0], i[1]] for i in sorted(pair, key=lambda x: abs(x[0]), reverse=True)]\n",
    "        \n",
    "        \n",
    "\n",
    "\n"
   ]
  },
  {
   "cell_type": "code",
   "execution_count": 172,
   "id": "168c4043",
   "metadata": {},
   "outputs": [
    {
     "data": {
      "text/plain": [
       "[[9098.892413038524,\n",
       "  array([ 9.99950260e-01,  9.96128016e-03, -5.00975875e-04])],\n",
       " [128.17622396429107, array([ 0.00468661, -0.5136102 , -0.85801084])],\n",
       " [34.84802966385698, array([ 0.00880419, -0.85796581,  0.51363134])]]"
      ]
     },
     "execution_count": 172,
     "metadata": {},
     "output_type": "execute_result"
    }
   ],
   "source": [
    "sortedPair"
   ]
  },
  {
   "cell_type": "code",
   "execution_count": 173,
   "id": "478b4725",
   "metadata": {},
   "outputs": [],
   "source": [
    "#Get sorted eigenvectors, keep the sort order.\n",
    "W=np.array([i[1] for i in sortedPair])"
   ]
  },
  {
   "cell_type": "code",
   "execution_count": 174,
   "id": "5d606b5c",
   "metadata": {},
   "outputs": [
    {
     "data": {
      "text/plain": [
       "array([[ 9.99950260e-01,  9.96128016e-03, -5.00975875e-04],\n",
       "       [ 4.68660548e-03, -5.13610200e-01, -8.58010838e-01],\n",
       "       [ 8.80419265e-03, -8.57965812e-01,  5.13631338e-01]])"
      ]
     },
     "execution_count": 174,
     "metadata": {},
     "output_type": "execute_result"
    }
   ],
   "source": [
    "W"
   ]
  },
  {
   "cell_type": "code",
   "execution_count": 175,
   "id": "5b2471d2",
   "metadata": {},
   "outputs": [],
   "source": [
    "def findTopPrincipalComponentNumber(eigenvals:list,threshold:int=0.80) -> (int, float):\n",
    "        ''' findTopPrincipalComponentNumber will return k number that will meet the threshold'''\n",
    "        total = sum(eigenvals)\n",
    "        #Sort the Eigenvalues in descending order, \n",
    "        #calculate each eiganvalue that contains percentage of information in raw dataset                                                                \n",
    "        eachPercentList = [(i / total) for i in sorted(eigenvals, reverse=True)] \n",
    "        cumulativePercept=0\n",
    "        cumulativePerceptList=[]\n",
    "        for i in eachPercentList:\n",
    "            cumulativePercept+=i\n",
    "            cumulativePerceptList.append(cumulativePercept)\n",
    "            if cumulativePercept >= threshold:\n",
    "                break\n",
    "        return (len(cumulativePerceptList), float(cumulativePerceptList[-1]))"
   ]
  },
  {
   "cell_type": "code",
   "execution_count": 176,
   "id": "d6954875",
   "metadata": {},
   "outputs": [],
   "source": [
    "bestK, coveredPercentage = findTopPrincipalComponentNumber(eigenvals, 0.95)"
   ]
  },
  {
   "cell_type": "code",
   "execution_count": 177,
   "id": "edab165e",
   "metadata": {},
   "outputs": [
    {
     "data": {
      "text/plain": [
       "1"
      ]
     },
     "execution_count": 177,
     "metadata": {},
     "output_type": "execute_result"
    }
   ],
   "source": [
    "bestK"
   ]
  },
  {
   "cell_type": "code",
   "execution_count": 178,
   "id": "a4fa5e78",
   "metadata": {},
   "outputs": [
    {
     "data": {
      "text/plain": [
       "0.982398432258102"
      ]
     },
     "execution_count": 178,
     "metadata": {},
     "output_type": "execute_result"
    }
   ],
   "source": [
    "coveredPercentage"
   ]
  },
  {
   "cell_type": "code",
   "execution_count": 179,
   "id": "0b365c0c",
   "metadata": {},
   "outputs": [
    {
     "data": {
      "text/plain": [
       "array([[ 9.99950260e-01,  9.96128016e-03, -5.00975875e-04],\n",
       "       [ 4.68660548e-03, -5.13610200e-01, -8.58010838e-01],\n",
       "       [ 8.80419265e-03, -8.57965812e-01,  5.13631338e-01]])"
      ]
     },
     "execution_count": 179,
     "metadata": {},
     "output_type": "execute_result"
    }
   ],
   "source": [
    "W"
   ]
  },
  {
   "cell_type": "code",
   "execution_count": 180,
   "id": "dc549738",
   "metadata": {},
   "outputs": [
    {
     "data": {
      "text/plain": [
       "array([[ 11,   2,  25],\n",
       "       [ 12,  20,  31],\n",
       "       [  5,   6,   7],\n",
       "       [200,  10,  22]])"
      ]
     },
     "execution_count": 180,
     "metadata": {},
     "output_type": "execute_result"
    }
   ],
   "source": [
    "X"
   ]
  },
  {
   "cell_type": "code",
   "execution_count": 181,
   "id": "eee790c5",
   "metadata": {},
   "outputs": [],
   "source": [
    "#pca projected dataset is X times W\n",
    "Z=np.matmul(X, W)\n",
    "\n"
   ]
  },
  {
   "cell_type": "code",
   "execution_count": 182,
   "id": "76c4a1bd",
   "metadata": {},
   "outputs": [
    {
     "data": {
      "text/plain": [
       "array([[ 11.22893088, -22.36679163,  11.11925103],\n",
       "       [ 12.3660652 , -36.74960882,  -1.243657  ],\n",
       "       [  5.08950028,  -9.03761549,  -1.55515054],\n",
       "       [200.23061024, -22.01909384,   2.61958588]])"
      ]
     },
     "execution_count": 182,
     "metadata": {},
     "output_type": "execute_result"
    }
   ],
   "source": [
    "Z"
   ]
  },
  {
   "cell_type": "code",
   "execution_count": 183,
   "id": "bd0a5d21",
   "metadata": {},
   "outputs": [
    {
     "data": {
      "text/plain": [
       "[[11.22893088422844],\n",
       " [12.366065198478557],\n",
       " [5.089500280055335],\n",
       " [200.23061023781398]]"
      ]
     },
     "execution_count": 183,
     "metadata": {},
     "output_type": "execute_result"
    }
   ],
   "source": [
    "#Get bestK columns from Z, to created dimension reduced dataset pcaZ \n",
    "#that has 98% of the information from original X\n",
    "pcaZ=[]\n",
    "for i in Z.tolist():\n",
    "    subZ=[]\n",
    "    for j in range(1):\n",
    "        subZ.append(i[j])\n",
    "    pcaZ.append(subZ)\n",
    "pcaZ"
   ]
  },
  {
   "cell_type": "code",
   "execution_count": 184,
   "id": "94291398",
   "metadata": {},
   "outputs": [],
   "source": [
    "#To reconstruct, can not use pcaZ, need to use Z\n",
    "#Since Z = X times W, then X = Z times inversed(W)\n",
    "restoredX = np.matmul(Z, np.linalg.inv(W))"
   ]
  },
  {
   "cell_type": "code",
   "execution_count": 185,
   "id": "e25c72d6",
   "metadata": {},
   "outputs": [
    {
     "data": {
      "text/plain": [
       "array([[ 11.,   2.,  25.],\n",
       "       [ 12.,  20.,  31.],\n",
       "       [  5.,   6.,   7.],\n",
       "       [200.,  10.,  22.]])"
      ]
     },
     "execution_count": 185,
     "metadata": {},
     "output_type": "execute_result"
    }
   ],
   "source": [
    "#Restored original dataset, that should match original raw dataset X\n",
    "restoredX"
   ]
  },
  {
   "cell_type": "code",
   "execution_count": 186,
   "id": "6c1feb81",
   "metadata": {},
   "outputs": [
    {
     "data": {
      "text/plain": [
       "array([[ 11,   2,  25],\n",
       "       [ 12,  20,  31],\n",
       "       [  5,   6,   7],\n",
       "       [200,  10,  22]])"
      ]
     },
     "execution_count": 186,
     "metadata": {},
     "output_type": "execute_result"
    }
   ],
   "source": [
    "#Original raw dataset\n",
    "X"
   ]
  },
  {
   "cell_type": "code",
   "execution_count": null,
   "id": "e9113d8d",
   "metadata": {},
   "outputs": [],
   "source": []
  },
  {
   "cell_type": "code",
   "execution_count": null,
   "id": "fcd3aa37",
   "metadata": {},
   "outputs": [],
   "source": []
  }
 ],
 "metadata": {
  "kernelspec": {
   "display_name": "Python 3 (ipykernel)",
   "language": "python",
   "name": "python3"
  },
  "language_info": {
   "codemirror_mode": {
    "name": "ipython",
    "version": 3
   },
   "file_extension": ".py",
   "mimetype": "text/x-python",
   "name": "python",
   "nbconvert_exporter": "python",
   "pygments_lexer": "ipython3",
   "version": "3.10.9"
  }
 },
 "nbformat": 4,
 "nbformat_minor": 5
}
