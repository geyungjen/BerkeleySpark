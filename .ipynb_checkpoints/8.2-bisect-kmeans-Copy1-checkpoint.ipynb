{
 "cells": [
  {
   "cell_type": "code",
   "execution_count": 21,
   "id": "6db818c6",
   "metadata": {},
   "outputs": [],
   "source": [
    "from pyspark.sql import SparkSession\n",
    "\n",
    "spark = SparkSession \\\n",
    "    .builder \\\n",
    "    .appName(\"Python Spark K-means example\") \\\n",
    "    .config(\"spark.some.config.option\", \"some-value\") \\\n",
    "    .getOrCreate()"
   ]
  },
  {
   "cell_type": "code",
   "execution_count": 24,
   "id": "0d113905",
   "metadata": {},
   "outputs": [],
   "source": [
    "df = spark.read.format('csv').\\\n",
    "                       options(header='true', \\\n",
    "                       inferschema='true').\\\n",
    "            load(\"data/wine_dataset.csv\",header=True);"
   ]
  },
  {
   "cell_type": "code",
   "execution_count": 25,
   "id": "6f02f6c1",
   "metadata": {},
   "outputs": [
    {
     "name": "stdout",
     "output_type": "stream",
     "text": [
      "+-------------+----------------+-----------+--------------+---------+-------------------+--------------------+-------+----+---------+-------+-------+-----+\n",
      "|fixed_acidity|volatile_acidity|citric_acid|residual_sugar|chlorides|free_sulfur_dioxide|total_sulfur_dioxide|density|  pH|sulphates|alcohol|quality|style|\n",
      "+-------------+----------------+-----------+--------------+---------+-------------------+--------------------+-------+----+---------+-------+-------+-----+\n",
      "|          7.4|             0.7|        0.0|           1.9|    0.076|               11.0|                34.0| 0.9978|3.51|     0.56|    9.4|      5|  red|\n",
      "|          7.8|            0.88|        0.0|           2.6|    0.098|               25.0|                67.0| 0.9968| 3.2|     0.68|    9.8|      5|  red|\n",
      "|          7.8|            0.76|       0.04|           2.3|    0.092|               15.0|                54.0|  0.997|3.26|     0.65|    9.8|      5|  red|\n",
      "+-------------+----------------+-----------+--------------+---------+-------------------+--------------------+-------+----+---------+-------+-------+-----+\n",
      "only showing top 3 rows\n",
      "\n"
     ]
    }
   ],
   "source": [
    "df.show(3)"
   ]
  },
  {
   "cell_type": "code",
   "execution_count": 26,
   "id": "03806e63",
   "metadata": {},
   "outputs": [
    {
     "name": "stderr",
     "output_type": "stream",
     "text": [
      "\r",
      "[Stage 5660:>                                                       (0 + 1) / 1]\r",
      "\r",
      "                                                                                \r"
     ]
    },
    {
     "name": "stdout",
     "output_type": "stream",
     "text": [
      "+--------------------+\n",
      "|            features|\n",
      "+--------------------+\n",
      "|[7.4,0.7,0.0,1.9,...|\n",
      "|[7.8,0.88,0.0,2.6...|\n",
      "|[7.8,0.76,0.04,2....|\n",
      "|[11.2,0.28,0.56,1...|\n",
      "|[7.4,0.7,0.0,1.9,...|\n",
      "+--------------------+\n",
      "only showing top 5 rows\n",
      "\n"
     ]
    }
   ],
   "source": [
    "from pyspark.sql import Row\n",
    "from pyspark.ml.linalg import Vectors\n",
    "\n",
    "transformed=df.rdd.map(lambda r: [Vectors.dense(r[:-1]),r[-1]]).toDF(['features','label']).select(\"features\")\n",
    "transformed.show(5)"
   ]
  },
  {
   "cell_type": "code",
   "execution_count": 27,
   "id": "ebbe3157",
   "metadata": {},
   "outputs": [],
   "source": [
    "from pyspark.ml.feature import StandardScaler"
   ]
  },
  {
   "cell_type": "code",
   "execution_count": 28,
   "id": "2061546d",
   "metadata": {},
   "outputs": [
    {
     "name": "stderr",
     "output_type": "stream",
     "text": [
      "\r",
      "[Stage 5662:>                                                       (0 + 1) / 1]\r",
      "\r",
      "                                                                                \r"
     ]
    },
    {
     "name": "stdout",
     "output_type": "stream",
     "text": [
      "+--------------------+--------------------+\n",
      "|            features|      scaledFeatures|\n",
      "+--------------------+--------------------+\n",
      "|[7.4,0.7,0.0,1.9,...|[0.14246230020601...|\n",
      "|[7.8,0.88,0.0,2.6...|[0.45100101079840...|\n",
      "|[7.8,0.76,0.04,2....|[0.45100101079840...|\n",
      "+--------------------+--------------------+\n",
      "only showing top 3 rows\n",
      "\n"
     ]
    }
   ],
   "source": [
    "scaler = StandardScaler(inputCol=\"features\",outputCol=\"scaledFeatures\",withStd=True, withMean=True)\n",
    "scalerModel = scaler.fit(transformed)\n",
    "#Normalize each feature to have unit standard deviation. \n",
    "scaledData = scalerModel.transform(transformed) \n",
    "scaledData.show(n=3)"
   ]
  },
  {
   "cell_type": "code",
   "execution_count": 35,
   "id": "98748ad8",
   "metadata": {},
   "outputs": [],
   "source": [
    "from pyspark.ml.clustering import BisectingKMeans\n",
    "from pyspark.ml.evaluation import ClusteringEvaluator\n",
    "\n",
    "def RunBisectKM(featuresCol='features', initK=20, dataSet=scaledData):\n",
    "    silhouette_scores=dict()\n",
    "    evaluator = ClusteringEvaluator(featuresCol=featuresCol, metricName='silhouette')\n",
    "    for K in range(2,initK):\n",
    "        BKMeans_=BisectingKMeans(featuresCol=featuresCol, k=K, minDivisibleClusterSize =1)\n",
    "        BKMeans_fit=BKMeans_.fit(dataSet)\n",
    "        BKMeans_transform=BKMeans_fit.transform(dataSet) \n",
    "        evaluation_score=evaluator.evaluate(BKMeans_transform)\n",
    "        silhouette_scores[K]=evaluation_score\n",
    "    bestK=[key for key, value in silhouette_scores.items() if value==max(silhouette_scores.values())][0]\n",
    "    return BisectingKMeans(featuresCol=featuresCol, k=bestK, minDivisibleClusterSize =1)"
   ]
  },
  {
   "cell_type": "code",
   "execution_count": 36,
   "id": "a823ef68",
   "metadata": {},
   "outputs": [
    {
     "name": "stderr",
     "output_type": "stream",
     "text": [
      "                                                                                \r"
     ]
    }
   ],
   "source": [
    "bKM=RunBisectKM(featuresCol='features', initK=20, dataSet=scaledData)\n",
    "model=bKM.fit(scaledData)"
   ]
  },
  {
   "cell_type": "code",
   "execution_count": 37,
   "id": "e3f0a102",
   "metadata": {},
   "outputs": [],
   "source": [
    "predictions=model.transform(scaledData)"
   ]
  },
  {
   "cell_type": "code",
   "execution_count": 38,
   "id": "ee14c524",
   "metadata": {},
   "outputs": [
    {
     "name": "stdout",
     "output_type": "stream",
     "text": [
      "+--------------------+--------------------+----------+\n",
      "|            features|      scaledFeatures|prediction|\n",
      "+--------------------+--------------------+----------+\n",
      "|[7.4,0.7,0.0,1.9,...|[0.14246230020601...|         0|\n",
      "|[7.8,0.88,0.0,2.6...|[0.45100101079840...|         0|\n",
      "|[7.8,0.76,0.04,2....|[0.45100101079840...|         0|\n",
      "|[11.2,0.28,0.56,1...|[3.07358005083372...|         0|\n",
      "|[7.4,0.7,0.0,1.9,...|[0.14246230020601...|         0|\n",
      "+--------------------+--------------------+----------+\n",
      "only showing top 5 rows\n",
      "\n"
     ]
    }
   ],
   "source": [
    "predictions.show(5)"
   ]
  },
  {
   "cell_type": "code",
   "execution_count": 39,
   "id": "25a44509",
   "metadata": {},
   "outputs": [
    {
     "name": "stdout",
     "output_type": "stream",
     "text": [
      "+----------+\n",
      "|prediction|\n",
      "+----------+\n",
      "|         1|\n",
      "|         0|\n",
      "+----------+\n",
      "\n"
     ]
    }
   ],
   "source": [
    "predictions.select(\"prediction\").distinct().show()"
   ]
  },
  {
   "cell_type": "code",
   "execution_count": 40,
   "id": "bb5ea77c",
   "metadata": {},
   "outputs": [
    {
     "name": "stderr",
     "output_type": "stream",
     "text": [
      "\r",
      "[Stage 12725:>                                                      (0 + 1) / 1]\r",
      "\r",
      "                                                                                \r"
     ]
    },
    {
     "name": "stdout",
     "output_type": "stream",
     "text": [
      "Silhouette with squared euclidean distance = 0.6857870702274987\n",
      "Cluster Centers: \n",
      "[7.53956674e+00 3.94329404e-01 2.95489009e-01 3.34114368e+00\n",
      " 6.38212807e-02 1.94424976e+01 6.97107359e+01 9.94454995e-01\n",
      " 3.24803759e+00 5.64593820e-01 1.07776946e+01 5.82924498e+00]\n",
      "[6.91374330e+00 2.87223049e-01 3.41637880e-01 7.44673913e+00\n",
      " 4.88454437e-02 4.08683740e+01 1.59826236e+02 9.94937181e-01\n",
      " 3.19082192e+00 5.01122692e-01 1.02243171e+01 5.81596188e+00]\n"
     ]
    }
   ],
   "source": [
    "# Evaluate clustering by computing Silhouette score \n",
    "evaluator = ClusteringEvaluator()\n",
    "silhouette = evaluator.evaluate(predictions)\n",
    "print(\"Silhouette with squared euclidean distance = {}\".format(silhouette))\n",
    "# Shows the result. \n",
    "print(\"Cluster Centers: \") \n",
    "centers = model.clusterCenters()\n",
    "for i in centers:\n",
    "    print(i)"
   ]
  },
  {
   "cell_type": "code",
   "execution_count": null,
   "id": "ace9da4e",
   "metadata": {},
   "outputs": [],
   "source": []
  },
  {
   "cell_type": "code",
   "execution_count": null,
   "id": "57ff2f85",
   "metadata": {},
   "outputs": [],
   "source": []
  }
 ],
 "metadata": {
  "kernelspec": {
   "display_name": "Python 3 (ipykernel)",
   "language": "python",
   "name": "python3"
  },
  "language_info": {
   "codemirror_mode": {
    "name": "ipython",
    "version": 3
   },
   "file_extension": ".py",
   "mimetype": "text/x-python",
   "name": "python",
   "nbconvert_exporter": "python",
   "pygments_lexer": "ipython3",
   "version": "3.10.9"
  }
 },
 "nbformat": 4,
 "nbformat_minor": 5
}
