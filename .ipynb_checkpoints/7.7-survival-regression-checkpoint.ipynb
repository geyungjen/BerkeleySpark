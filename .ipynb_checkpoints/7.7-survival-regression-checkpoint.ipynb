{
 "cells": [
  {
   "cell_type": "code",
   "execution_count": 2,
   "id": "bc5a6cde",
   "metadata": {},
   "outputs": [],
   "source": [
    "from pyspark.sql import SparkSession\n",
    "from pyspark.ml.linalg import Vectors\n",
    "from pyspark.ml.regression import AFTSurvivalRegression"
   ]
  },
  {
   "cell_type": "code",
   "execution_count": 3,
   "id": "c0d8c2d5",
   "metadata": {},
   "outputs": [
    {
     "name": "stderr",
     "output_type": "stream",
     "text": [
      "Setting default log level to \"WARN\".\n",
      "To adjust logging level use sc.setLogLevel(newLevel). For SparkR, use setLogLevel(newLevel).\n"
     ]
    },
    {
     "name": "stdout",
     "output_type": "stream",
     "text": [
      "23/05/11 00:11:11 WARN NativeCodeLoader: Unable to load native-hadoop library for your platform... using builtin-java classes where applicable\n"
     ]
    }
   ],
   "source": [
    "spark = SparkSession \\\n",
    "    .builder \\\n",
    "    .appName(\"Survival Regression\") \\\n",
    "    .getOrCreate()"
   ]
  },
  {
   "cell_type": "markdown",
   "id": "dd628a6d",
   "metadata": {},
   "source": [
    "### Logged Time To Failure Data\n",
    "\n",
    "label = unit of time, say months, equipment fails\n",
    "censor = 1 means occured, say time (by the label) to failure, uncensored\n",
    "censor = 0 means censored, failure not occured, say time (by the label) to maintenance\n",
    "features contains feature columns, such as machine age and temperature, more example such as \n",
    "\n",
    "Haeat Attack Study:\n",
    "https://web.archive.org/web/20170517071528/http://www.umass.edu/statdata/statdata/data/whas500.txt\n"
   ]
  },
  {
   "cell_type": "code",
   "execution_count": 4,
   "id": "3fc27941",
   "metadata": {},
   "outputs": [],
   "source": [
    "training = spark.createDataFrame((\n",
    "(1.218, 1.0, Vectors.dense(1.560, -0.605)), \n",
    "(2.949, 0.0, Vectors.dense(0.346, 2.158)),\n",
    "(3.627, 0.0, Vectors.dense(1.380, 0.231)), \n",
    "(0.273, 1.0, Vectors.dense(0.520, 1.151)), \n",
    "(4.199, 0.0, Vectors.dense(0.795, -0.226))\n",
    ")).toDF(\"label\", \"censor\", \"features\")"
   ]
  },
  {
   "cell_type": "code",
   "execution_count": 5,
   "id": "051f2ca5",
   "metadata": {},
   "outputs": [
    {
     "name": "stderr",
     "output_type": "stream",
     "text": [
      "                                                                                \r"
     ]
    },
    {
     "name": "stdout",
     "output_type": "stream",
     "text": [
      "+-----+------+--------------+\n",
      "|label|censor|      features|\n",
      "+-----+------+--------------+\n",
      "|1.218|   1.0| [1.56,-0.605]|\n",
      "|2.949|   0.0| [0.346,2.158]|\n",
      "|3.627|   0.0|  [1.38,0.231]|\n",
      "|0.273|   1.0|  [0.52,1.151]|\n",
      "|4.199|   0.0|[0.795,-0.226]|\n",
      "+-----+------+--------------+\n",
      "\n"
     ]
    }
   ],
   "source": [
    "training.show()"
   ]
  },
  {
   "cell_type": "markdown",
   "id": "f1b01e80",
   "metadata": {},
   "source": [
    "### Predict 2 quantile time to failure at 30% chance and at 60% chance "
   ]
  },
  {
   "cell_type": "code",
   "execution_count": 6,
   "id": "af8a7e33",
   "metadata": {},
   "outputs": [],
   "source": [
    "quantileProbabilities = (0.3, 0.6)"
   ]
  },
  {
   "cell_type": "markdown",
   "id": "809b2abc",
   "metadata": {},
   "source": [
    "### train the model with training data above with AFTSurvivalRegression"
   ]
  },
  {
   "cell_type": "code",
   "execution_count": 7,
   "id": "3b4619b9",
   "metadata": {},
   "outputs": [
    {
     "name": "stdout",
     "output_type": "stream",
     "text": [
      "23/05/11 00:11:27 WARN InstanceBuilder$NativeBLAS: Failed to load implementation from:dev.ludovic.netlib.blas.JNIBLAS\n",
      "23/05/11 00:11:27 WARN InstanceBuilder$NativeBLAS: Failed to load implementation from:dev.ludovic.netlib.blas.ForeignLinkerBLAS\n"
     ]
    }
   ],
   "source": [
    "aft = AFTSurvivalRegression(quantileProbabilities=quantileProbabilities,quantilesCol=\"quantiles\",\\\n",
    "                            censorCol=\"censor\",featuresCol=\"features\",labelCol=\"label\") \n",
    "model = aft.fit(training)"
   ]
  },
  {
   "cell_type": "markdown",
   "id": "596ee9c9",
   "metadata": {},
   "source": [
    "### # Print the coefficients, intercept and scale parameter for AFT survival regression"
   ]
  },
  {
   "cell_type": "code",
   "execution_count": 8,
   "id": "51660bd0",
   "metadata": {},
   "outputs": [
    {
     "name": "stdout",
     "output_type": "stream",
     "text": [
      "Coefficients: [-0.4963068060199854,0.19844393975928598]\n",
      "Intercept: 2.638090563156019\n",
      "Scale: 1.5472326865488455\n"
     ]
    }
   ],
   "source": [
    "print(\"Coefficients: {}\".format(model.coefficients))\n",
    "print(\"Intercept: {}\".format(model.intercept))\n",
    "print(\"Scale: {}\".format(model.scale)) \n"
   ]
  },
  {
   "cell_type": "markdown",
   "id": "d90f31cb",
   "metadata": {},
   "source": [
    "### transform the data based on model\n",
    "\n",
    "prediction = time unit to fail when censor = 1 uncensored\n",
    "prediction = time unit to other event such as maintenance when censor = 0 (Censored)\n",
    "1st element of quantiles = time unit at 30% chance\n",
    "2nd element of quantiles = time unit at 60% chance"
   ]
  },
  {
   "cell_type": "code",
   "execution_count": 9,
   "id": "bd911400",
   "metadata": {},
   "outputs": [
    {
     "name": "stdout",
     "output_type": "stream",
     "text": [
      "+-----+------+--------------+------------------+---------------------------------------+\n",
      "|label|censor|features      |prediction        |quantiles                              |\n",
      "+-----+------+--------------+------------------+---------------------------------------+\n",
      "|1.218|1.0   |[1.56,-0.605] |5.7189965530298865|[1.1603295951029065,4.995471733719635] |\n",
      "|2.949|0.0   |[0.346,2.158] |18.07645802858896 |[3.667540106156399,15.789559285491249] |\n",
      "|3.627|0.0   |[1.38,0.231]  |7.381875365763499 |[1.4977117707333785,6.447975512763023] |\n",
      "|0.273|1.0   |[0.52,1.151]  |13.577581299077902|[2.7547611307597735,11.859846908963423]|\n",
      "|4.199|0.0   |[0.795,-0.226]|9.013093216625709 |[1.8286702406091497,7.872823838856861] |\n",
      "+-----+------+--------------+------------------+---------------------------------------+\n",
      "\n"
     ]
    }
   ],
   "source": [
    "model.transform(training).show(truncate=False)"
   ]
  },
  {
   "cell_type": "code",
   "execution_count": null,
   "id": "4a7f802e",
   "metadata": {},
   "outputs": [],
   "source": []
  }
 ],
 "metadata": {
  "kernelspec": {
   "display_name": "Python 3 (ipykernel)",
   "language": "python",
   "name": "python3"
  },
  "language_info": {
   "codemirror_mode": {
    "name": "ipython",
    "version": 3
   },
   "file_extension": ".py",
   "mimetype": "text/x-python",
   "name": "python",
   "nbconvert_exporter": "python",
   "pygments_lexer": "ipython3",
   "version": "3.10.9"
  }
 },
 "nbformat": 4,
 "nbformat_minor": 5
}
