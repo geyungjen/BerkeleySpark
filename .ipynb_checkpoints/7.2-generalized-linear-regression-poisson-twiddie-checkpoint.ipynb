{
 "cells": [
  {
   "cell_type": "code",
   "execution_count": 1,
   "metadata": {},
   "outputs": [],
   "source": [
    "import numpy as np\n",
    "\n",
    "n_samples, n_features = 1000, 1\n",
    "rng = np.random.RandomState(0)\n",
    "X = rng.randn(n_samples, n_features)\n",
    "#positive integer target correlated with X[:, 5] with many zeros:\n",
    "y = rng.poisson(lam=np.exp(X[:, 0]) / 2)\n",
    "\n"
   ]
  },
  {
   "cell_type": "code",
   "execution_count": 3,
   "metadata": {},
   "outputs": [],
   "source": [
    "XL=[]\n",
    "for i in X:\n",
    "    XL.append(i[0])\n",
    "\n"
   ]
  },
  {
   "cell_type": "code",
   "execution_count": 4,
   "metadata": {},
   "outputs": [],
   "source": [
    "YL=list(y)\n"
   ]
  },
  {
   "cell_type": "code",
   "execution_count": 7,
   "metadata": {},
   "outputs": [
    {
     "data": {
      "image/png": "[encoded data removed]",
      "text/plain": [
       "<Figure size 1000x800 with 1 Axes>"
      ]
     },
     "metadata": {},
     "output_type": "display_data"
    }
   ],
   "source": [
    "\n",
    "import matplotlib.pyplot as plt\n",
    "%matplotlib inline\n",
    "plt.figure(figsize = (10, 8))\n",
    "plt.scatter(XL, YL);"
   ]
  },
  {
   "cell_type": "code",
   "execution_count": 8,
   "metadata": {},
   "outputs": [
    {
     "name": "stderr",
     "output_type": "stream",
     "text": [
      "Setting default log level to \"WARN\".\n",
      "To adjust logging level use sc.setLogLevel(newLevel). For SparkR, use setLogLevel(newLevel).\n"
     ]
    },
    {
     "name": "stdout",
     "output_type": "stream",
     "text": [
      "23/05/03 08:28:41 WARN NativeCodeLoader: Unable to load native-hadoop library for your platform... using builtin-java classes where applicable\n"
     ]
    }
   ],
   "source": [
    "from pyspark import SparkContext\n",
    "sc = SparkContext(master = 'local')\n",
    "\n",
    "from pyspark.sql import SparkSession\n",
    "spark = SparkSession.builder \\\n",
    "          .appName(\"Python Spark SQL basic example\") \\\n",
    "          .config(\"spark.some.config.option\", \"some-value\") \\\n",
    "          .getOrCreate()"
   ]
  },
  {
   "cell_type": "code",
   "execution_count": 9,
   "metadata": {},
   "outputs": [
    {
     "data": {
      "text/html": [
       "<div>\n",
       "<style scoped>\n",
       "    .dataframe tbody tr th:only-of-type {\n",
       "        vertical-align: middle;\n",
       "    }\n",
       "\n",
       "    .dataframe tbody tr th {\n",
       "        vertical-align: top;\n",
       "    }\n",
       "\n",
       "    .dataframe thead th {\n",
       "        text-align: right;\n",
       "    }\n",
       "</style>\n",
       "<table border=\"1\" class=\"dataframe\">\n",
       "  <thead>\n",
       "    <tr style=\"text-align: right;\">\n",
       "      <th></th>\n",
       "      <th>features</th>\n",
       "      <th>label</th>\n",
       "    </tr>\n",
       "  </thead>\n",
       "  <tbody>\n",
       "    <tr>\n",
       "      <th>0</th>\n",
       "      <td>1.764052</td>\n",
       "      <td>7</td>\n",
       "    </tr>\n",
       "    <tr>\n",
       "      <th>1</th>\n",
       "      <td>0.400157</td>\n",
       "      <td>0</td>\n",
       "    </tr>\n",
       "    <tr>\n",
       "      <th>2</th>\n",
       "      <td>0.978738</td>\n",
       "      <td>2</td>\n",
       "    </tr>\n",
       "    <tr>\n",
       "      <th>3</th>\n",
       "      <td>2.240893</td>\n",
       "      <td>2</td>\n",
       "    </tr>\n",
       "    <tr>\n",
       "      <th>4</th>\n",
       "      <td>1.867558</td>\n",
       "      <td>6</td>\n",
       "    </tr>\n",
       "    <tr>\n",
       "      <th>...</th>\n",
       "      <td>...</td>\n",
       "      <td>...</td>\n",
       "    </tr>\n",
       "    <tr>\n",
       "      <th>995</th>\n",
       "      <td>0.412871</td>\n",
       "      <td>1</td>\n",
       "    </tr>\n",
       "    <tr>\n",
       "      <th>996</th>\n",
       "      <td>-0.198399</td>\n",
       "      <td>1</td>\n",
       "    </tr>\n",
       "    <tr>\n",
       "      <th>997</th>\n",
       "      <td>0.094192</td>\n",
       "      <td>0</td>\n",
       "    </tr>\n",
       "    <tr>\n",
       "      <th>998</th>\n",
       "      <td>-1.147611</td>\n",
       "      <td>0</td>\n",
       "    </tr>\n",
       "    <tr>\n",
       "      <th>999</th>\n",
       "      <td>-0.358114</td>\n",
       "      <td>0</td>\n",
       "    </tr>\n",
       "  </tbody>\n",
       "</table>\n",
       "<p>1000 rows × 2 columns</p>\n",
       "</div>"
      ],
      "text/plain": [
       "     features  label\n",
       "0    1.764052      7\n",
       "1    0.400157      0\n",
       "2    0.978738      2\n",
       "3    2.240893      2\n",
       "4    1.867558      6\n",
       "..        ...    ...\n",
       "995  0.412871      1\n",
       "996 -0.198399      1\n",
       "997  0.094192      0\n",
       "998 -1.147611      0\n",
       "999 -0.358114      0\n",
       "\n",
       "[1000 rows x 2 columns]"
      ]
     },
     "execution_count": 9,
     "metadata": {},
     "output_type": "execute_result"
    }
   ],
   "source": [
    "from pyspark.sql.types import List\n",
    "from pyspark.ml.linalg import Vectors\n",
    "import pandas as pd\n",
    "frame={'features':XL,'label':YL}\n",
    "df=pd.DataFrame(frame)\n",
    "df\n",
    "#cuse=spark.createDataFrame(df)\n"
   ]
  },
  {
   "cell_type": "code",
   "execution_count": 10,
   "metadata": {},
   "outputs": [
    {
     "name": "stderr",
     "output_type": "stream",
     "text": [
      "/usr/local/lib/python3.10/site-packages/pyspark/sql/pandas/conversion.py:474: FutureWarning: iteritems is deprecated and will be removed in a future version. Use .items instead.\n",
      "  for column, series in pdf.iteritems():\n",
      "/usr/local/lib/python3.10/site-packages/pyspark/sql/pandas/conversion.py:486: FutureWarning: iteritems is deprecated and will be removed in a future version. Use .items instead.\n",
      "  for column, series in pdf.iteritems():\n"
     ]
    }
   ],
   "source": [
    "cuse=spark.createDataFrame(df)"
   ]
  },
  {
   "cell_type": "code",
   "execution_count": 11,
   "metadata": {},
   "outputs": [
    {
     "name": "stderr",
     "output_type": "stream",
     "text": [
      "\r",
      "[Stage 0:>                                                          (0 + 1) / 1]\r"
     ]
    },
    {
     "name": "stdout",
     "output_type": "stream",
     "text": [
      "+------------------+-----+\n",
      "|          features|label|\n",
      "+------------------+-----+\n",
      "| 1.764052345967664|    7|\n",
      "|0.4001572083672233|    0|\n",
      "|0.9787379841057392|    2|\n",
      "| 2.240893199201458|    2|\n",
      "|1.8675579901499675|    6|\n",
      "+------------------+-----+\n",
      "only showing top 5 rows\n",
      "\n"
     ]
    },
    {
     "name": "stderr",
     "output_type": "stream",
     "text": [
      "\r",
      "                                                                                \r"
     ]
    }
   ],
   "source": [
    "cuse.show(5)"
   ]
  },
  {
   "cell_type": "code",
   "execution_count": 12,
   "metadata": {},
   "outputs": [
    {
     "name": "stderr",
     "output_type": "stream",
     "text": [
      "\r",
      "[Stage 1:>                                                          (0 + 1) / 1]\r",
      "\r",
      "                                                                                \r"
     ]
    }
   ],
   "source": [
    "cuse=cuse.rdd.map(lambda x: [Vectors.dense(x[0]), x[-1]]).toDF([\"features\", \"label\"])\n",
    "\n"
   ]
  },
  {
   "cell_type": "code",
   "execution_count": 13,
   "metadata": {},
   "outputs": [
    {
     "name": "stdout",
     "output_type": "stream",
     "text": [
      "+--------------------+-----+\n",
      "|            features|label|\n",
      "+--------------------+-----+\n",
      "| [1.764052345967664]|    7|\n",
      "|[0.4001572083672233]|    0|\n",
      "|[0.9787379841057392]|    2|\n",
      "| [2.240893199201458]|    2|\n",
      "|[1.8675579901499675]|    6|\n",
      "+--------------------+-----+\n",
      "only showing top 5 rows\n",
      "\n"
     ]
    },
    {
     "name": "stderr",
     "output_type": "stream",
     "text": [
      "\r",
      "[Stage 2:>                                                          (0 + 1) / 1]\r",
      "\r",
      "                                                                                \r"
     ]
    }
   ],
   "source": [
    "# assemble all feature columns into on single vector column\n",
    "#from pyspark.ml.feature import VectorAssembler\n",
    "#assembler = VectorAssembler(inputCols=['x'], outputCol='features')\n",
    "#cuse_df_2 = assembler.transform(cuse).withColumnRenamed('y', 'label')\n",
    "cuse_df_2=cuse\n",
    "cuse_df_2.show(5)"
   ]
  },
  {
   "cell_type": "code",
   "execution_count": 14,
   "metadata": {},
   "outputs": [
    {
     "name": "stdout",
     "output_type": "stream",
     "text": [
      "+--------------------+-----+\n",
      "|            features|label|\n",
      "+--------------------+-----+\n",
      "|[-3.0461430547999...|    0|\n",
      "| [-2.77259275642665]|    0|\n",
      "|[-2.7396771671895...|    0|\n",
      "|[-2.655619092974933]|    0|\n",
      "|[-2.5827966329699...|    0|\n",
      "+--------------------+-----+\n",
      "only showing top 5 rows\n",
      "\n"
     ]
    },
    {
     "name": "stderr",
     "output_type": "stream",
     "text": [
      "\r",
      "[Stage 3:>                                                          (0 + 1) / 1]\r",
      "\r",
      "                                                                                \r"
     ]
    }
   ],
   "source": [
    "# split data into training and test datasets\n",
    "training, test = cuse_df_2.randomSplit([0.8, 0.2], seed=1234)\n",
    "training.show(5)\n"
   ]
  },
  {
   "cell_type": "code",
   "execution_count": 15,
   "metadata": {},
   "outputs": [],
   "source": [
    "## ======= build cross validation model ===========\n",
    "\n",
    "# estimator\n",
    "from pyspark.ml.regression import GeneralizedLinearRegression\n",
    "glm = GeneralizedLinearRegression(featuresCol='features', labelCol='label', family='poisson')\n",
    "\n",
    "# parameter grid\n",
    "from pyspark.ml.tuning import ParamGridBuilder\n",
    "param_grid = ParamGridBuilder().\\\n",
    "    addGrid(glm.regParam, [0, 0.5, 1, 2, 4]).\\\n",
    "    build()\n",
    "    \n",
    "# evaluator\n",
    "from pyspark.ml.evaluation import BinaryClassificationEvaluator \n",
    "evaluator = BinaryClassificationEvaluator(rawPredictionCol='prediction')\n",
    "\n",
    "# build cross-validation model\n",
    "from pyspark.ml.tuning import CrossValidator\n",
    "cv = CrossValidator(estimator=glm, estimatorParamMaps=param_grid, evaluator=evaluator, numFolds=4)"
   ]
  },
  {
   "cell_type": "code",
   "execution_count": 16,
   "metadata": {},
   "outputs": [
    {
     "name": "stdout",
     "output_type": "stream",
     "text": [
      "23/05/03 08:31:27 WARN Instrumentation: [bc08595c] regParam is zero, which might cause numerical instability and overfitting.\n",
      "23/05/03 08:31:27 WARN InstanceBuilder$NativeBLAS: Failed to load implementation from:dev.ludovic.netlib.blas.JNIBLAS\n",
      "23/05/03 08:31:27 WARN InstanceBuilder$NativeBLAS: Failed to load implementation from:dev.ludovic.netlib.blas.ForeignLinkerBLAS\n",
      "23/05/03 08:31:27 WARN InstanceBuilder$NativeLAPACK: Failed to load implementation from:dev.ludovic.netlib.lapack.JNILAPACK\n",
      "23/05/03 08:31:27 WARN Instrumentation: [bc08595c] regParam is zero, which might cause numerical instability and overfitting.\n",
      "23/05/03 08:31:28 WARN Instrumentation: [bc08595c] regParam is zero, which might cause numerical instability and overfitting.\n",
      "23/05/03 08:31:28 WARN Instrumentation: [bc08595c] regParam is zero, which might cause numerical instability and overfitting.\n",
      "23/05/03 08:31:28 WARN Instrumentation: [bc08595c] regParam is zero, which might cause numerical instability and overfitting.\n",
      "23/05/03 08:31:28 WARN Instrumentation: [bc08595c] regParam is zero, which might cause numerical instability and overfitting.\n",
      "23/05/03 08:31:31 WARN Instrumentation: [cd81ca3c] regParam is zero, which might cause numerical instability and overfitting.\n",
      "23/05/03 08:31:31 WARN Instrumentation: [cd81ca3c] regParam is zero, which might cause numerical instability and overfitting.\n",
      "23/05/03 08:31:31 WARN Instrumentation: [cd81ca3c] regParam is zero, which might cause numerical instability and overfitting.\n",
      "23/05/03 08:31:31 WARN Instrumentation: [cd81ca3c] regParam is zero, which might cause numerical instability and overfitting.\n",
      "23/05/03 08:31:31 WARN Instrumentation: [cd81ca3c] regParam is zero, which might cause numerical instability and overfitting.\n",
      "23/05/03 08:31:31 WARN Instrumentation: [cd81ca3c] regParam is zero, which might cause numerical instability and overfitting.\n",
      "23/05/03 08:31:34 WARN Instrumentation: [4a4aa6a1] regParam is zero, which might cause numerical instability and overfitting.\n",
      "23/05/03 08:31:34 WARN Instrumentation: [4a4aa6a1] regParam is zero, which might cause numerical instability and overfitting.\n",
      "23/05/03 08:31:34 WARN Instrumentation: [4a4aa6a1] regParam is zero, which might cause numerical instability and overfitting.\n",
      "23/05/03 08:31:34 WARN Instrumentation: [4a4aa6a1] regParam is zero, which might cause numerical instability and overfitting.\n",
      "23/05/03 08:31:34 WARN Instrumentation: [4a4aa6a1] regParam is zero, which might cause numerical instability and overfitting.\n",
      "23/05/03 08:31:34 WARN Instrumentation: [4a4aa6a1] regParam is zero, which might cause numerical instability and overfitting.\n",
      "23/05/03 08:31:36 WARN Instrumentation: [b2d347fa] regParam is zero, which might cause numerical instability and overfitting.\n",
      "23/05/03 08:31:36 WARN Instrumentation: [b2d347fa] regParam is zero, which might cause numerical instability and overfitting.\n",
      "23/05/03 08:31:36 WARN Instrumentation: [b2d347fa] regParam is zero, which might cause numerical instability and overfitting.\n",
      "23/05/03 08:31:36 WARN Instrumentation: [b2d347fa] regParam is zero, which might cause numerical instability and overfitting.\n",
      "23/05/03 08:31:36 WARN Instrumentation: [b2d347fa] regParam is zero, which might cause numerical instability and overfitting.\n",
      "23/05/03 08:31:36 WARN Instrumentation: [b2d347fa] regParam is zero, which might cause numerical instability and overfitting.\n",
      "23/05/03 08:31:38 WARN Instrumentation: [9b47a572] regParam is zero, which might cause numerical instability and overfitting.\n"
     ]
    },
    {
     "name": "stderr",
     "output_type": "stream",
     "text": [
      "\r",
      "[Stage 361:>                                                        (0 + 1) / 1]\r",
      "\r",
      "                                                                                \r"
     ]
    },
    {
     "name": "stdout",
     "output_type": "stream",
     "text": [
      "23/05/03 08:31:38 WARN Instrumentation: [9b47a572] regParam is zero, which might cause numerical instability and overfitting.\n",
      "23/05/03 08:31:39 WARN Instrumentation: [9b47a572] regParam is zero, which might cause numerical instability and overfitting.\n",
      "23/05/03 08:31:39 WARN Instrumentation: [9b47a572] regParam is zero, which might cause numerical instability and overfitting.\n",
      "23/05/03 08:31:39 WARN Instrumentation: [9b47a572] regParam is zero, which might cause numerical instability and overfitting.\n",
      "23/05/03 08:31:39 WARN Instrumentation: [9b47a572] regParam is zero, which might cause numerical instability and overfitting.\n"
     ]
    }
   ],
   "source": [
    "# fit model\n",
    "# cv_model = cv.fit(training)\n",
    "cv_model = cv.fit(cuse_df_2)"
   ]
  },
  {
   "cell_type": "code",
   "execution_count": 17,
   "metadata": {},
   "outputs": [
    {
     "name": "stderr",
     "output_type": "stream",
     "text": [
      "\r",
      "[Stage 367:>                                                        (0 + 1) / 1]\r"
     ]
    },
    {
     "name": "stdout",
     "output_type": "stream",
     "text": [
      "+--------------------+-----+--------------------+\n",
      "|            features|label|          prediction|\n",
      "+--------------------+-----+--------------------+\n",
      "|[-3.0461430547999...|    0| 0.02180091618894531|\n",
      "| [-2.77259275642665]|    0| 0.02888368111366465|\n",
      "|[-2.7396771671895...|    0|0.029878161818114382|\n",
      "|[-2.655619092974933]|    0|0.032575969930618155|\n",
      "|[-2.5827966329699...|    0| 0.03510933391582833|\n",
      "+--------------------+-----+--------------------+\n",
      "only showing top 5 rows\n",
      "\n",
      "+---------------------+-----+--------------------+\n",
      "|features             |label|prediction          |\n",
      "+---------------------+-----+--------------------+\n",
      "|[-2.8345545052747023]|0    |0.027100550111825567|\n",
      "|[-2.659172237996741] |0    |0.032457150400597296|\n",
      "|[-2.0306844677814944]|0    |0.06194646620669437 |\n",
      "|[-1.980796468223927] |0    |0.0652076251409972  |\n",
      "|[-1.9686246897860202]|1    |0.06602900533481683 |\n",
      "+---------------------+-----+--------------------+\n",
      "only showing top 5 rows\n",
      "\n"
     ]
    },
    {
     "name": "stderr",
     "output_type": "stream",
     "text": [
      "\r",
      "                                                                                \r"
     ]
    }
   ],
   "source": [
    "# prediction\n",
    "pred_training_cv = cv_model.transform(training)\n",
    "pred_test_cv = cv_model.transform(test)\n",
    "\n",
    "pred_training_cv.show(5)\n",
    "pred_test_cv.show(5, truncate=False)"
   ]
  },
  {
   "cell_type": "code",
   "execution_count": 18,
   "metadata": {},
   "outputs": [
    {
     "data": {
      "text/plain": [
       "DenseVector([1.0284])"
      ]
     },
     "execution_count": 18,
     "metadata": {},
     "output_type": "execute_result"
    }
   ],
   "source": [
    "cv_model.bestModel.coefficients"
   ]
  },
  {
   "cell_type": "code",
   "execution_count": 19,
   "metadata": {},
   "outputs": [
    {
     "data": {
      "text/plain": [
       "-0.6930868994139266"
      ]
     },
     "execution_count": 19,
     "metadata": {},
     "output_type": "execute_result"
    }
   ],
   "source": [
    "cv_model.bestModel.intercept"
   ]
  },
  {
   "cell_type": "code",
   "execution_count": 20,
   "metadata": {},
   "outputs": [],
   "source": [
    "#cv_model.bestModel"
   ]
  },
  {
   "cell_type": "code",
   "execution_count": 21,
   "metadata": {},
   "outputs": [
    {
     "data": {
      "text/plain": [
       "0.8208661926308974"
      ]
     },
     "execution_count": 21,
     "metadata": {},
     "output_type": "execute_result"
    }
   ],
   "source": [
    "evaluator.evaluate(pred_training_cv)"
   ]
  },
  {
   "cell_type": "code",
   "execution_count": 22,
   "metadata": {},
   "outputs": [
    {
     "data": {
      "text/plain": [
       "0.8056954668733054"
      ]
     },
     "execution_count": 22,
     "metadata": {},
     "output_type": "execute_result"
    }
   ],
   "source": [
    "evaluator.evaluate(pred_test_cv)"
   ]
  },
  {
   "cell_type": "code",
   "execution_count": 32,
   "metadata": {},
   "outputs": [
    {
     "name": "stdout",
     "output_type": "stream",
     "text": [
      "+--------------------+-----+--------------------+\n",
      "|            features|label|          prediction|\n",
      "+--------------------+-----+--------------------+\n",
      "|[-2.8345545052747...|    0|0.027100550111825567|\n",
      "|[-2.659172237996741]|    0|0.032457150400597296|\n",
      "|[-2.0306844677814...|    0| 0.06194646620669437|\n",
      "|[-1.980796468223927]|    0|  0.0652076251409972|\n",
      "|[-1.9686246897860...|    1| 0.06602900533481683|\n",
      "+--------------------+-----+--------------------+\n",
      "only showing top 5 rows\n",
      "\n"
     ]
    },
    {
     "name": "stderr",
     "output_type": "stream",
     "text": [
      "\r",
      "[Stage 393:>                                                        (0 + 1) / 1]\r",
      "\r",
      "                                                                                \r"
     ]
    }
   ],
   "source": [
    "pred_test_cv.show(5)"
   ]
  },
  {
   "cell_type": "code",
   "execution_count": 41,
   "metadata": {},
   "outputs": [],
   "source": [
    "X=[]\n",
    "for i in pred_test_cv.rdd.map(lambda x: [x[0][0]]).collect():\n",
    "    X.append(i[0])\n",
    "L=[]\n",
    "\n",
    "for i in pred_test_cv.rdd.map(lambda x: [x[1]]).collect():\n",
    "    L.append(i[0])\n",
    "P=[]\n",
    "for i in pred_test_cv.rdd.map(lambda x: [x[2]]).collect():\n",
    "    P.append(i[0])\n"
   ]
  },
  {
   "cell_type": "code",
   "execution_count": 44,
   "metadata": {},
   "outputs": [
    {
     "data": {
      "image/png": "[encoded data removed]",
      "text/plain": [
       "<Figure size 1000x800 with 1 Axes>"
      ]
     },
     "metadata": {},
     "output_type": "display_data"
    }
   ],
   "source": [
    "plt.figure(figsize = (10, 8))\n",
    "plt.scatter(X, L);\n",
    "plt.plot(X, P,'r-');"
   ]
  },
  {
   "cell_type": "code",
   "execution_count": 45,
   "metadata": {},
   "outputs": [],
   "source": [
    "## ======= build cross validation model ===========\n",
    "\n",
    "# estimator\n",
    "from pyspark.ml.regression import GeneralizedLinearRegression\n",
    "glm = GeneralizedLinearRegression(featuresCol='features', labelCol='label', family='tweedie')\n",
    "\n",
    "# parameter grid\n",
    "from pyspark.ml.tuning import ParamGridBuilder\n",
    "param_grid = ParamGridBuilder().\\\n",
    "    addGrid(glm.regParam, [0, 0.5, 1, 2, 4]).\\\n",
    "    build()\n",
    "    \n",
    "# evaluator\n",
    "from pyspark.ml.evaluation import BinaryClassificationEvaluator\n",
    "evaluator = BinaryClassificationEvaluator(rawPredictionCol='prediction')\n",
    "\n",
    "# build cross-validation model\n",
    "from pyspark.ml.tuning import CrossValidator\n",
    "cv = CrossValidator(estimator=glm, estimatorParamMaps=param_grid, evaluator=evaluator, numFolds=4)"
   ]
  },
  {
   "cell_type": "code",
   "execution_count": 46,
   "metadata": {},
   "outputs": [
    {
     "name": "stderr",
     "output_type": "stream",
     "text": [
      "                                                                                \r"
     ]
    },
    {
     "name": "stdout",
     "output_type": "stream",
     "text": [
      "23/05/03 09:38:43 WARN Instrumentation: [b8dda960] regParam is zero, which might cause numerical instability and overfitting.\n",
      "23/05/03 09:38:44 WARN Instrumentation: [4e4ec285] regParam is zero, which might cause numerical instability and overfitting.\n",
      "23/05/03 09:38:45 WARN Instrumentation: [4806b43c] regParam is zero, which might cause numerical instability and overfitting.\n",
      "23/05/03 09:38:47 WARN Instrumentation: [af08de9d] regParam is zero, which might cause numerical instability and overfitting.\n",
      "23/05/03 09:38:48 WARN Instrumentation: [d82ec562] regParam is zero, which might cause numerical instability and overfitting.\n"
     ]
    },
    {
     "name": "stderr",
     "output_type": "stream",
     "text": [
      "\r",
      "[Stage 635:>                                                        (0 + 1) / 1]\r",
      "\r",
      "                                                                                \r"
     ]
    }
   ],
   "source": [
    "# fit model\n",
    "# cv_model = cv.fit(training)\n",
    "cv_model = cv.fit(cuse_df_2)"
   ]
  },
  {
   "cell_type": "code",
   "execution_count": 47,
   "metadata": {},
   "outputs": [
    {
     "name": "stdout",
     "output_type": "stream",
     "text": [
      "+--------------------+-----+-------------------+\n",
      "|            features|label|         prediction|\n",
      "+--------------------+-----+-------------------+\n",
      "|[-3.0461430547999...|    0| -1.643289840248977|\n",
      "| [-2.77259275642665]|    0| -1.420659244754061|\n",
      "|[-2.7396771671895...|    0|-1.3938706896821131|\n",
      "|[-2.655619092974933]|    0|-1.3254595081559237|\n",
      "|[-2.5827966329699...|    0|-1.2661925004694898|\n",
      "+--------------------+-----+-------------------+\n",
      "only showing top 5 rows\n",
      "\n",
      "+---------------------+-----+-------------------+\n",
      "|features             |label|prediction         |\n",
      "+---------------------+-----+-------------------+\n",
      "|[-2.8345545052747023]|0    |-1.4710871957597098|\n",
      "|[-2.659172237996741] |0    |-1.3283512571205163|\n",
      "|[-2.0306844677814944]|0    |-0.8168526136302359|\n",
      "|[-1.980796468223927] |0    |-0.7762509578630918|\n",
      "|[-1.9686246897860202]|1    |-0.7663448809990643|\n",
      "+---------------------+-----+-------------------+\n",
      "only showing top 5 rows\n",
      "\n"
     ]
    }
   ],
   "source": [
    "# prediction\n",
    "pred_training_cv = cv_model.transform(training)\n",
    "pred_test_cv = cv_model.transform(test)\n",
    "\n",
    "pred_training_cv.show(5)\n",
    "pred_test_cv.show(5, truncate=False)"
   ]
  },
  {
   "cell_type": "code",
   "execution_count": 48,
   "metadata": {},
   "outputs": [
    {
     "data": {
      "text/plain": [
       "DenseVector([0.8139])"
      ]
     },
     "execution_count": 48,
     "metadata": {},
     "output_type": "execute_result"
    }
   ],
   "source": [
    "cv_model.bestModel.coefficients"
   ]
  },
  {
   "cell_type": "code",
   "execution_count": 49,
   "metadata": {},
   "outputs": [
    {
     "data": {
      "text/plain": [
       "0.8358324501877628"
      ]
     },
     "execution_count": 49,
     "metadata": {},
     "output_type": "execute_result"
    }
   ],
   "source": [
    "cv_model.bestModel.intercept"
   ]
  },
  {
   "cell_type": "code",
   "execution_count": 50,
   "metadata": {},
   "outputs": [
    {
     "data": {
      "text/plain": [
       "0.8208661926308974"
      ]
     },
     "execution_count": 50,
     "metadata": {},
     "output_type": "execute_result"
    }
   ],
   "source": [
    "evaluator.evaluate(pred_training_cv)"
   ]
  },
  {
   "cell_type": "code",
   "execution_count": 51,
   "metadata": {},
   "outputs": [
    {
     "data": {
      "text/plain": [
       "0.8056954668733054"
      ]
     },
     "execution_count": 51,
     "metadata": {},
     "output_type": "execute_result"
    }
   ],
   "source": [
    "evaluator.evaluate(pred_test_cv)"
   ]
  },
  {
   "cell_type": "code",
   "execution_count": 52,
   "metadata": {},
   "outputs": [
    {
     "name": "stderr",
     "output_type": "stream",
     "text": [
      "\r",
      "[Stage 656:>                                                        (0 + 1) / 1]\r",
      "\r",
      "                                                                                \r"
     ]
    }
   ],
   "source": [
    "X=[]\n",
    "for i in pred_test_cv.rdd.map(lambda x: [x[0][0]]).collect():\n",
    "    X.append(i[0])\n",
    "L=[]\n",
    "\n",
    "for i in pred_test_cv.rdd.map(lambda x: [x[1]]).collect():\n",
    "    L.append(i[0])\n",
    "P=[]\n",
    "for i in pred_test_cv.rdd.map(lambda x: [x[2]]).collect():\n",
    "    P.append(i[0])"
   ]
  },
  {
   "cell_type": "code",
   "execution_count": 53,
   "metadata": {},
   "outputs": [
    {
     "data": {
      "image/png": "[encoded data removed]",
      "text/plain": [
       "<Figure size 1000x800 with 1 Axes>"
      ]
     },
     "metadata": {},
     "output_type": "display_data"
    }
   ],
   "source": [
    "plt.figure(figsize = (10, 8))\n",
    "plt.scatter(X, L);\n",
    "plt.plot(X, P,'r-');"
   ]
  },
  {
   "cell_type": "code",
   "execution_count": null,
   "metadata": {},
   "outputs": [],
   "source": []
  }
 ],
 "metadata": {
  "kernelspec": {
   "display_name": "Python 3 (ipykernel)",
   "language": "python",
   "name": "python3"
  },
  "language_info": {
   "codemirror_mode": {
    "name": "ipython",
    "version": 3
   },
   "file_extension": ".py",
   "mimetype": "text/x-python",
   "name": "python",
   "nbconvert_exporter": "python",
   "pygments_lexer": "ipython3",
   "version": "3.10.9"
  }
 },
 "nbformat": 4,
 "nbformat_minor": 2
}
