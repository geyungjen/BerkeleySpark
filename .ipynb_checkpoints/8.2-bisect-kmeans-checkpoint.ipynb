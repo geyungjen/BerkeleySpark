{
 "cells": [
  {
   "cell_type": "code",
   "execution_count": 41,
   "id": "6db818c6",
   "metadata": {},
   "outputs": [],
   "source": [
    "from pyspark.sql import SparkSession\n",
    "\n",
    "spark = SparkSession \\\n",
    "    .builder \\\n",
    "    .appName(\"Python Spark K-means example\") \\\n",
    "    .config(\"spark.some.config.option\", \"some-value\") \\\n",
    "    .getOrCreate()"
   ]
  },
  {
   "cell_type": "code",
   "execution_count": 42,
   "id": "0d113905",
   "metadata": {},
   "outputs": [],
   "source": [
    "df = spark.read.format('csv').\\\n",
    "                       options(header='true', \\\n",
    "                       inferschema='true').\\\n",
    "            load(\"data/wine_dataset.csv\",header=True);"
   ]
  },
  {
   "cell_type": "code",
   "execution_count": 43,
   "id": "6f02f6c1",
   "metadata": {},
   "outputs": [
    {
     "name": "stdout",
     "output_type": "stream",
     "text": [
      "+-------------+----------------+-----------+--------------+---------+-------------------+--------------------+-------+----+---------+-------+-------+-----+\n",
      "|fixed_acidity|volatile_acidity|citric_acid|residual_sugar|chlorides|free_sulfur_dioxide|total_sulfur_dioxide|density|  pH|sulphates|alcohol|quality|style|\n",
      "+-------------+----------------+-----------+--------------+---------+-------------------+--------------------+-------+----+---------+-------+-------+-----+\n",
      "|          7.4|             0.7|        0.0|           1.9|    0.076|               11.0|                34.0| 0.9978|3.51|     0.56|    9.4|      5|  red|\n",
      "|          7.8|            0.88|        0.0|           2.6|    0.098|               25.0|                67.0| 0.9968| 3.2|     0.68|    9.8|      5|  red|\n",
      "|          7.8|            0.76|       0.04|           2.3|    0.092|               15.0|                54.0|  0.997|3.26|     0.65|    9.8|      5|  red|\n",
      "+-------------+----------------+-----------+--------------+---------+-------------------+--------------------+-------+----+---------+-------+-------+-----+\n",
      "only showing top 3 rows\n",
      "\n"
     ]
    }
   ],
   "source": [
    "df.show(3)"
   ]
  },
  {
   "cell_type": "code",
   "execution_count": 44,
   "id": "03806e63",
   "metadata": {},
   "outputs": [
    {
     "name": "stderr",
     "output_type": "stream",
     "text": [
      "                                                                                \r"
     ]
    },
    {
     "name": "stdout",
     "output_type": "stream",
     "text": [
      "+--------------------+\n",
      "|            features|\n",
      "+--------------------+\n",
      "|[7.4,0.7,0.0,1.9,...|\n",
      "|[7.8,0.88,0.0,2.6...|\n",
      "|[7.8,0.76,0.04,2....|\n",
      "|[11.2,0.28,0.56,1...|\n",
      "|[7.4,0.7,0.0,1.9,...|\n",
      "+--------------------+\n",
      "only showing top 5 rows\n",
      "\n"
     ]
    }
   ],
   "source": [
    "from pyspark.sql import Row\n",
    "from pyspark.ml.linalg import Vectors\n",
    "\n",
    "transformed=df.rdd.map(lambda r: [Vectors.dense(r[:-1]),r[-1]]).toDF(['features','label']).select(\"features\")\n",
    "transformed.show(5)"
   ]
  },
  {
   "cell_type": "markdown",
   "id": "e42501bf",
   "metadata": {},
   "source": [
    "### Not need Standard Scaler for BisectKMeans, just original dataframe is fine, which is dataframe \"transformed\""
   ]
  },
  {
   "cell_type": "markdown",
   "id": "e46a412b",
   "metadata": {},
   "source": [
    "### While BisecKMeans can find the best K by giving a range of K value from 1, it is not always can find the convergence that a best K is found within a range given.\n",
    "\n",
    "### below helper function RunBisectKM runs a number of BisecKMeans with K value ranging from 2 to maximum K value and find the best K value based on the K value when its silhouette score reaches maximum.\n",
    "\n"
   ]
  },
  {
   "cell_type": "code",
   "execution_count": 53,
   "id": "98748ad8",
   "metadata": {},
   "outputs": [],
   "source": [
    "from pyspark.ml.clustering import BisectingKMeans\n",
    "from pyspark.ml.evaluation import ClusteringEvaluator\n",
    "\n",
    "def RunBisectKM(featuresCol='features', initK=20, dataSet=scaledData):\n",
    "    #Store silhouette scores in dictionary, with key to be K, its silhouette scores to be value\n",
    "    silhouette_scores=dict()  \n",
    "    #evaluator will return silhouette score\n",
    "    evaluator = ClusteringEvaluator(featuresCol=featuresCol, metricName='silhouette') \n",
    "    for K in range(2,initK+1):  # loop over from 2 to maxmium K value\n",
    "        BKMeans=BisectingKMeans(featuresCol=featuresCol, k=K, minDivisibleClusterSize =1)\n",
    "        BKMeans_fit=BKMeans.fit(dataSet)\n",
    "        BKMeans_transform=BKMeans_fit.transform(dataSet) \n",
    "        evaluation_score=evaluator.evaluate(BKMeans_transform)\n",
    "        silhouette_scores[K]=evaluation_score  #store silhouette score in dictionary key K\n",
    "    #Get the best K when silhouette score is maximum of the list\n",
    "    bestK=[key for key, value in silhouette_scores.items() if value==max(silhouette_scores.values())][0]\n",
    "    #Return BisectingKMeans model with bestK\n",
    "    return BisectingKMeans(featuresCol=featuresCol, k=bestK, minDivisibleClusterSize =1)"
   ]
  },
  {
   "cell_type": "code",
   "execution_count": 54,
   "id": "a823ef68",
   "metadata": {},
   "outputs": [
    {
     "name": "stderr",
     "output_type": "stream",
     "text": [
      "                                                                                \r"
     ]
    }
   ],
   "source": [
    "bKM=RunBisectKM(featuresCol='features', initK=20, dataSet=transformed)\n",
    "model=bKM.fit(transformed)"
   ]
  },
  {
   "cell_type": "code",
   "execution_count": 55,
   "id": "e3f0a102",
   "metadata": {},
   "outputs": [],
   "source": [
    "predictions=model.transform(transformed)"
   ]
  },
  {
   "cell_type": "code",
   "execution_count": 56,
   "id": "ee14c524",
   "metadata": {},
   "outputs": [
    {
     "name": "stdout",
     "output_type": "stream",
     "text": [
      "+--------------------+----------+\n",
      "|            features|prediction|\n",
      "+--------------------+----------+\n",
      "|[7.4,0.7,0.0,1.9,...|         0|\n",
      "|[7.8,0.88,0.0,2.6...|         0|\n",
      "|[7.8,0.76,0.04,2....|         0|\n",
      "|[11.2,0.28,0.56,1...|         0|\n",
      "|[7.4,0.7,0.0,1.9,...|         0|\n",
      "+--------------------+----------+\n",
      "only showing top 5 rows\n",
      "\n"
     ]
    },
    {
     "name": "stderr",
     "output_type": "stream",
     "text": [
      "\r",
      "[Stage 23063:>                                                      (0 + 1) / 1]\r",
      "\r",
      "                                                                                \r"
     ]
    }
   ],
   "source": [
    "predictions.show(5)"
   ]
  },
  {
   "cell_type": "code",
   "execution_count": 57,
   "id": "25a44509",
   "metadata": {},
   "outputs": [
    {
     "name": "stdout",
     "output_type": "stream",
     "text": [
      "+----------+\n",
      "|prediction|\n",
      "+----------+\n",
      "|         1|\n",
      "|         0|\n",
      "+----------+\n",
      "\n"
     ]
    },
    {
     "name": "stderr",
     "output_type": "stream",
     "text": [
      "\r",
      "[Stage 23064:>                                                      (0 + 1) / 1]\r",
      "\r",
      "                                                                                \r"
     ]
    }
   ],
   "source": [
    "predictions.select(\"prediction\").distinct().show()"
   ]
  },
  {
   "cell_type": "code",
   "execution_count": 58,
   "id": "bb5ea77c",
   "metadata": {},
   "outputs": [
    {
     "name": "stderr",
     "output_type": "stream",
     "text": [
      "\r",
      "[Stage 23068:>                                                      (0 + 1) / 1]\r",
      "\r",
      "                                                                                \r"
     ]
    },
    {
     "name": "stdout",
     "output_type": "stream",
     "text": [
      "Silhouette with squared euclidean distance = 0.6886171250780977\n",
      "Cluster Centers: \n",
      "[7.57680277e+00 4.02958512e-01 2.94013829e-01 3.20113599e+00\n",
      " 6.47797168e-02 1.92160026e+01 6.60622325e+01 9.94579030e-01\n",
      " 3.25098452e+00 5.71241357e-01 1.07755888e+01 5.81330260e+00]\n",
      "[6.91325145e+00 2.87182081e-01 3.40549133e-01 7.32936416e+00\n",
      " 4.88852601e-02 4.00007225e+01 1.57086416e+02 9.94869611e-01\n",
      " 3.19067341e+00 5.01086705e-01 1.02469374e+01 5.81358382e+00]\n"
     ]
    }
   ],
   "source": [
    "# Evaluate clustering by computing Silhouette score \n",
    "evaluator = ClusteringEvaluator()\n",
    "silhouette = evaluator.evaluate(predictions)\n",
    "print(\"Silhouette with squared euclidean distance = {}\".format(silhouette))\n",
    "# Shows the result. \n",
    "print(\"Cluster Centers: \") \n",
    "centers = model.clusterCenters()\n",
    "for i in centers:\n",
    "    print(i)"
   ]
  },
  {
   "cell_type": "code",
   "execution_count": null,
   "id": "ace9da4e",
   "metadata": {},
   "outputs": [],
   "source": []
  },
  {
   "cell_type": "code",
   "execution_count": null,
   "id": "730c6b64",
   "metadata": {},
   "outputs": [],
   "source": []
  }
 ],
 "metadata": {
  "kernelspec": {
   "display_name": "Python 3 (ipykernel)",
   "language": "python",
   "name": "python3"
  },
  "language_info": {
   "codemirror_mode": {
    "name": "ipython",
    "version": 3
   },
   "file_extension": ".py",
   "mimetype": "text/x-python",
   "name": "python",
   "nbconvert_exporter": "python",
   "pygments_lexer": "ipython3",
   "version": "3.10.9"
  }
 },
 "nbformat": 4,
 "nbformat_minor": 5
}
