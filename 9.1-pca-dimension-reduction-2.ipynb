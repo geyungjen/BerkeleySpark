{
 "cells": [
  {
   "cell_type": "code",
   "execution_count": 1,
   "id": "f8d85ac6",
   "metadata": {},
   "outputs": [
    {
     "name": "stderr",
     "output_type": "stream",
     "text": [
      "Setting default log level to \"WARN\".\n",
      "To adjust logging level use sc.setLogLevel(newLevel). For SparkR, use setLogLevel(newLevel).\n"
     ]
    },
    {
     "name": "stdout",
     "output_type": "stream",
     "text": [
      "23/05/21 23:14:28 WARN NativeCodeLoader: Unable to load native-hadoop library for your platform... using builtin-java classes where applicable\n",
      "23/05/21 23:14:29 WARN Utils: Service 'SparkUI' could not bind on port 4040. Attempting port 4041.\n",
      "23/05/21 23:14:29 WARN Utils: Service 'SparkUI' could not bind on port 4041. Attempting port 4042.\n"
     ]
    }
   ],
   "source": [
    "import pyspark\n",
    "from pyspark.ml.feature import PCA, VectorAssembler\n",
    "from pyspark.mllib.linalg import Vectors\n",
    "from pyspark.ml import Pipeline\n",
    "from pyspark.ml.feature import StandardScaler\n",
    "import numpy as np\n",
    "import matplotlib.pyplot as plt\n",
    "from pyspark.sql import SparkSession\n",
    "\n",
    "spark = SparkSession \\\n",
    "    .builder \\\n",
    "    .appName(\"Python Spark PCA example\") \\\n",
    "    .config(\"spark.some.config.option\", \"some-value\") \\\n",
    "    .getOrCreate()\n"
   ]
  },
  {
   "cell_type": "code",
   "execution_count": 2,
   "id": "5874c6b0",
   "metadata": {},
   "outputs": [],
   "source": [
    "df_origin = spark.read.json(\"data/iris.json\")"
   ]
  },
  {
   "cell_type": "code",
   "execution_count": 3,
   "id": "cdc3ff0c",
   "metadata": {},
   "outputs": [
    {
     "name": "stdout",
     "output_type": "stream",
     "text": [
      "+-----------+------------+-----------+------------+-----------+\n",
      "|      class|petal_length|petal_width|sepal_length|sepal_width|\n",
      "+-----------+------------+-----------+------------+-----------+\n",
      "|Iris-setosa|         1.4|        0.2|         5.1|        3.5|\n",
      "|Iris-setosa|         1.4|        0.2|         4.9|        3.0|\n",
      "|Iris-setosa|         1.3|        0.2|         4.7|        3.2|\n",
      "|Iris-setosa|         1.5|        0.2|         4.6|        3.1|\n",
      "|Iris-setosa|         1.4|        0.2|         5.0|        3.6|\n",
      "+-----------+------------+-----------+------------+-----------+\n",
      "only showing top 5 rows\n",
      "\n",
      "root\n",
      " |-- class: string (nullable = true)\n",
      " |-- petal_length: double (nullable = true)\n",
      " |-- petal_width: double (nullable = true)\n",
      " |-- sepal_length: double (nullable = true)\n",
      " |-- sepal_width: double (nullable = true)\n",
      "\n"
     ]
    }
   ],
   "source": [
    "df_origin.show(5)\n",
    "df_origin.printSchema()"
   ]
  },
  {
   "cell_type": "code",
   "execution_count": 4,
   "id": "90ca03dd",
   "metadata": {},
   "outputs": [
    {
     "name": "stdout",
     "output_type": "stream",
     "text": [
      "+-------+--------------+------------------+------------------+------------------+-------------------+\n",
      "|summary|         class|      petal_length|       petal_width|      sepal_length|        sepal_width|\n",
      "+-------+--------------+------------------+------------------+------------------+-------------------+\n",
      "|  count|           150|               150|               150|               150|                150|\n",
      "|   mean|          null|3.7580000000000027| 1.199333333333334| 5.843333333333335|  3.057333333333334|\n",
      "| stddev|          null|1.7652982332594662|0.7622376689603467|0.8280661279778637|0.43586628493669793|\n",
      "|    min|   Iris-setosa|               1.0|               0.1|               4.3|                2.0|\n",
      "|    max|Iris-virginica|               6.9|               2.5|               7.9|                4.4|\n",
      "+-------+--------------+------------------+------------------+------------------+-------------------+\n",
      "\n"
     ]
    }
   ],
   "source": [
    "df_origin.describe().show()"
   ]
  },
  {
   "cell_type": "code",
   "execution_count": 5,
   "id": "e0ffaa09",
   "metadata": {},
   "outputs": [],
   "source": [
    "vecAssembler = VectorAssembler(inputCols=[\"sepal_width\", \"sepal_length\", \"petal_width\", \"petal_length\"], \\\n",
    "                               outputCol=\"features\")"
   ]
  },
  {
   "cell_type": "code",
   "execution_count": 6,
   "id": "3da79996",
   "metadata": {},
   "outputs": [],
   "source": [
    "df=vecAssembler.transform(df_origin)"
   ]
  },
  {
   "cell_type": "code",
   "execution_count": 7,
   "id": "7ac70d9f",
   "metadata": {},
   "outputs": [],
   "source": [
    "scaler = StandardScaler(inputCol=\"features\",outputCol=\"scaledFeatures\",withStd=True, withMean=True)\n",
    "scalerModel=scaler.fit(df)"
   ]
  },
  {
   "cell_type": "code",
   "execution_count": 8,
   "id": "8f42fa69",
   "metadata": {},
   "outputs": [],
   "source": [
    "df=scalerModel.transform(df)"
   ]
  },
  {
   "cell_type": "code",
   "execution_count": 9,
   "id": "8e5548cf",
   "metadata": {},
   "outputs": [],
   "source": [
    "def findTopPrincipalComponentNumber(data:pyspark.sql.dataframe.DataFrame=df, \\\n",
    "                                    featureCol:str='features',threshold:int=0.80) -> (int, int):\n",
    "    df_detect=data.select(featureCol)\n",
    "    df_detect_list=[]\n",
    "    for i in df_detect.collect():\n",
    "        df_detect_list.append(i[0].tolist())\n",
    "    df_detect_np=np.array(df_detect_list)\n",
    "    cov_mat = np.cov(df_detect_np.T) #Get the covariance matrix\n",
    "    eigen_vals, eigen_vecs = np.linalg.eig(cov_mat) #Get list of Eigenvalues and list of Eigenvectors, \n",
    "                                                    #numbef of Eigenvalues = number of the feature columns \n",
    "    tot = sum(eigen_vals)\n",
    "    var_exp = [(i / tot) for i in sorted(eigen_vals, reverse=True)] #Sort the Eigenvalues in descending order\n",
    "                                                                    #get the percentage of each Eigenvalue against \n",
    "                                                                    #sum of total eigenvalues\n",
    "                                                                    #Then find number cumulative percentage from\n",
    "                                                                    #first few largest eigenvalues to see threshold \n",
    "                                                                    #is crossed.  If so, you only need these few \n",
    "                                                                    #number of columns in PCA()\n",
    "    cumulativePercept=0\n",
    "    cumulativePerceptList=[]\n",
    "    for i in var_exp:\n",
    "        cumulativePercept+=i\n",
    "        cumulativePerceptList.append(cumulativePercept)\n",
    "        if cumulativePercept >= threshold:\n",
    "            break\n",
    "    return (len(cumulativePerceptList), cumulativePerceptList[-1])"
   ]
  },
  {
   "cell_type": "code",
   "execution_count": 22,
   "id": "f265861c",
   "metadata": {},
   "outputs": [
    {
     "name": "stdout",
     "output_type": "stream",
     "text": [
      "2 principal components covers the 95.81% from original dataset with 4 feature columns\n"
     ]
    }
   ],
   "source": [
    "bestK, coverPercentage=findTopPrincipalComponentNumber(data=df, featureCol='scaledFeatures', threshold=0.80)\n",
    "pca = PCA(k=bestK, inputCol=\"scaledFeatures\", outputCol=\"pcaFeatures\")\n",
    "print(f\"{bestK} principal components covers the {round(coverPercentage*100,2)}% from original dataset with {len(df_origin.columns)-1} feature columns\")"
   ]
  },
  {
   "cell_type": "code",
   "execution_count": 11,
   "id": "d7f246fc",
   "metadata": {},
   "outputs": [],
   "source": [
    "pipeline = Pipeline(stages=[pca])"
   ]
  },
  {
   "cell_type": "code",
   "execution_count": 12,
   "id": "0d7c4c48",
   "metadata": {},
   "outputs": [
    {
     "name": "stdout",
     "output_type": "stream",
     "text": [
      "23/05/21 23:15:00 WARN InstanceBuilder$NativeBLAS: Failed to load implementation from:dev.ludovic.netlib.blas.JNIBLAS\n",
      "23/05/21 23:15:00 WARN InstanceBuilder$NativeBLAS: Failed to load implementation from:dev.ludovic.netlib.blas.ForeignLinkerBLAS\n",
      "23/05/21 23:15:01 WARN LAPACK: Failed to load implementation from: com.github.fommil.netlib.NativeSystemLAPACK\n",
      "23/05/21 23:15:01 WARN LAPACK: Failed to load implementation from: com.github.fommil.netlib.NativeRefLAPACK\n"
     ]
    }
   ],
   "source": [
    "model = pipeline.fit(df)\n"
   ]
  },
  {
   "cell_type": "code",
   "execution_count": 13,
   "id": "9219e41c",
   "metadata": {},
   "outputs": [
    {
     "name": "stderr",
     "output_type": "stream",
     "text": [
      "                                                                                \r"
     ]
    }
   ],
   "source": [
    "xy = model.transform(df).select(\"pcaFeatures\").rdd.map(lambda row: [row[0][0], row[0][1]]).collect()"
   ]
  },
  {
   "cell_type": "code",
   "execution_count": 14,
   "id": "8ab91588",
   "metadata": {},
   "outputs": [
    {
     "data": {
      "text/plain": [
       "[[-2.25714117564812, -0.47842383212490514],\n",
       " [-2.0740130151996214, 0.6718826870273563],\n",
       " [-2.3563351118061786, 0.34076642462456513],\n",
       " [-2.291706785869695, 0.5953998626815398],\n",
       " [-2.381862704416939, -0.6446756594005434]]"
      ]
     },
     "execution_count": 14,
     "metadata": {},
     "output_type": "execute_result"
    }
   ],
   "source": [
    "xy[0:5]"
   ]
  },
  {
   "cell_type": "code",
   "execution_count": 15,
   "id": "0e05ae2f",
   "metadata": {},
   "outputs": [],
   "source": [
    "x=np.array(list(zip(*xy))[0])\n",
    "y=np.array(list(zip(*xy))[1])"
   ]
  },
  {
   "cell_type": "code",
   "execution_count": 16,
   "id": "1f8e9509",
   "metadata": {},
   "outputs": [
    {
     "data": {
      "text/plain": [
       "array([-2.25714118, -2.07401302, -2.35633511, -2.29170679, -2.3818627 ])"
      ]
     },
     "execution_count": 16,
     "metadata": {},
     "output_type": "execute_result"
    }
   ],
   "source": [
    "x[0:5]"
   ]
  },
  {
   "cell_type": "code",
   "execution_count": 17,
   "id": "246243b1",
   "metadata": {},
   "outputs": [
    {
     "data": {
      "text/plain": [
       "array([-0.47842383,  0.67188269,  0.34076642,  0.59539986, -0.64467566])"
      ]
     },
     "execution_count": 17,
     "metadata": {},
     "output_type": "execute_result"
    }
   ],
   "source": [
    "y[0:5]"
   ]
  },
  {
   "cell_type": "code",
   "execution_count": 18,
   "id": "71114689",
   "metadata": {},
   "outputs": [
    {
     "data": {
      "image/png": "[encoded data removed]",
      "text/plain": [
       "<Figure size 640x480 with 1 Axes>"
      ]
     },
     "metadata": {},
     "output_type": "display_data"
    }
   ],
   "source": [
    "plt.scatter(x,y)\n",
    "plt.show()"
   ]
  },
  {
   "cell_type": "code",
   "execution_count": 19,
   "id": "3ca3d7e8",
   "metadata": {},
   "outputs": [
    {
     "data": {
      "image/png": "[encoded data removed]",
      "text/plain": [
       "<Figure size 640x480 with 1 Axes>"
      ]
     },
     "metadata": {},
     "output_type": "display_data"
    }
   ],
   "source": [
    "plt.hexbin(x,y,  gridsize=30)\n",
    "plt.show()\n"
   ]
  },
  {
   "cell_type": "code",
   "execution_count": null,
   "id": "e9c6e90e",
   "metadata": {},
   "outputs": [],
   "source": []
  }
 ],
 "metadata": {
  "kernelspec": {
   "display_name": "Python 3 (ipykernel)",
   "language": "python",
   "name": "python3"
  },
  "language_info": {
   "codemirror_mode": {
    "name": "ipython",
    "version": 3
   },
   "file_extension": ".py",
   "mimetype": "text/x-python",
   "name": "python",
   "nbconvert_exporter": "python",
   "pygments_lexer": "ipython3",
   "version": "3.10.9"
  }
 },
 "nbformat": 4,
 "nbformat_minor": 5
}
