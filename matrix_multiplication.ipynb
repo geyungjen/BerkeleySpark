{
 "cells": [
  {
   "cell_type": "code",
   "execution_count": 1,
   "id": "dc05caa3",
   "metadata": {},
   "outputs": [],
   "source": [
    "import numpy as np"
   ]
  },
  {
   "cell_type": "code",
   "execution_count": 271,
   "id": "c0402588",
   "metadata": {},
   "outputs": [],
   "source": [
    "X=np.array([[11,2],[100,20]])"
   ]
  },
  {
   "cell_type": "code",
   "execution_count": 272,
   "id": "ebb9d9c5",
   "metadata": {},
   "outputs": [],
   "source": [
    "xCov=np.cov(X)"
   ]
  },
  {
   "cell_type": "code",
   "execution_count": 273,
   "id": "e030e490",
   "metadata": {},
   "outputs": [
    {
     "data": {
      "text/plain": [
       "array([[  40.5,  360. ],\n",
       "       [ 360. , 3200. ]])"
      ]
     },
     "execution_count": 273,
     "metadata": {},
     "output_type": "execute_result"
    }
   ],
   "source": [
    "xCov"
   ]
  },
  {
   "cell_type": "code",
   "execution_count": 274,
   "id": "a2d60753",
   "metadata": {},
   "outputs": [],
   "source": [
    "eigvals, eigvecs=np.linalg.eig(xCov)"
   ]
  },
  {
   "cell_type": "code",
   "execution_count": 275,
   "id": "90a245c5",
   "metadata": {},
   "outputs": [
    {
     "data": {
      "text/plain": [
       "array([[-0.99373132, -0.11179477],\n",
       "       [ 0.11179477, -0.99373132]])"
      ]
     },
     "execution_count": 275,
     "metadata": {},
     "output_type": "execute_result"
    }
   ],
   "source": [
    "eigvecs"
   ]
  },
  {
   "cell_type": "code",
   "execution_count": 276,
   "id": "48b380bc",
   "metadata": {},
   "outputs": [
    {
     "data": {
      "text/plain": [
       "array([   0. , 3240.5])"
      ]
     },
     "execution_count": 276,
     "metadata": {},
     "output_type": "execute_result"
    }
   ],
   "source": [
    "eigvals"
   ]
  },
  {
   "cell_type": "code",
   "execution_count": 277,
   "id": "72565b82",
   "metadata": {},
   "outputs": [],
   "source": [
    "eiganPairs=[[i[0],i[1]] for i in zip(eigvals, eigvecs)]"
   ]
  },
  {
   "cell_type": "code",
   "execution_count": 278,
   "id": "e0c38144",
   "metadata": {},
   "outputs": [
    {
     "data": {
      "text/plain": [
       "[[0.0, array([-0.99373132, -0.11179477])],\n",
       " [3240.5, array([ 0.11179477, -0.99373132])]]"
      ]
     },
     "execution_count": 278,
     "metadata": {},
     "output_type": "execute_result"
    }
   ],
   "source": [
    "eiganPairs"
   ]
  },
  {
   "cell_type": "code",
   "execution_count": 279,
   "id": "38ac5644",
   "metadata": {},
   "outputs": [],
   "source": [
    "eiganPairSorted=[i for i in sorted(eiganPairs, key=lambda x: x[0], reverse=True)]"
   ]
  },
  {
   "cell_type": "code",
   "execution_count": 280,
   "id": "8d908d4a",
   "metadata": {},
   "outputs": [],
   "source": [
    "W=np.array([i[1] for i in eiganPairSorted])\n"
   ]
  },
  {
   "cell_type": "code",
   "execution_count": 281,
   "id": "3f90e4e3",
   "metadata": {},
   "outputs": [
    {
     "data": {
      "text/plain": [
       "array([[ 0.11179477, -0.99373132],\n",
       "       [-0.99373132, -0.11179477]])"
      ]
     },
     "execution_count": 281,
     "metadata": {},
     "output_type": "execute_result"
    }
   ],
   "source": [
    "W"
   ]
  },
  {
   "cell_type": "code",
   "execution_count": 282,
   "id": "44432405",
   "metadata": {},
   "outputs": [
    {
     "data": {
      "text/plain": [
       "array([[ 11,   2],\n",
       "       [100,  20]])"
      ]
     },
     "execution_count": 282,
     "metadata": {},
     "output_type": "execute_result"
    }
   ],
   "source": [
    "X"
   ]
  },
  {
   "cell_type": "code",
   "execution_count": 283,
   "id": "f63c1e52",
   "metadata": {},
   "outputs": [],
   "source": [
    "Z=X @ W"
   ]
  },
  {
   "cell_type": "code",
   "execution_count": 284,
   "id": "15887a65",
   "metadata": {},
   "outputs": [
    {
     "data": {
      "text/plain": [
       "array([[  -0.75772013,  -11.15463402],\n",
       "       [  -8.69514902, -101.60902708]])"
      ]
     },
     "execution_count": 284,
     "metadata": {},
     "output_type": "execute_result"
    }
   ],
   "source": [
    "Z"
   ]
  },
  {
   "cell_type": "code",
   "execution_count": 285,
   "id": "c34d4250",
   "metadata": {},
   "outputs": [],
   "source": [
    "pcaZ=np.array([[i[0] for i in Z]])"
   ]
  },
  {
   "cell_type": "code",
   "execution_count": 286,
   "id": "d32b5ea4",
   "metadata": {},
   "outputs": [
    {
     "data": {
      "text/plain": [
       "array([[-0.75772013, -8.69514902]])"
      ]
     },
     "execution_count": 286,
     "metadata": {},
     "output_type": "execute_result"
    }
   ],
   "source": [
    "pcaZ"
   ]
  },
  {
   "cell_type": "markdown",
   "id": "9cae4e83",
   "metadata": {},
   "source": [
    "### You can reconstruct to original X from Z, not from pcaZ"
   ]
  },
  {
   "cell_type": "code",
   "execution_count": 287,
   "id": "88135e7e",
   "metadata": {},
   "outputs": [],
   "source": [
    "V=np.linalg.inv(W)"
   ]
  },
  {
   "cell_type": "code",
   "execution_count": 288,
   "id": "a98b0882",
   "metadata": {},
   "outputs": [],
   "source": [
    "reconstructedX=Z @ V"
   ]
  },
  {
   "cell_type": "code",
   "execution_count": 289,
   "id": "9a3553c5",
   "metadata": {},
   "outputs": [
    {
     "data": {
      "text/plain": [
       "array([[ 11.,   2.],\n",
       "       [100.,  20.]])"
      ]
     },
     "execution_count": 289,
     "metadata": {},
     "output_type": "execute_result"
    }
   ],
   "source": [
    "reconstructedX"
   ]
  },
  {
   "cell_type": "code",
   "execution_count": null,
   "id": "5cd943a4",
   "metadata": {},
   "outputs": [],
   "source": []
  }
 ],
 "metadata": {
  "kernelspec": {
   "display_name": "Python 3 (ipykernel)",
   "language": "python",
   "name": "python3"
  },
  "language_info": {
   "codemirror_mode": {
    "name": "ipython",
    "version": 3
   },
   "file_extension": ".py",
   "mimetype": "text/x-python",
   "name": "python",
   "nbconvert_exporter": "python",
   "pygments_lexer": "ipython3",
   "version": "3.10.9"
  }
 },
 "nbformat": 4,
 "nbformat_minor": 5
}
