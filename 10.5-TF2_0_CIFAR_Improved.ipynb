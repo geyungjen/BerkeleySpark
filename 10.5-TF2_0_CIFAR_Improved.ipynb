{
 "cells": [
  {
   "cell_type": "markdown",
   "metadata": {},
   "source": [
    "### Documentation\n",
    "\n",
    "#### keras.io"
   ]
  },
  {
   "cell_type": "code",
   "execution_count": 7,
   "metadata": {
    "id": "pmNpq8GML1jW"
   },
   "outputs": [],
   "source": [
    "import tensorflow as tf\n",
    "import numpy as np\n",
    "import matplotlib.pyplot as plt\n",
    "from tensorflow.keras.layers import Input, Conv2D, Dense, Flatten, Dropout, GlobalMaxPooling2D, MaxPooling2D, BatchNormalization\n",
    "from tensorflow.keras.models import Model"
   ]
  },
  {
   "cell_type": "code",
   "execution_count": 8,
   "metadata": {
    "colab": {
     "base_uri": "https://localhost:8080/"
    },
    "id": "H_EGZv1TL4S_",
    "outputId": "767cdaee-4673-4732-a8c4-50839018c61a"
   },
   "outputs": [],
   "source": [
    "# Load in the data\n",
    "cifar10 = tf.keras.datasets.cifar10\n",
    "\n",
    "(x_train, y_train), (x_test, y_test) = cifar10.load_data()\n",
    "x_train, x_test = x_train / 255.0, x_test / 255.0\n",
    "y_train, y_test = y_train.flatten(), y_test.flatten()\n",
    "print(\"x_train.shape:\", x_train.shape)\n",
    "print(\"y_train.shape\", y_train.shape)"
   ]
  },
  {
   "cell_type": "code",
   "execution_count": 9,
   "metadata": {
    "colab": {
     "base_uri": "https://localhost:8080/"
    },
    "id": "1Wr15bYpMwbB",
    "outputId": "6396a24a-d625-43a2-d743-9d31815223f0"
   },
   "outputs": [],
   "source": [
    "# number of classes\n",
    "K = len(set(y_train))\n",
    "print(\"number of classes:\", K)"
   ]
  },
  {
   "cell_type": "code",
   "execution_count": 10,
   "metadata": {
    "id": "Mmo66uQoMA1Q"
   },
   "outputs": [],
   "source": [
    "# Build the model using the functional API\n",
    "i = Input(shape=x_train[0].shape)\n",
    "# x = Conv2D(32, (3, 3), strides=2, activation='relu')(i)\n",
    "# x = Conv2D(64, (3, 3), strides=2, activation='relu')(x)\n",
    "# x = Conv2D(128, (3, 3), strides=2, activation='relu')(x)\n",
    "\n",
    "x = Conv2D(32, (3, 3), activation='relu', padding='same')(i)\n",
    "x = BatchNormalization()(x)\n",
    "x = Conv2D(32, (3, 3), activation='relu', padding='same')(x)\n",
    "x = BatchNormalization()(x)\n",
    "x = MaxPooling2D((2, 2))(x)\n",
    "# x = Dropout(0.2)(x)\n",
    "x = Conv2D(64, (3, 3), activation='relu', padding='same')(x)\n",
    "x = BatchNormalization()(x)\n",
    "x = Conv2D(64, (3, 3), activation='relu', padding='same')(x)\n",
    "x = BatchNormalization()(x)\n",
    "x = MaxPooling2D((2, 2))(x)\n",
    "# x = Dropout(0.2)(x)\n",
    "x = Conv2D(128, (3, 3), activation='relu', padding='same')(x)\n",
    "x = BatchNormalization()(x)\n",
    "x = Conv2D(128, (3, 3), activation='relu', padding='same')(x)\n",
    "x = BatchNormalization()(x)\n",
    "x = MaxPooling2D((2, 2))(x)\n",
    "# x = Dropout(0.2)(x)\n",
    "\n",
    "# x = GlobalMaxPooling2D()(x)\n",
    "x = Flatten()(x)\n",
    "x = Dropout(0.2)(x)\n",
    "x = Dense(1024, activation='relu')(x)\n",
    "x = Dropout(0.2)(x)\n",
    "x = Dense(K, activation='softmax')(x)\n",
    "\n",
    "model = Model(i, x)"
   ]
  },
  {
   "cell_type": "code",
   "execution_count": 11,
   "metadata": {
    "id": "0zF9n0P7NcP-"
   },
   "outputs": [],
   "source": [
    "# Compile\n",
    "# Note: make sure you are using the GPU for this! Or it can take a long time with CPU\n",
    "model.compile(optimizer='adam',\n",
    "              loss='sparse_categorical_crossentropy',\n",
    "              metrics=['accuracy'])"
   ]
  },
  {
   "cell_type": "code",
   "execution_count": 12,
   "metadata": {
    "colab": {
     "base_uri": "https://localhost:8080/"
    },
    "id": "BBzAGEjOkvFz",
    "outputId": "5c59ade9-b3e8-432d-e666-cc72b8e07cd4"
   },
   "outputs": [],
   "source": [
    "# Fit\n",
    "r = model.fit(x_train, y_train, validation_data=(x_test, y_test), epochs=50)"
   ]
  },
  {
   "cell_type": "code",
   "execution_count": null,
   "metadata": {
    "colab": {
     "base_uri": "https://localhost:8080/"
    },
    "id": "af61hXUrYjsZ",
    "outputId": "03892b44-d736-497b-e901-940c578fe6fc"
   },
   "outputs": [
    {
     "name": "stdout",
     "output_type": "stream",
     "text": [
      "Epoch 1/50\n",
      "1562/1562 [==============================] - 32s 19ms/step - loss: 1.4267 - accuracy: 0.5010 - val_loss: 1.2528 - val_accuracy: 0.5645\n",
      "Epoch 2/50\n",
      "1562/1562 [==============================] - 29s 19ms/step - loss: 0.9970 - accuracy: 0.6509 - val_loss: 1.0177 - val_accuracy: 0.6594\n",
      "Epoch 3/50\n",
      "1562/1562 [==============================] - 29s 18ms/step - loss: 0.8526 - accuracy: 0.7049 - val_loss: 0.8567 - val_accuracy: 0.7132\n",
      "Epoch 4/50\n",
      "1562/1562 [==============================] - 29s 19ms/step - loss: 0.7633 - accuracy: 0.7372 - val_loss: 0.8522 - val_accuracy: 0.7117\n",
      "Epoch 5/50\n",
      "1562/1562 [==============================] - 29s 19ms/step - loss: 0.6884 - accuracy: 0.7644 - val_loss: 0.6771 - val_accuracy: 0.7752\n",
      "Epoch 6/50\n",
      "1562/1562 [==============================] - 29s 19ms/step - loss: 0.6399 - accuracy: 0.7816 - val_loss: 0.8008 - val_accuracy: 0.7388\n",
      "Epoch 7/50\n",
      "1562/1562 [==============================] - 29s 19ms/step - loss: 0.6026 - accuracy: 0.7960 - val_loss: 0.6263 - val_accuracy: 0.7913\n",
      "Epoch 8/50\n",
      "1562/1562 [==============================] - 30s 19ms/step - loss: 0.5630 - accuracy: 0.8075 - val_loss: 0.6377 - val_accuracy: 0.7927\n",
      "Epoch 9/50\n",
      "1562/1562 [==============================] - 30s 19ms/step - loss: 0.5337 - accuracy: 0.8175 - val_loss: 0.5854 - val_accuracy: 0.8038\n",
      "Epoch 10/50\n",
      "1562/1562 [==============================] - 29s 19ms/step - loss: 0.5010 - accuracy: 0.8313 - val_loss: 0.5343 - val_accuracy: 0.8214\n",
      "Epoch 11/50\n",
      "1562/1562 [==============================] - 29s 18ms/step - loss: 0.4762 - accuracy: 0.8394 - val_loss: 0.6630 - val_accuracy: 0.7834\n",
      "Epoch 12/50\n",
      "1562/1562 [==============================] - 29s 19ms/step - loss: 0.4584 - accuracy: 0.8442 - val_loss: 0.4837 - val_accuracy: 0.8333\n",
      "Epoch 13/50\n",
      "1562/1562 [==============================] - 29s 19ms/step - loss: 0.4350 - accuracy: 0.8509 - val_loss: 0.4487 - val_accuracy: 0.8528\n",
      "Epoch 14/50\n",
      "1562/1562 [==============================] - 29s 19ms/step - loss: 0.4163 - accuracy: 0.8571 - val_loss: 0.4649 - val_accuracy: 0.8437\n",
      "Epoch 15/50\n",
      "1562/1562 [==============================] - 29s 18ms/step - loss: 0.3995 - accuracy: 0.8614 - val_loss: 0.4723 - val_accuracy: 0.8445\n",
      "Epoch 16/50\n",
      "1562/1562 [==============================] - 30s 19ms/step - loss: 0.3846 - accuracy: 0.8680 - val_loss: 0.4521 - val_accuracy: 0.8487\n",
      "Epoch 17/50\n",
      "1562/1562 [==============================] - 29s 19ms/step - loss: 0.3710 - accuracy: 0.8720 - val_loss: 0.4601 - val_accuracy: 0.8468\n",
      "Epoch 18/50\n",
      "1562/1562 [==============================] - 29s 19ms/step - loss: 0.3585 - accuracy: 0.8773 - val_loss: 0.4324 - val_accuracy: 0.8546\n",
      "Epoch 19/50\n",
      "1562/1562 [==============================] - 30s 19ms/step - loss: 0.3437 - accuracy: 0.8823 - val_loss: 0.4650 - val_accuracy: 0.8476\n",
      "Epoch 20/50\n",
      "1562/1562 [==============================] - 30s 19ms/step - loss: 0.3343 - accuracy: 0.8849 - val_loss: 0.4176 - val_accuracy: 0.8650\n",
      "Epoch 21/50\n",
      "1562/1562 [==============================] - 29s 19ms/step - loss: 0.3203 - accuracy: 0.8897 - val_loss: 0.4035 - val_accuracy: 0.8625\n",
      "Epoch 22/50\n",
      "1562/1562 [==============================] - 29s 19ms/step - loss: 0.3208 - accuracy: 0.8901 - val_loss: 0.4569 - val_accuracy: 0.8543\n",
      "Epoch 23/50\n",
      "1562/1562 [==============================] - 30s 19ms/step - loss: 0.3075 - accuracy: 0.8941 - val_loss: 0.4127 - val_accuracy: 0.8626\n",
      "Epoch 24/50\n",
      "1562/1562 [==============================] - 30s 19ms/step - loss: 0.3000 - accuracy: 0.8970 - val_loss: 0.4123 - val_accuracy: 0.8627\n",
      "Epoch 25/50\n",
      "1562/1562 [==============================] - 30s 19ms/step - loss: 0.2913 - accuracy: 0.9003 - val_loss: 0.4684 - val_accuracy: 0.8496\n",
      "Epoch 26/50\n",
      "1562/1562 [==============================] - 29s 19ms/step - loss: 0.2838 - accuracy: 0.9030 - val_loss: 0.4077 - val_accuracy: 0.8702\n",
      "Epoch 27/50\n",
      "1562/1562 [==============================] - 30s 19ms/step - loss: 0.2742 - accuracy: 0.9048 - val_loss: 0.4534 - val_accuracy: 0.8615\n",
      "Epoch 28/50\n",
      "1562/1562 [==============================] - 29s 19ms/step - loss: 0.2739 - accuracy: 0.9039 - val_loss: 0.4039 - val_accuracy: 0.8716\n",
      "Epoch 29/50\n",
      "1562/1562 [==============================] - 29s 18ms/step - loss: 0.2661 - accuracy: 0.9089 - val_loss: 0.4221 - val_accuracy: 0.8723\n",
      "Epoch 30/50\n",
      "1562/1562 [==============================] - 29s 19ms/step - loss: 0.2615 - accuracy: 0.9109 - val_loss: 0.4050 - val_accuracy: 0.8739\n",
      "Epoch 31/50\n",
      "1562/1562 [==============================] - 29s 19ms/step - loss: 0.2532 - accuracy: 0.9128 - val_loss: 0.3778 - val_accuracy: 0.8854\n",
      "Epoch 32/50\n",
      "1562/1562 [==============================] - 29s 18ms/step - loss: 0.2464 - accuracy: 0.9149 - val_loss: 0.4294 - val_accuracy: 0.8690\n",
      "Epoch 33/50\n",
      "1562/1562 [==============================] - 30s 19ms/step - loss: 0.2417 - accuracy: 0.9174 - val_loss: 0.3847 - val_accuracy: 0.8781\n",
      "Epoch 34/50\n",
      "1562/1562 [==============================] - 29s 19ms/step - loss: 0.2344 - accuracy: 0.9186 - val_loss: 0.4174 - val_accuracy: 0.8725\n",
      "Epoch 35/50\n",
      "1562/1562 [==============================] - 29s 19ms/step - loss: 0.2320 - accuracy: 0.9199 - val_loss: 0.4054 - val_accuracy: 0.8733\n",
      "Epoch 36/50\n",
      "1562/1562 [==============================] - 29s 19ms/step - loss: 0.2291 - accuracy: 0.9200 - val_loss: 0.4060 - val_accuracy: 0.8752\n",
      "Epoch 37/50\n",
      "1562/1562 [==============================] - 29s 19ms/step - loss: 0.2169 - accuracy: 0.9259 - val_loss: 0.3982 - val_accuracy: 0.8819\n",
      "Epoch 38/50\n",
      "1562/1562 [==============================] - 30s 19ms/step - loss: 0.2220 - accuracy: 0.9238 - val_loss: 0.3783 - val_accuracy: 0.8803\n",
      "Epoch 39/50\n",
      "1562/1562 [==============================] - 29s 19ms/step - loss: 0.2141 - accuracy: 0.9253 - val_loss: 0.4052 - val_accuracy: 0.8777\n",
      "Epoch 40/50\n",
      "1562/1562 [==============================] - 30s 19ms/step - loss: 0.2136 - accuracy: 0.9267 - val_loss: 0.4024 - val_accuracy: 0.8786\n",
      "Epoch 41/50\n",
      "1562/1562 [==============================] - 29s 18ms/step - loss: 0.2090 - accuracy: 0.9269 - val_loss: 0.4123 - val_accuracy: 0.8778\n",
      "Epoch 42/50\n",
      "1562/1562 [==============================] - 30s 19ms/step - loss: 0.2089 - accuracy: 0.9277 - val_loss: 0.4111 - val_accuracy: 0.8825\n",
      "Epoch 43/50\n",
      "1562/1562 [==============================] - 30s 19ms/step - loss: 0.2022 - accuracy: 0.9312 - val_loss: 0.4779 - val_accuracy: 0.8581\n",
      "Epoch 44/50\n",
      "1562/1562 [==============================] - 29s 19ms/step - loss: 0.2038 - accuracy: 0.9294 - val_loss: 0.3832 - val_accuracy: 0.8811\n",
      "Epoch 45/50\n",
      "1562/1562 [==============================] - 29s 19ms/step - loss: 0.1998 - accuracy: 0.9316 - val_loss: 0.3998 - val_accuracy: 0.8743\n",
      "Epoch 46/50\n",
      "1562/1562 [==============================] - 30s 19ms/step - loss: 0.1925 - accuracy: 0.9342 - val_loss: 0.4084 - val_accuracy: 0.8783\n",
      "Epoch 47/50\n",
      "1562/1562 [==============================] - 29s 19ms/step - loss: 0.1934 - accuracy: 0.9336 - val_loss: 0.4682 - val_accuracy: 0.8668\n",
      "Epoch 48/50\n",
      "1562/1562 [==============================] - 29s 19ms/step - loss: 0.1887 - accuracy: 0.9354 - val_loss: 0.4050 - val_accuracy: 0.8808\n",
      "Epoch 49/50\n",
      "1562/1562 [==============================] - 29s 19ms/step - loss: 0.1886 - accuracy: 0.9340 - val_loss: 0.4033 - val_accuracy: 0.8817\n",
      "Epoch 50/50\n",
      "1562/1562 [==============================] - 29s 19ms/step - loss: 0.1835 - accuracy: 0.9373 - val_loss: 0.4173 - val_accuracy: 0.8801\n"
     ]
    }
   ],
   "source": [
    "# Fit with data augmentation\n",
    "# Note: if you run this AFTER calling the previous model.fit(), it will CONTINUE training where it left off\n",
    "batch_size = 32\n",
    "data_generator = tf.keras.preprocessing.image.ImageDataGenerator(width_shift_range=0.1, height_shift_range=0.1, horizontal_flip=True)\n",
    "train_generator = data_generator.flow(x_train, y_train, batch_size)\n",
    "steps_per_epoch = x_train.shape[0] // batch_size\n",
    "r = model.fit(train_generator, validation_data=(x_test, y_test), steps_per_epoch=steps_per_epoch, epochs=50)"
   ]
  },
  {
   "cell_type": "code",
   "execution_count": null,
   "metadata": {
    "colab": {
     "base_uri": "https://localhost:8080/",
     "height": 283
    },
    "id": "ML37hw4iOkBm",
    "outputId": "8498edd5-7a8d-4649-be54-ef1a7adf059b"
   },
   "outputs": [
    {
     "data": {
      "text/plain": [
       "<matplotlib.legend.Legend at 0x7f39de2dec10>"
      ]
     },
     "execution_count": 7,
     "metadata": {},
     "output_type": "execute_result"
    },
    {
     "data": {
      "image/png": "[encoded data removed]",
      "text/plain": [
       "<Figure size 432x288 with 1 Axes>"
      ]
     },
     "metadata": {
      "needs_background": "light"
     },
     "output_type": "display_data"
    }
   ],
   "source": [
    "# Plot loss per iteration\n",
    "import matplotlib.pyplot as plt\n",
    "plt.plot(r.history['loss'], label='loss')\n",
    "plt.plot(r.history['val_loss'], label='val_loss')\n",
    "plt.legend()"
   ]
  },
  {
   "cell_type": "code",
   "execution_count": null,
   "metadata": {
    "colab": {
     "base_uri": "https://localhost:8080/",
     "height": 283
    },
    "id": "pemstSDIOpIb",
    "outputId": "5c035578-7f8e-4180-e4f6-2308a5714579"
   },
   "outputs": [
    {
     "data": {
      "text/plain": [
       "<matplotlib.legend.Legend at 0x7f39de1c5710>"
      ]
     },
     "execution_count": 8,
     "metadata": {},
     "output_type": "execute_result"
    },
    {
     "data": {
      "image/png": "[encoded data removed]",
      "text/plain": [
       "<Figure size 432x288 with 1 Axes>"
      ]
     },
     "metadata": {
      "needs_background": "light"
     },
     "output_type": "display_data"
    }
   ],
   "source": [
    "# Plot accuracy per iteration\n",
    "plt.plot(r.history['accuracy'], label='acc')\n",
    "plt.plot(r.history['val_accuracy'], label='val_acc')\n",
    "plt.legend()"
   ]
  },
  {
   "cell_type": "code",
   "execution_count": null,
   "metadata": {
    "colab": {
     "base_uri": "https://localhost:8080/",
     "height": 507
    },
    "id": "2LJTd4OiO6kL",
    "outputId": "8ef3746c-41ea-47d4-f670-08688462e1a6"
   },
   "outputs": [
    {
     "name": "stdout",
     "output_type": "stream",
     "text": [
      "Confusion matrix, without normalization\n",
      "[[897   6  26  10  10   2   6   2  18  23]\n",
      " [  4 908   0   2   0   0   1   0  10  75]\n",
      " [ 23   0 840  29  25  16  45  11   4   7]\n",
      " [ 10   3  36 753  18  65  85   8   8  14]\n",
      " [  5   1  24  23 863   8  61  12   2   1]\n",
      " [  6   2  20 104  20 787  30  25   2   4]\n",
      " [  5   1  18  14   3   1 952   1   2   3]\n",
      " [ 10   0  14  14  25  18   8 901   3   7]\n",
      " [ 31   5   3   1   1   0   6   0 931  22]\n",
      " [  5  15   1   2   0   1   3   0   4 969]]\n"
     ]
    },
    {
     "data": {
      "image/png": "[encoded data removed]",
      "text/plain": [
       "<Figure size 432x288 with 2 Axes>"
      ]
     },
     "metadata": {
      "needs_background": "light"
     },
     "output_type": "display_data"
    }
   ],
   "source": [
    "# Plot confusion matrix\n",
    "from sklearn.metrics import confusion_matrix\n",
    "import itertools\n",
    "\n",
    "def plot_confusion_matrix(cm, classes,\n",
    "                          normalize=False,\n",
    "                          title='Confusion matrix',\n",
    "                          cmap=plt.cm.Blues):\n",
    "  \"\"\"\n",
    "  This function prints and plots the confusion matrix.\n",
    "  Normalization can be applied by setting `normalize=True`.\n",
    "  \"\"\"\n",
    "  if normalize:\n",
    "      cm = cm.astype('float') / cm.sum(axis=1)[:, np.newaxis]\n",
    "      print(\"Normalized confusion matrix\")\n",
    "  else:\n",
    "      print('Confusion matrix, without normalization')\n",
    "\n",
    "  print(cm)\n",
    "\n",
    "  plt.imshow(cm, interpolation='nearest', cmap=cmap)\n",
    "  plt.title(title)\n",
    "  plt.colorbar()\n",
    "  tick_marks = np.arange(len(classes))\n",
    "  plt.xticks(tick_marks, classes, rotation=45)\n",
    "  plt.yticks(tick_marks, classes)\n",
    "\n",
    "  fmt = '.2f' if normalize else 'd'\n",
    "  thresh = cm.max() / 2.\n",
    "  for i, j in itertools.product(range(cm.shape[0]), range(cm.shape[1])):\n",
    "      plt.text(j, i, format(cm[i, j], fmt),\n",
    "               horizontalalignment=\"center\",\n",
    "               color=\"white\" if cm[i, j] > thresh else \"black\")\n",
    "\n",
    "  plt.tight_layout()\n",
    "  plt.ylabel('True label')\n",
    "  plt.xlabel('Predicted label')\n",
    "  plt.show()\n",
    "\n",
    "\n",
    "p_test = model.predict(x_test).argmax(axis=1)\n",
    "cm = confusion_matrix(y_test, p_test)\n",
    "plot_confusion_matrix(cm, list(range(10)))\n",
    "\n"
   ]
  },
  {
   "cell_type": "code",
   "execution_count": null,
   "metadata": {
    "id": "AgQqQHXNXDgw"
   },
   "outputs": [],
   "source": [
    "# label mapping\n",
    "labels = '''airplane\n",
    "automobile\n",
    "bird\n",
    "cat\n",
    "deer\n",
    "dog\n",
    "frog\n",
    "horse\n",
    "ship\n",
    "truck'''.split()"
   ]
  },
  {
   "cell_type": "code",
   "execution_count": null,
   "metadata": {
    "colab": {
     "base_uri": "https://localhost:8080/",
     "height": 281
    },
    "id": "jjmW4STFO-Ny",
    "outputId": "65f473d7-37df-4a24-9489-696c18fad77c"
   },
   "outputs": [
    {
     "data": {
      "image/png": "[encoded data removed]",
      "text/plain": [
       "<Figure size 432x288 with 1 Axes>"
      ]
     },
     "metadata": {
      "needs_background": "light",
      "tags": []
     },
     "output_type": "display_data"
    }
   ],
   "source": [
    "# Show some misclassified examples\n",
    "misclassified_idx = np.where(p_test != y_test)[0]\n",
    "i = np.random.choice(misclassified_idx)\n",
    "plt.imshow(x_test[i], cmap='gray')\n",
    "plt.title(\"True label: %s Predicted: %s\" % (labels[y_test[i]], labels[p_test[i]]));"
   ]
  },
  {
   "cell_type": "code",
   "execution_count": null,
   "metadata": {
    "colab": {
     "base_uri": "https://localhost:8080/",
     "height": 867
    },
    "id": "qNw6PmshWjoZ",
    "outputId": "2c6b2193-df37-4083-8f74-a22733ec65f3"
   },
   "outputs": [
    {
     "name": "stdout",
     "output_type": "stream",
     "text": [
      "Model: \"model\"\n",
      "_________________________________________________________________\n",
      "Layer (type)                 Output Shape              Param #   \n",
      "=================================================================\n",
      "input_1 (InputLayer)         [(None, 32, 32, 3)]       0         \n",
      "_________________________________________________________________\n",
      "conv2d (Conv2D)              (None, 32, 32, 32)        896       \n",
      "_________________________________________________________________\n",
      "batch_normalization (BatchNo (None, 32, 32, 32)        128       \n",
      "_________________________________________________________________\n",
      "conv2d_1 (Conv2D)            (None, 32, 32, 32)        9248      \n",
      "_________________________________________________________________\n",
      "batch_normalization_1 (Batch (None, 32, 32, 32)        128       \n",
      "_________________________________________________________________\n",
      "max_pooling2d (MaxPooling2D) (None, 16, 16, 32)        0         \n",
      "_________________________________________________________________\n",
      "conv2d_2 (Conv2D)            (None, 16, 16, 64)        18496     \n",
      "_________________________________________________________________\n",
      "batch_normalization_2 (Batch (None, 16, 16, 64)        256       \n",
      "_________________________________________________________________\n",
      "conv2d_3 (Conv2D)            (None, 16, 16, 64)        36928     \n",
      "_________________________________________________________________\n",
      "batch_normalization_3 (Batch (None, 16, 16, 64)        256       \n",
      "_________________________________________________________________\n",
      "max_pooling2d_1 (MaxPooling2 (None, 8, 8, 64)          0         \n",
      "_________________________________________________________________\n",
      "conv2d_4 (Conv2D)            (None, 8, 8, 128)         73856     \n",
      "_________________________________________________________________\n",
      "batch_normalization_4 (Batch (None, 8, 8, 128)         512       \n",
      "_________________________________________________________________\n",
      "conv2d_5 (Conv2D)            (None, 8, 8, 128)         147584    \n",
      "_________________________________________________________________\n",
      "batch_normalization_5 (Batch (None, 8, 8, 128)         512       \n",
      "_________________________________________________________________\n",
      "max_pooling2d_2 (MaxPooling2 (None, 4, 4, 128)         0         \n",
      "_________________________________________________________________\n",
      "flatten (Flatten)            (None, 2048)              0         \n",
      "_________________________________________________________________\n",
      "dropout (Dropout)            (None, 2048)              0         \n",
      "_________________________________________________________________\n",
      "dense (Dense)                (None, 1024)              2098176   \n",
      "_________________________________________________________________\n",
      "dropout_1 (Dropout)          (None, 1024)              0         \n",
      "_________________________________________________________________\n",
      "dense_1 (Dense)              (None, 10)                10250     \n",
      "=================================================================\n",
      "Total params: 2,397,226\n",
      "Trainable params: 2,396,330\n",
      "Non-trainable params: 896\n",
      "_________________________________________________________________\n"
     ]
    }
   ],
   "source": [
    "# Now that the model is so large, it's useful to summarize it\n",
    "model.summary()"
   ]
  }
 ],
 "metadata": {
  "accelerator": "GPU",
  "colab": {
   "collapsed_sections": [],
   "name": "Copy of TF2.0 CIFAR Improved.ipynb",
   "provenance": []
  },
  "kernelspec": {
   "display_name": "Python 3 (ipykernel)",
   "language": "python",
   "name": "python3"
  },
  "language_info": {
   "codemirror_mode": {
    "name": "ipython",
    "version": 3
   },
   "file_extension": ".py",
   "mimetype": "text/x-python",
   "name": "python",
   "nbconvert_exporter": "python",
   "pygments_lexer": "ipython3",
   "version": "3.10.9"
  }
 },
 "nbformat": 4,
 "nbformat_minor": 1
}
