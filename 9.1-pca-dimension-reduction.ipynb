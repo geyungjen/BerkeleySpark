{
 "cells": [
  {
   "cell_type": "code",
   "execution_count": 1,
   "id": "f8d85ac6",
   "metadata": {},
   "outputs": [
    {
     "name": "stderr",
     "output_type": "stream",
     "text": [
      "Setting default log level to \"WARN\".\n",
      "To adjust logging level use sc.setLogLevel(newLevel). For SparkR, use setLogLevel(newLevel).\n"
     ]
    },
    {
     "name": "stdout",
     "output_type": "stream",
     "text": [
      "23/05/21 21:16:13 WARN NativeCodeLoader: Unable to load native-hadoop library for your platform... using builtin-java classes where applicable\n",
      "23/05/21 21:16:14 WARN Utils: Service 'SparkUI' could not bind on port 4040. Attempting port 4041.\n",
      "23/05/21 21:16:14 WARN Utils: Service 'SparkUI' could not bind on port 4041. Attempting port 4042.\n"
     ]
    }
   ],
   "source": [
    "from pyspark.sql import SparkSession\n",
    "\n",
    "spark = SparkSession \\\n",
    "    .builder \\\n",
    "    .appName(\"Python Spark PCA example\") \\\n",
    "    .config(\"spark.some.config.option\", \"some-value\") \\\n",
    "    .getOrCreate()\n"
   ]
  },
  {
   "cell_type": "code",
   "execution_count": 2,
   "id": "5874c6b0",
   "metadata": {},
   "outputs": [
    {
     "name": "stderr",
     "output_type": "stream",
     "text": [
      "\r",
      "[Stage 0:>                                                          (0 + 1) / 1]\r",
      "\r",
      "                                                                                \r"
     ]
    }
   ],
   "source": [
    "df = spark.read.json(\"data/iris.json\")"
   ]
  },
  {
   "cell_type": "code",
   "execution_count": 3,
   "id": "cdc3ff0c",
   "metadata": {},
   "outputs": [
    {
     "name": "stdout",
     "output_type": "stream",
     "text": [
      "+-----------+------------+-----------+------------+-----------+\n",
      "|      class|petal_length|petal_width|sepal_length|sepal_width|\n",
      "+-----------+------------+-----------+------------+-----------+\n",
      "|Iris-setosa|         1.4|        0.2|         5.1|        3.5|\n",
      "|Iris-setosa|         1.4|        0.2|         4.9|        3.0|\n",
      "|Iris-setosa|         1.3|        0.2|         4.7|        3.2|\n",
      "|Iris-setosa|         1.5|        0.2|         4.6|        3.1|\n",
      "|Iris-setosa|         1.4|        0.2|         5.0|        3.6|\n",
      "+-----------+------------+-----------+------------+-----------+\n",
      "only showing top 5 rows\n",
      "\n",
      "root\n",
      " |-- class: string (nullable = true)\n",
      " |-- petal_length: double (nullable = true)\n",
      " |-- petal_width: double (nullable = true)\n",
      " |-- sepal_length: double (nullable = true)\n",
      " |-- sepal_width: double (nullable = true)\n",
      "\n"
     ]
    }
   ],
   "source": [
    "df.show(5)\n",
    "df.printSchema()"
   ]
  },
  {
   "cell_type": "code",
   "execution_count": 4,
   "id": "90ca03dd",
   "metadata": {},
   "outputs": [
    {
     "name": "stdout",
     "output_type": "stream",
     "text": [
      "+-------+--------------+------------------+------------------+------------------+-------------------+\n",
      "|summary|         class|      petal_length|       petal_width|      sepal_length|        sepal_width|\n",
      "+-------+--------------+------------------+------------------+------------------+-------------------+\n",
      "|  count|           150|               150|               150|               150|                150|\n",
      "|   mean|          null|3.7580000000000027| 1.199333333333334| 5.843333333333335|  3.057333333333334|\n",
      "| stddev|          null|1.7652982332594662|0.7622376689603467|0.8280661279778637|0.43586628493669793|\n",
      "|    min|   Iris-setosa|               1.0|               0.1|               4.3|                2.0|\n",
      "|    max|Iris-virginica|               6.9|               2.5|               7.9|                4.4|\n",
      "+-------+--------------+------------------+------------------+------------------+-------------------+\n",
      "\n"
     ]
    }
   ],
   "source": [
    "df.describe().show()"
   ]
  },
  {
   "cell_type": "code",
   "execution_count": 5,
   "id": "0e6d1a22",
   "metadata": {},
   "outputs": [],
   "source": [
    "from pyspark.ml.feature import PCA, VectorAssembler\n",
    "from pyspark.mllib.linalg import Vectors\n",
    "from pyspark.ml import Pipeline\n",
    "from pyspark.mllib.feature import Normalizer\n",
    "import numpy as np\n",
    "import matplotlib.pyplot as plt\n",
    "from scipy.stats import kde"
   ]
  },
  {
   "cell_type": "code",
   "execution_count": 6,
   "id": "ebf1e1bd",
   "metadata": {},
   "outputs": [],
   "source": [
    "vecAssembler = VectorAssembler(inputCols=[\"sepal_width\", \"sepal_length\", \"petal_width\", \"petal_length\"], \\\n",
    "                               outputCol=\"features\")"
   ]
  },
  {
   "cell_type": "code",
   "execution_count": 7,
   "id": "f265861c",
   "metadata": {},
   "outputs": [],
   "source": [
    "pca = PCA(k=2, inputCol=\"features\", outputCol=\"pcaFeatures\")"
   ]
  },
  {
   "cell_type": "code",
   "execution_count": 8,
   "id": "d7f246fc",
   "metadata": {},
   "outputs": [],
   "source": [
    "pipeline = Pipeline(stages=[vecAssembler, pca])"
   ]
  },
  {
   "cell_type": "code",
   "execution_count": 9,
   "id": "0d7c4c48",
   "metadata": {},
   "outputs": [
    {
     "name": "stderr",
     "output_type": "stream",
     "text": [
      "\r",
      "[Stage 9:>                                                          (0 + 1) / 1]\r",
      "\r",
      "                                                                                \r"
     ]
    },
    {
     "name": "stdout",
     "output_type": "stream",
     "text": [
      "23/05/21 21:17:29 WARN InstanceBuilder$NativeBLAS: Failed to load implementation from:dev.ludovic.netlib.blas.JNIBLAS\n",
      "23/05/21 21:17:29 WARN InstanceBuilder$NativeBLAS: Failed to load implementation from:dev.ludovic.netlib.blas.ForeignLinkerBLAS\n",
      "23/05/21 21:17:29 WARN LAPACK: Failed to load implementation from: com.github.fommil.netlib.NativeSystemLAPACK\n",
      "23/05/21 21:17:29 WARN LAPACK: Failed to load implementation from: com.github.fommil.netlib.NativeRefLAPACK\n"
     ]
    }
   ],
   "source": [
    "model = pipeline.fit(df)\n"
   ]
  },
  {
   "cell_type": "code",
   "execution_count": 18,
   "id": "9219e41c",
   "metadata": {},
   "outputs": [
    {
     "name": "stderr",
     "output_type": "stream",
     "text": [
      "\r",
      "[Stage 12:>                                                         (0 + 1) / 1]\r",
      "\r",
      "                                                                                \r"
     ]
    }
   ],
   "source": [
    "xy = model.transform(df).select(\"pcaFeatures\").rdd.map(lambda row: [row[0][0], row[0][1]]).collect()"
   ]
  },
  {
   "cell_type": "code",
   "execution_count": 19,
   "id": "8ab91588",
   "metadata": {},
   "outputs": [
    {
     "data": {
      "text/plain": [
       "[[2.8182395066394674, -5.646349823412795],\n",
       " [2.788223445314679, -5.1499513517629145],\n",
       " [2.6133745635497077, -5.182003150742136],\n",
       " [2.7570222769675947, -5.008653597575778],\n",
       " [2.773648596054474, -5.653707089762614],\n",
       " [3.221505499764512, -6.068283025890608],\n",
       " [2.6818273818683958, -5.2374911922991245],\n",
       " [2.8762201594623713, -5.490337536526023],\n",
       " [2.615982400828451, -4.74864082264099],\n",
       " [2.8296093347880507, -5.2131783309535775],\n",
       " [2.995418041957149, -5.972021475476269],\n",
       " [2.8896099017002816, -5.341682515989069],\n",
       " [2.716255866420987, -5.091840576625977],\n",
       " [2.278561388743352, -4.815557989821312],\n",
       " [2.8576147426669745, -6.50571721326527],\n",
       " [3.116326099077871, -6.665014907228346],\n",
       " [2.878837257384578, -6.137632091008951],\n",
       " [2.8540684263546225, -5.638801721421048],\n",
       " [3.302544808991424, -6.199791615789906],\n",
       " [2.9143787327302357, -5.840512885576971],\n",
       " [3.192108917366486, -5.718298512481589],\n",
       " [2.958659903851848, -5.759948640106722],\n",
       " [2.2864257169603928, -5.460420646366219],\n",
       " [3.199631950382797, -5.425661431641793],\n",
       " [3.1466110834852317, -5.289670717150312],\n",
       " [2.995696225683183, -5.180935696332428],\n",
       " [3.0335450594876656, -5.4579040662629446],\n",
       " [2.9400452264129884, -5.6946714342618945],\n",
       " [2.862830417224462, -5.638992557062977],\n",
       " [2.8703757453346586, -5.12999135190338],\n",
       " [2.914966655919652, -5.122634085553561],\n",
       " [3.092432635606829, -5.737876841057267],\n",
       " [2.8535027982590924, -6.140316397124656],\n",
       " [2.9036283835084173, -6.420098336277051],\n",
       " [2.8654382545032053, -5.205630228961831],\n",
       " [2.6361234804903346, -5.396317048407775],\n",
       " [2.8771270827586317, -5.9263225982071175],\n",
       " [2.701681017160783, -5.595596314625677],\n",
       " [2.5218630888270113, -4.838994232399078],\n",
       " [2.912358818640908, -5.555996413654707],\n",
       " [2.732262706581103, -5.59048011057195],\n",
       " [2.652996427565901, -4.385992003186497],\n",
       " [2.504958586014097, -4.985026519356084],\n",
       " [3.0967506475115187, -5.515824005757954],\n",
       " [3.292875894825325, -5.763615718466882],\n",
       " [2.787913705851297, -5.076744372642484],\n",
       " [2.9642168736100647, -5.830723721289132],\n",
       " [2.662902964966154, -5.099007007333866],\n",
       " [2.9592793827786115, -5.906362598347584],\n",
       " [2.799005350273845, -5.434658659327106],\n",
       " [6.787190821467355, -6.012113047295003],\n",
       " [6.434853664921323, -5.645286215090324],\n",
       " [6.9666674546003975, -5.831215392136899],\n",
       " [5.685682852567375, -4.498993565007063],\n",
       " [6.59046839032067, -5.4015432520254105],\n",
       " [6.144034216867082, -4.908705705259016],\n",
       " [6.597425795241451, -5.610420846889223],\n",
       " [4.7532424627793475, -4.322061615645799],\n",
       " [6.5464969586624395, -5.55531447661609],\n",
       " [5.493619728526108, -4.603870671822859],\n",
       " [4.994524248773678, -4.060981386301301],\n",
       " [6.014063690056601, -5.222971341328654],\n",
       " [5.767341640721051, -4.77691611314722],\n",
       " [6.487299643079894, -5.202134722701337],\n",
       " [5.328439760927236, -5.072098368125104],\n",
       " [6.430225913553252, -5.794132071269205],\n",
       " [6.162648894305941, -4.973982911103843],\n",
       " [5.738470125926677, -4.9933418100027795],\n",
       " [6.4470988606288175, -4.783807026047929],\n",
       " [5.547592108907704, -4.7431181993558305],\n",
       " [6.618648309959053, -5.242335724632906],\n",
       " [5.860253550606312, -5.2580275451716805],\n",
       " [6.800549007967918, -4.999165268493778],\n",
       " [6.424094055056042, -5.144214783206327],\n",
       " [6.217218458520415, -5.476008521197479],\n",
       " [6.402539505781171, -5.655457050662018],\n",
       " [6.834389569331092, -5.571393452844038],\n",
       " [7.060167287675075, -5.594448024137949],\n",
       " [6.315655782426546, -5.163602276140078],\n",
       " [5.1967813545846955, -4.958690387073106],\n",
       " [5.43423864054064, -4.62178044502823],\n",
       " [5.3127426602305015, -4.6466658132995615],\n",
       " [5.638793844167019, -5.012920138578457],\n",
       " [6.882391568524515, -4.905998289513812],\n",
       " [6.090371575948868, -4.842665156846476],\n",
       " [6.309223445109417, -5.521134891540845],\n",
       " [6.723056015053357, -5.734572170438701],\n",
       " [6.317460368375604, -4.954915516918193],\n",
       " [5.748322812495697, -5.058428180205679],\n",
       " [5.6687783497544615, -4.645025851964068],\n",
       " [5.967165421012783, -4.656241032315974],\n",
       " [6.393180331078454, -5.292488132459425],\n",
       " [5.732913156168459, -4.92256672882037],\n",
       " [4.797833373364341, -4.3147043492959805],\n",
       " [5.859346627310051, -4.822042483490585],\n",
       " [5.834299612554062, -5.114297893046524],\n",
       " [5.878580783675675, -5.033733647576275],\n",
       " [6.144941140163342, -5.3446907669401105],\n",
       " [4.595895267660168, -4.57085921022868],\n",
       " [5.8013659744871475, -4.9780547703773586],\n",
       " [8.033557860412632, -5.3171034673288915],\n",
       " [6.917601009312906, -4.752036229281205],\n",
       " [8.119041148604694, -5.67085572816943],\n",
       " [7.473896185652439, -5.14722467247545],\n",
       " [7.852371052653645, -5.286691629685164],\n",
       " [8.899403868662262, -5.877789249855751],\n",
       " [6.023597376518778, -4.1341938498270485],\n",
       " [8.434952201602693, -5.682452579805192],\n",
       " [7.823593949182381, -5.083121074517004],\n",
       " [8.419116099395076, -6.109744525642973],\n",
       " [7.164139286245535, -5.569180984582761],\n",
       " [7.305767085574095, -5.111314959494139],\n",
       " [7.667956928689149, -5.54322816190172],\n",
       " [6.848528712067456, -4.550134229483354],\n",
       " [7.088293356482225, -4.7873118628009745],\n",
       " [7.406821507402431, -5.4462032689196676],\n",
       " [7.452054192008074, -5.368895836490907],\n",
       " [8.989420496899282, -6.5026919065411235],\n",
       " [9.298010554681888, -5.584275550248175],\n",
       " [6.8031568452466615, -4.565802940392631],\n",
       " [7.93018304567505, -5.705148589444745],\n",
       " [6.701366238074565, -4.720861049069763],\n",
       " [9.00228517153354, -5.78762667573959],\n",
       " [6.891131264300469, -5.122553249475544],\n",
       " [7.777795636481208, -5.661943182649372],\n",
       " [8.116455606419835, -5.887853931950772],\n",
       " [6.760873293120492, -5.147247782104947],\n",
       " [6.793497191724025, -5.210283925653684],\n",
       " [7.625973855382899, -5.117223100150392],\n",
       " [7.890368148612472, -5.791592381536431],\n",
       " [8.344037910712874, -5.702221744022799],\n",
       " [8.733038794041097, -6.701117663620742],\n",
       " [7.661802775098053, -5.109674998158646],\n",
       " [6.9465263749385135, -5.183539166370114],\n",
       " [7.283659942654117, -4.827050895749559],\n",
       " [8.578865064296192, -6.0150382543988705],\n",
       " [7.6466084469110855, -5.467016777917484],\n",
       " [7.407463281423079, -5.3762531028407246],\n",
       " [6.6716914719505045, -5.161962314804584],\n",
       " [7.609976275866246, -5.699240448788492],\n",
       " [7.816519837844604, -5.510603855996713],\n",
       " [7.424632933511605, -5.736156043643756],\n",
       " [6.917601009312906, -4.752036229281205],\n",
       " [8.065378507686479, -5.604815179756889],\n",
       " [7.921111315341829, -5.631750774682386],\n",
       " [7.446474927155972, -5.5144848796283],\n",
       " [7.029531747423521, -4.951635594247207],\n",
       " [7.266710849653434, -5.405811431346171],\n",
       " [7.403306746827427, -5.443580535339717],\n",
       " [6.892553994556918, -5.0442916388371435]]"
      ]
     },
     "execution_count": 19,
     "metadata": {},
     "output_type": "execute_result"
    }
   ],
   "source": [
    "xy"
   ]
  },
  {
   "cell_type": "code",
   "execution_count": 56,
   "id": "0e05ae2f",
   "metadata": {},
   "outputs": [],
   "source": [
    "x=np.array(list(zip(*xy))[0])\n",
    "y=np.array(list(zip(*xy))[1])"
   ]
  },
  {
   "cell_type": "code",
   "execution_count": 58,
   "id": "1f8e9509",
   "metadata": {},
   "outputs": [
    {
     "data": {
      "text/plain": [
       "array([2.81823951, 2.78822345, 2.61337456, 2.75702228, 2.7736486 ,\n",
       "       3.2215055 , 2.68182738, 2.87622016, 2.6159824 , 2.82960933,\n",
       "       2.99541804, 2.8896099 , 2.71625587, 2.27856139, 2.85761474,\n",
       "       3.1163261 , 2.87883726, 2.85406843, 3.30254481, 2.91437873,\n",
       "       3.19210892, 2.9586599 , 2.28642572, 3.19963195, 3.14661108,\n",
       "       2.99569623, 3.03354506, 2.94004523, 2.86283042, 2.87037575,\n",
       "       2.91496666, 3.09243264, 2.8535028 , 2.90362838, 2.86543825,\n",
       "       2.63612348, 2.87712708, 2.70168102, 2.52186309, 2.91235882,\n",
       "       2.73226271, 2.65299643, 2.50495859, 3.09675065, 3.29287589,\n",
       "       2.78791371, 2.96421687, 2.66290296, 2.95927938, 2.79900535,\n",
       "       6.78719082, 6.43485366, 6.96666745, 5.68568285, 6.59046839,\n",
       "       6.14403422, 6.5974258 , 4.75324246, 6.54649696, 5.49361973,\n",
       "       4.99452425, 6.01406369, 5.76734164, 6.48729964, 5.32843976,\n",
       "       6.43022591, 6.16264889, 5.73847013, 6.44709886, 5.54759211,\n",
       "       6.61864831, 5.86025355, 6.80054901, 6.42409406, 6.21721846,\n",
       "       6.40253951, 6.83438957, 7.06016729, 6.31565578, 5.19678135,\n",
       "       5.43423864, 5.31274266, 5.63879384, 6.88239157, 6.09037158,\n",
       "       6.30922345, 6.72305602, 6.31746037, 5.74832281, 5.66877835,\n",
       "       5.96716542, 6.39318033, 5.73291316, 4.79783337, 5.85934663,\n",
       "       5.83429961, 5.87858078, 6.14494114, 4.59589527, 5.80136597,\n",
       "       8.03355786, 6.91760101, 8.11904115, 7.47389619, 7.85237105,\n",
       "       8.89940387, 6.02359738, 8.4349522 , 7.82359395, 8.4191161 ,\n",
       "       7.16413929, 7.30576709, 7.66795693, 6.84852871, 7.08829336,\n",
       "       7.40682151, 7.45205419, 8.9894205 , 9.29801055, 6.80315685,\n",
       "       7.93018305, 6.70136624, 9.00228517, 6.89113126, 7.77779564,\n",
       "       8.11645561, 6.76087329, 6.79349719, 7.62597386, 7.89036815,\n",
       "       8.34403791, 8.73303879, 7.66180278, 6.94652637, 7.28365994,\n",
       "       8.57886506, 7.64660845, 7.40746328, 6.67169147, 7.60997628,\n",
       "       7.81651984, 7.42463293, 6.91760101, 8.06537851, 7.92111132,\n",
       "       7.44647493, 7.02953175, 7.26671085, 7.40330675, 6.89255399])"
      ]
     },
     "execution_count": 58,
     "metadata": {},
     "output_type": "execute_result"
    }
   ],
   "source": [
    "x"
   ]
  },
  {
   "cell_type": "code",
   "execution_count": 59,
   "id": "246243b1",
   "metadata": {},
   "outputs": [
    {
     "data": {
      "text/plain": [
       "array([-5.64634982, -5.14995135, -5.18200315, -5.0086536 , -5.65370709,\n",
       "       -6.06828303, -5.23749119, -5.49033754, -4.74864082, -5.21317833,\n",
       "       -5.97202148, -5.34168252, -5.09184058, -4.81555799, -6.50571721,\n",
       "       -6.66501491, -6.13763209, -5.63880172, -6.19979162, -5.84051289,\n",
       "       -5.71829851, -5.75994864, -5.46042065, -5.42566143, -5.28967072,\n",
       "       -5.1809357 , -5.45790407, -5.69467143, -5.63899256, -5.12999135,\n",
       "       -5.12263409, -5.73787684, -6.1403164 , -6.42009834, -5.20563023,\n",
       "       -5.39631705, -5.9263226 , -5.59559631, -4.83899423, -5.55599641,\n",
       "       -5.59048011, -4.385992  , -4.98502652, -5.51582401, -5.76361572,\n",
       "       -5.07674437, -5.83072372, -5.09900701, -5.9063626 , -5.43465866,\n",
       "       -6.01211305, -5.64528622, -5.83121539, -4.49899357, -5.40154325,\n",
       "       -4.90870571, -5.61042085, -4.32206162, -5.55531448, -4.60387067,\n",
       "       -4.06098139, -5.22297134, -4.77691611, -5.20213472, -5.07209837,\n",
       "       -5.79413207, -4.97398291, -4.99334181, -4.78380703, -4.7431182 ,\n",
       "       -5.24233572, -5.25802755, -4.99916527, -5.14421478, -5.47600852,\n",
       "       -5.65545705, -5.57139345, -5.59444802, -5.16360228, -4.95869039,\n",
       "       -4.62178045, -4.64666581, -5.01292014, -4.90599829, -4.84266516,\n",
       "       -5.52113489, -5.73457217, -4.95491552, -5.05842818, -4.64502585,\n",
       "       -4.65624103, -5.29248813, -4.92256673, -4.31470435, -4.82204248,\n",
       "       -5.11429789, -5.03373365, -5.34469077, -4.57085921, -4.97805477,\n",
       "       -5.31710347, -4.75203623, -5.67085573, -5.14722467, -5.28669163,\n",
       "       -5.87778925, -4.13419385, -5.68245258, -5.08312107, -6.10974453,\n",
       "       -5.56918098, -5.11131496, -5.54322816, -4.55013423, -4.78731186,\n",
       "       -5.44620327, -5.36889584, -6.50269191, -5.58427555, -4.56580294,\n",
       "       -5.70514859, -4.72086105, -5.78762668, -5.12255325, -5.66194318,\n",
       "       -5.88785393, -5.14724778, -5.21028393, -5.1172231 , -5.79159238,\n",
       "       -5.70222174, -6.70111766, -5.109675  , -5.18353917, -4.8270509 ,\n",
       "       -6.01503825, -5.46701678, -5.3762531 , -5.16196231, -5.69924045,\n",
       "       -5.51060386, -5.73615604, -4.75203623, -5.60481518, -5.63175077,\n",
       "       -5.51448488, -4.95163559, -5.40581143, -5.44358054, -5.04429164])"
      ]
     },
     "execution_count": 59,
     "metadata": {},
     "output_type": "execute_result"
    }
   ],
   "source": [
    "y"
   ]
  },
  {
   "cell_type": "code",
   "execution_count": 60,
   "id": "71114689",
   "metadata": {},
   "outputs": [
    {
     "data": {
      "image/png": "[encoded data removed]",
      "text/plain": [
       "<Figure size 640x480 with 1 Axes>"
      ]
     },
     "metadata": {},
     "output_type": "display_data"
    }
   ],
   "source": [
    "plt.scatter(x,y)\n",
    "plt.show()"
   ]
  },
  {
   "cell_type": "code",
   "execution_count": 61,
   "id": "3ca3d7e8",
   "metadata": {},
   "outputs": [
    {
     "data": {
      "image/png": "[encoded data removed]",
      "text/plain": [
       "<Figure size 640x480 with 1 Axes>"
      ]
     },
     "metadata": {},
     "output_type": "display_data"
    }
   ],
   "source": [
    "plt.hexbin(x,y,  gridsize=30)\n",
    "plt.show()\n"
   ]
  },
  {
   "cell_type": "code",
   "execution_count": 62,
   "id": "5f643522",
   "metadata": {},
   "outputs": [
    {
     "name": "stderr",
     "output_type": "stream",
     "text": [
      "/var/folders/4q/synq9nts6dz2rwxkqkt0q8fc0000gn/T/ipykernel_1234/2060919539.py:3: DeprecationWarning: Please use `gaussian_kde` from the `scipy.stats` namespace, the `scipy.stats.kde` namespace is deprecated.\n",
      "  k = kde.gaussian_kde(np.transpose(xy))\n"
     ]
    },
    {
     "data": {
      "image/png": "[encoded data removed]",
      "text/plain": [
       "<Figure size 640x480 with 1 Axes>"
      ]
     },
     "metadata": {},
     "output_type": "display_data"
    }
   ],
   "source": [
    "nbins = 55\n",
    "\n",
    "k = kde.gaussian_kde(np.transpose(xy))\n",
    "xi, yi = np.mgrid[x.min():x.max():nbins*1j, y.min():y.max():nbins*1j]\n",
    "zi = k(np.vstack([xi.flatten(), yi.flatten()]))\n",
    "plt.pcolormesh(xi, yi, zi.reshape(xi.shape))\n",
    "plt.show()"
   ]
  },
  {
   "cell_type": "code",
   "execution_count": null,
   "id": "e9c6e90e",
   "metadata": {},
   "outputs": [],
   "source": []
  }
 ],
 "metadata": {
  "kernelspec": {
   "display_name": "Python 3 (ipykernel)",
   "language": "python",
   "name": "python3"
  },
  "language_info": {
   "codemirror_mode": {
    "name": "ipython",
    "version": 3
   },
   "file_extension": ".py",
   "mimetype": "text/x-python",
   "name": "python",
   "nbconvert_exporter": "python",
   "pygments_lexer": "ipython3",
   "version": "3.10.9"
  }
 },
 "nbformat": 4,
 "nbformat_minor": 5
}
