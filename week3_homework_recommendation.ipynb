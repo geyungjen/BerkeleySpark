{
 "cells": [
  {
   "cell_type": "code",
   "execution_count": 1,
   "id": "b38da442",
   "metadata": {},
   "outputs": [
    {
     "name": "stderr",
     "output_type": "stream",
     "text": [
      "Setting default log level to \"WARN\".\n",
      "To adjust logging level use sc.setLogLevel(newLevel). For SparkR, use setLogLevel(newLevel).\n"
     ]
    },
    {
     "name": "stdout",
     "output_type": "stream",
     "text": [
      "23/03/24 23:51:28 WARN NativeCodeLoader: Unable to load native-hadoop library for your platform... using builtin-java classes where applicable\n"
     ]
    }
   ],
   "source": [
    "# create entry points to spark\n",
    "try:\n",
    "    sc.stop()\n",
    "except:\n",
    "    pass\n",
    "from pyspark import SparkContext, SparkConf\n",
    "from pyspark.sql import SparkSession\n",
    "sc=SparkContext()\n",
    "spark = SparkSession(sparkContext=sc)"
   ]
  },
  {
   "cell_type": "code",
   "execution_count": 2,
   "id": "63175102",
   "metadata": {},
   "outputs": [],
   "source": [
    "from pyspark.ml.evaluation import RegressionEvaluator\n",
    "from pyspark.ml.recommendation import ALS\n",
    "from pyspark.sql import Row"
   ]
  },
  {
   "cell_type": "code",
   "execution_count": 3,
   "id": "824a1f94",
   "metadata": {},
   "outputs": [],
   "source": [
    "# $example on$\n",
    "lines = spark.read.text(\"data/sample_movielens_ratings.txt\").rdd\n",
    "parts = lines.map(lambda row: row.value.split(\"::\"))\n",
    "ratingsRDD = parts.map(lambda p: Row(userId=int(p[0]), movieId=int(p[1]),\n",
    "                                         rating=float(p[2]), timestamp=int(p[3])))\n",
    "\n",
    "    \n",
    "    "
   ]
  },
  {
   "cell_type": "code",
   "execution_count": 4,
   "id": "c05fc859",
   "metadata": {},
   "outputs": [
    {
     "name": "stderr",
     "output_type": "stream",
     "text": [
      "                                                                                \r"
     ]
    }
   ],
   "source": [
    "ratings = spark.createDataFrame(ratingsRDD)\n",
    "(training, test) = ratings.randomSplit([0.8, 0.2])"
   ]
  },
  {
   "cell_type": "code",
   "execution_count": 5,
   "id": "774c16b0",
   "metadata": {},
   "outputs": [
    {
     "name": "stdout",
     "output_type": "stream",
     "text": [
      "+------+-------+------+----------+\n",
      "|userId|movieId|rating| timestamp|\n",
      "+------+-------+------+----------+\n",
      "|     0|      2|   3.0|1424380312|\n",
      "|     0|      3|   1.0|1424380312|\n",
      "|     0|      5|   2.0|1424380312|\n",
      "|     0|      9|   4.0|1424380312|\n",
      "|     0|     11|   1.0|1424380312|\n",
      "+------+-------+------+----------+\n",
      "only showing top 5 rows\n",
      "\n"
     ]
    }
   ],
   "source": [
    "ratings.show(5)"
   ]
  },
  {
   "cell_type": "code",
   "execution_count": 6,
   "id": "41566dff",
   "metadata": {},
   "outputs": [],
   "source": [
    "# Build the recommendation model using ALS on the training data\n",
    "# Note we set cold start strategy to 'drop' to ensure we don't get NaN evaluation metrics\n",
    "als = ALS(maxIter=5, regParam=0.01, userCol=\"userId\", itemCol=\"movieId\", ratingCol=\"rating\",coldStartStrategy=\"drop\")\n"
   ]
  },
  {
   "cell_type": "code",
   "execution_count": 8,
   "id": "552357b5",
   "metadata": {},
   "outputs": [],
   "source": [
    "model = als.fit(training)"
   ]
  },
  {
   "cell_type": "code",
   "execution_count": 9,
   "id": "4fe6000d",
   "metadata": {},
   "outputs": [],
   "source": [
    "# Evaluate the model by computing the RMSE on the test data\n",
    "predictions = model.transform(test)\n",
    "evaluator = RegressionEvaluator(metricName=\"rmse\", labelCol=\"rating\",\n",
    "                                    predictionCol=\"prediction\")"
   ]
  },
  {
   "cell_type": "code",
   "execution_count": 10,
   "id": "f0c53081",
   "metadata": {},
   "outputs": [
    {
     "name": "stdout",
     "output_type": "stream",
     "text": [
      "Root-mean-square error = 1.948879688281409\n"
     ]
    }
   ],
   "source": [
    "rmse = evaluator.evaluate(predictions)\n",
    "print(\"Root-mean-square error = \" + str(rmse))"
   ]
  },
  {
   "cell_type": "code",
   "execution_count": 11,
   "id": "c9439295",
   "metadata": {},
   "outputs": [],
   "source": [
    "# Generate top 10 movie recommendations for each user\n",
    "userRecs = model.recommendForAllUsers(10)\n",
    "# Generate top 10 user recommendations for each movie\n",
    "movieRecs = model.recommendForAllItems(10)\n"
   ]
  },
  {
   "cell_type": "code",
   "execution_count": 12,
   "id": "75e46e44",
   "metadata": {},
   "outputs": [],
   "source": [
    "# Generate top 10 movie recommendations for a specified set of users\n",
    "users = ratings.select(als.getUserCol()).distinct().limit(3)\n",
    "userSubsetRecs = model.recommendForUserSubset(users, 10)\n",
    "# Generate top 10 user recommendations for a specified set of movies\n",
    "movies = ratings.select(als.getItemCol()).distinct().limit(3)\n",
    "movieSubSetRecs = model.recommendForItemSubset(movies, 10)"
   ]
  },
  {
   "cell_type": "code",
   "execution_count": 13,
   "id": "b06aa0d2",
   "metadata": {},
   "outputs": [
    {
     "name": "stderr",
     "output_type": "stream",
     "text": [
      "                                                                                \r"
     ]
    },
    {
     "name": "stdout",
     "output_type": "stream",
     "text": [
      "+------+--------------------+\n",
      "|userId|     recommendations|\n",
      "+------+--------------------+\n",
      "|    20|[{85, 4.3316855},...|\n",
      "|    10|[{33, 3.575376}, ...|\n",
      "|     0|[{35, 5.8521013},...|\n",
      "|     1|[{90, 3.3965433},...|\n",
      "|    21|[{53, 4.7845592},...|\n",
      "|    11|[{92, 5.128945}, ...|\n",
      "|    12|[{55, 5.627646}, ...|\n",
      "|    22|[{75, 5.30284}, {...|\n",
      "|     2|[{83, 5.010873}, ...|\n",
      "|    13|[{12, 4.064616}, ...|\n",
      "|     3|[{25, 4.4697685},...|\n",
      "|    23|[{55, 5.117123}, ...|\n",
      "|     4|[{29, 4.2114444},...|\n",
      "|    24|[{29, 5.2828274},...|\n",
      "|    14|[{29, 5.2489023},...|\n",
      "|     5|[{12, 5.4350953},...|\n",
      "|    15|[{46, 4.834661}, ...|\n",
      "|    25|[{25, 4.897312}, ...|\n",
      "|    26|[{25, 8.854281}, ...|\n",
      "|     6|[{7, 5.0961113}, ...|\n",
      "+------+--------------------+\n",
      "only showing top 20 rows\n",
      "\n"
     ]
    },
    {
     "name": "stderr",
     "output_type": "stream",
     "text": [
      "                                                                                \r"
     ]
    },
    {
     "name": "stdout",
     "output_type": "stream",
     "text": [
      "+-------+--------------------+\n",
      "|movieId|     recommendations|\n",
      "+-------+--------------------+\n",
      "|     20|[{17, 5.0345144},...|\n",
      "|     40|[{2, 3.9393625}, ...|\n",
      "|     10|[{23, 4.005292}, ...|\n",
      "|     50|[{23, 4.1255255},...|\n",
      "|     80|[{22, 5.1170826},...|\n",
      "|     70|[{8, 2.8972762}, ...|\n",
      "|     60|[{22, 3.6179614},...|\n",
      "|     90|[{18, 5.797745}, ...|\n",
      "|     30|[{11, 5.1025567},...|\n",
      "|      0|[{10, 2.7572548},...|\n",
      "|     31|[{17, 5.19856}, {...|\n",
      "|     81|[{18, 2.9756026},...|\n",
      "|     91|[{25, 3.017788}, ...|\n",
      "|      1|[{17, 4.7343554},...|\n",
      "|     41|[{26, 3.8548021},...|\n",
      "|     61|[{17, 3.0230694},...|\n",
      "|     51|[{22, 4.739072}, ...|\n",
      "|     21|[{16, 2.382642}, ...|\n",
      "|     11|[{16, 4.443137}, ...|\n",
      "|     71|[{25, 3.4805229},...|\n",
      "+-------+--------------------+\n",
      "only showing top 20 rows\n",
      "\n",
      "+------+--------------------+\n",
      "|userId|     recommendations|\n",
      "+------+--------------------+\n",
      "|    26|[{25, 8.854281}, ...|\n",
      "|    19|[{29, 4.961192}, ...|\n",
      "|    29|[{46, 5.16579}, {...|\n",
      "+------+--------------------+\n",
      "\n",
      "+-------+--------------------+\n",
      "|movieId|     recommendations|\n",
      "+-------+--------------------+\n",
      "|     65|[{12, 5.291081}, ...|\n",
      "|     26|[{12, 3.1887531},...|\n",
      "|     29|[{24, 5.2828274},...|\n",
      "+-------+--------------------+\n",
      "\n"
     ]
    }
   ],
   "source": [
    "# $example off$\n",
    "userRecs.show()\n",
    "movieRecs.show()\n",
    "userSubsetRecs.show()\n",
    "movieSubSetRecs.show()\n"
   ]
  },
  {
   "cell_type": "code",
   "execution_count": 14,
   "id": "36da5f34",
   "metadata": {},
   "outputs": [
    {
     "data": {
      "text/plain": [
       "<bound method SparkSession.stop of <pyspark.sql.session.SparkSession object at 0x10f3d30d0>>"
      ]
     },
     "execution_count": 14,
     "metadata": {},
     "output_type": "execute_result"
    },
    {
     "name": "stdout",
     "output_type": "stream",
     "text": [
      "23/03/25 01:28:49 WARN HeartbeatReceiver: Removing executor driver with no recent heartbeats: 1047298 ms exceeds timeout 120000 ms\n",
      "23/03/25 01:28:49 WARN SparkContext: Killing executors is not supported by current scheduler.\n"
     ]
    }
   ],
   "source": [
    "spark.stop"
   ]
  },
  {
   "cell_type": "code",
   "execution_count": null,
   "id": "edce3dd7",
   "metadata": {},
   "outputs": [],
   "source": []
  }
 ],
 "metadata": {
  "kernelspec": {
   "display_name": "Python 3 (ipykernel)",
   "language": "python",
   "name": "python3"
  },
  "language_info": {
   "codemirror_mode": {
    "name": "ipython",
    "version": 3
   },
   "file_extension": ".py",
   "mimetype": "text/x-python",
   "name": "python",
   "nbconvert_exporter": "python",
   "pygments_lexer": "ipython3",
   "version": "3.10.9"
  }
 },
 "nbformat": 4,
 "nbformat_minor": 5
}
